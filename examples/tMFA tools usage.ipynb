{
 "cells": [
  {
   "cell_type": "markdown",
   "metadata": {},
   "source": [
    "## This example show how to use use pytfa in order to calculate thermodynamic MFA and how to get optimal fluxes, concentrations and Gibbs energy"
   ]
  },
  {
   "cell_type": "markdown",
   "metadata": {},
   "source": [
    "Imports and load data"
   ]
  },
  {
   "cell_type": "code",
   "execution_count": 1,
   "metadata": {},
   "outputs": [
    {
     "name": "stdout",
     "output_type": "stream",
     "text": [
      "Using license file /Users/svevol/gurobi.lic\n",
      "Academic license - for non-commercial use only\n"
     ]
    }
   ],
   "source": [
    "from time import time\n",
    "\n",
    "import pytfa\n",
    "from cobra.io import load_json_model\n",
    "from pytfa.io import load_thermoDB, read_lexicon, annotate_from_lexicon, read_compartment_data, apply_compartment_data\n",
    "\n",
    "thermo_data = load_thermoDB('/data/thermo_data.thermodb')\n",
    "cobra_model = load_json_model('data/models/iJO1366.json')\n",
    "\n",
    "lexicon = read_lexicon('data/models/iJO1366/lexicon.csv')\n",
    "compartment_data = read_compartment_data('data/models/iJO1366/compartment_data.json')"
   ]
  },
  {
   "cell_type": "markdown",
   "metadata": {},
   "source": [
    "Initialize"
   ]
  },
  {
   "cell_type": "code",
   "execution_count": 1,
   "metadata": {},
   "outputs": [],
   "source": [
    "import pandas as pd"
   ]
  },
  {
   "cell_type": "code",
   "execution_count": 2,
   "metadata": {},
   "outputs": [
    {
     "name": "stdout",
     "output_type": "stream",
     "text": [
      "Read LP format model from file /var/folders/c1/00y46vps5tv8cw2xr_gsqf0dh403rh/T/tmpv6k9l6s7.lp\n",
      "Reading time = 0.02 seconds\n",
      ": 1807 rows, 5170 columns, 20334 nonzeros\n"
     ]
    },
    {
     "name": "stderr",
     "output_type": "stream",
     "text": [
      "2020-10-16 19:14:11,451 - thermomodel_None - INFO - # Model initialized with units kcal/mol and temperature 298.15 K\n"
     ]
    }
   ],
   "source": [
    "mytfa = pytfa.ThermoModel(thermo_data, cobra_model)\n",
    "\n",
    "annotate_from_lexicon(mytfa, lexicon)\n",
    "apply_compartment_data(mytfa, compartment_data)\n",
    "\n",
    "biomass_rxn = 'Ec_biomass_iJO1366_WT_53p95M'"
   ]
  },
  {
   "cell_type": "markdown",
   "metadata": {},
   "source": [
    "Configuration"
   ]
  },
  {
   "cell_type": "code",
   "execution_count": 3,
   "metadata": {},
   "outputs": [],
   "source": [
    "mytfa.name = 'tutorial_basics'\n",
    "mytfa.objective = biomass_rxn\n",
    "mytfa.solver.problem.Params.NumericFocus = 3\n",
    "mytfa.solver.configuration.tolerances.feasibility = 1e-9\n",
    "mytfa.solver.configuration.presolve = True"
   ]
  },
  {
   "cell_type": "markdown",
   "metadata": {},
   "source": [
    "FBA Solution"
   ]
  },
  {
   "cell_type": "code",
   "execution_count": 4,
   "metadata": {},
   "outputs": [],
   "source": [
    "fba_solution = cobra_model.optimize()\n",
    "fba_value = fba_solution.objective_value"
   ]
  },
  {
   "cell_type": "markdown",
   "metadata": {},
   "source": [
    "TFA conversion"
   ]
  },
  {
   "cell_type": "code",
   "execution_count": 5,
   "metadata": {},
   "outputs": [
    {
     "name": "stderr",
     "output_type": "stream",
     "text": [
      "2020-10-16 19:14:11,753 - thermomodel_None - INFO - # Model preparation starting...\n",
      "2020-10-16 19:14:14,657 - thermomodel_None - WARNING - Warning : NULL/U\n",
      "2020-10-16 19:14:14,658 - thermomodel_None - WARNING - Warning : NULL/L\n",
      "2020-10-16 19:14:14,658 - thermomodel_None - WARNING - Warning : NULL/L\n",
      "2020-10-16 19:14:14,659 - thermomodel_None - WARNING - Warning : NULL/U\n",
      "2020-10-16 19:14:14,660 - thermomodel_None - WARNING - Warning : NULL/L\n",
      "2020-10-16 19:14:14,664 - thermomodel_None - WARNING - Warning : NULL/L\n",
      "2020-10-16 19:14:14,918 - thermomodel_None - WARNING - Warning : NULL/U\n",
      "2020-10-16 19:14:14,918 - thermomodel_None - WARNING - Warning : NULL/L\n",
      "2020-10-16 19:14:14,919 - thermomodel_None - WARNING - Warning : NULL/L\n",
      "2020-10-16 19:14:14,920 - thermomodel_None - WARNING - Warning : NULL/U\n",
      "2020-10-16 19:14:14,923 - thermomodel_None - WARNING - Warning : NULL/L\n",
      "2020-10-16 19:14:14,924 - thermomodel_None - WARNING - Warning : NULL/L\n",
      "2020-10-16 19:14:15,062 - thermomodel_None - WARNING - Warning : NULL/U\n",
      "2020-10-16 19:14:15,063 - thermomodel_None - WARNING - Warning : NULL/L\n",
      "2020-10-16 19:14:15,063 - thermomodel_None - WARNING - Warning : NULL/L\n",
      "2020-10-16 19:14:15,064 - thermomodel_None - WARNING - Warning : NULL/U\n",
      "2020-10-16 19:14:15,066 - thermomodel_None - WARNING - Warning : NULL/L\n",
      "2020-10-16 19:14:15,069 - thermomodel_None - WARNING - Warning : NULL/L\n",
      "2020-10-16 19:14:15,128 - thermomodel_None - WARNING - Warning : NULL/U\n",
      "2020-10-16 19:14:15,129 - thermomodel_None - WARNING - Warning : NULL/L\n",
      "2020-10-16 19:14:15,129 - thermomodel_None - WARNING - Warning : NULL/L\n",
      "2020-10-16 19:14:15,130 - thermomodel_None - WARNING - Warning : NULL/U\n",
      "2020-10-16 19:14:15,135 - thermomodel_None - WARNING - Warning : NULL/L\n",
      "2020-10-16 19:14:15,141 - thermomodel_None - WARNING - Warning : NULL/L\n",
      "2020-10-16 19:14:15,142 - thermomodel_None - WARNING - Warning : NULL/U\n",
      "2020-10-16 19:14:15,144 - thermomodel_None - WARNING - Warning : NULL/L\n",
      "2020-10-16 19:14:15,148 - thermomodel_None - WARNING - Warning : NULL/L\n",
      "2020-10-16 19:14:15,149 - thermomodel_None - WARNING - Warning : NULL/U\n",
      "2020-10-16 19:14:15,149 - thermomodel_None - WARNING - Warning : NULL/L\n",
      "2020-10-16 19:14:15,150 - thermomodel_None - WARNING - Warning : NULL/L\n",
      "2020-10-16 19:14:15,151 - thermomodel_None - WARNING - Warning : NULL/U\n",
      "2020-10-16 19:14:15,152 - thermomodel_None - WARNING - Warning : NULL/L\n",
      "2020-10-16 19:14:15,152 - thermomodel_None - WARNING - Warning : NULL/L\n",
      "2020-10-16 19:14:15,153 - thermomodel_None - WARNING - Warning : NULL/U\n",
      "2020-10-16 19:14:15,154 - thermomodel_None - WARNING - Warning : NULL/L\n",
      "2020-10-16 19:14:15,155 - thermomodel_None - WARNING - Warning : NULL/L\n",
      "2020-10-16 19:14:15,159 - thermomodel_None - WARNING - Warning : NULL/U\n",
      "2020-10-16 19:14:15,162 - thermomodel_None - WARNING - Warning : NULL/L\n",
      "2020-10-16 19:14:15,164 - thermomodel_None - WARNING - Warning : NULL/L\n",
      "2020-10-16 19:14:15,166 - thermomodel_None - WARNING - Warning : NULL/U\n",
      "2020-10-16 19:14:15,169 - thermomodel_None - WARNING - Warning : NULL/L\n",
      "2020-10-16 19:14:15,173 - thermomodel_None - WARNING - Warning : NULL/L\n",
      "2020-10-16 19:14:15,280 - thermomodel_None - INFO - # Model preparation done.\n",
      "2020-10-16 19:14:15,280 - thermomodel_None - INFO - # Model conversion starting...\n",
      "2020-10-16 19:14:59,882 - thermomodel_None - INFO - # Model conversion done.\n",
      "2020-10-16 19:14:59,883 - thermomodel_None - INFO - # Updating cobra_model variables...\n",
      "2020-10-16 19:14:59,943 - thermomodel_None - INFO - # cobra_model variables are up-to-date\n"
     ]
    }
   ],
   "source": [
    "## TFA conversion\n",
    "mytfa.prepare()\n",
    "mytfa.convert()"
   ]
  },
  {
   "cell_type": "code",
   "execution_count": 6,
   "metadata": {},
   "outputs": [
    {
     "name": "stdout",
     "output_type": "stream",
     "text": [
      "                           value\n",
      "key                             \n",
      "name             tutorial_basics\n",
      "description      tutorial_basics\n",
      "num constraints            15034\n",
      "num variables              15538\n",
      "num metabolites             1807\n",
      "num reactions               2585\n",
      "                           value\n",
      "key                             \n",
      "num metabolites(thermo)     1550\n",
      "num reactions(thermo)       1824\n",
      "pct metabolites(thermo)  85.7775\n",
      "pct reactions(thermo)    70.5609\n"
     ]
    }
   ],
   "source": [
    "mytfa.print_info()"
   ]
  },
  {
   "cell_type": "markdown",
   "metadata": {},
   "source": [
    "Optimality"
   ]
  },
  {
   "cell_type": "code",
   "execution_count": 7,
   "metadata": {},
   "outputs": [],
   "source": [
    "tfa_solution = mytfa.optimize()\n",
    "tfa_value = tfa_solution.objective_value"
   ]
  },
  {
   "cell_type": "markdown",
   "metadata": {},
   "source": [
    "Relaxation"
   ]
  },
  {
   "cell_type": "code",
   "execution_count": 8,
   "metadata": {},
   "outputs": [
    {
     "name": "stdout",
     "output_type": "stream",
     "text": [
      "Read LP format model from file /var/folders/c1/00y46vps5tv8cw2xr_gsqf0dh403rh/T/tmpssk5fsat.lp\n",
      "Reading time = 0.02 seconds\n",
      ": 1807 rows, 5170 columns, 20304 nonzeros\n"
     ]
    },
    {
     "name": "stderr",
     "output_type": "stream",
     "text": [
      "2020-10-16 19:15:09,022 - thermomodel_tutorial_basics - INFO - # Model initialized with units kcal/mol and temperature 298.15 K\n"
     ]
    },
    {
     "name": "stdout",
     "output_type": "stream",
     "text": [
      "Read LP format model from file /var/folders/c1/00y46vps5tv8cw2xr_gsqf0dh403rh/T/tmp31mmo4xp.lp\n",
      "Reading time = 0.02 seconds\n",
      ": 1807 rows, 5170 columns, 20304 nonzeros\n"
     ]
    },
    {
     "name": "stderr",
     "output_type": "stream",
     "text": [
      "2020-10-16 19:15:26,531 - thermomodel_tutorial_basics - INFO - # Model initialized with units kcal/mol and temperature 298.15 K\n",
      "2020-10-16 19:15:35,839 - thermomodel_tutorial_basics - INFO - Adding slack constraints\n",
      "adding slacks: 100%|██████████| 1824/1824 [00:42<00:00, 42.91it/s]\n",
      "2020-10-16 19:16:19,555 - thermomodel_tutorial_basics - INFO - Optimizing slack model\n",
      "2020-10-16 19:16:21,883 - thermomodel_tutorial_basics - INFO - Extracting relaxation\n",
      "applying slack: 100%|██████████| 2585/2585 [00:00<00:00, 66060.28it/s]\n",
      "2020-10-16 19:16:22,025 - thermomodel_tutorial_basics - INFO - Testing relaxation\n"
     ]
    },
    {
     "name": "stdout",
     "output_type": "stream",
     "text": [
      "Elapsed time: 82.43 s\n",
      "Relaxation: \n",
      "              lb_in      ub_in  lb_change  ub_change     lb_out     ub_out\n",
      "AIRC3    -11.941085  -8.988685   0.000000   2.582409 -11.941085  -6.406276\n",
      "ARGSL     16.770653  18.636729   2.184361   0.000000  14.586293  18.636729\n",
      "ATPS4rpp  -9.518201  -8.083092   1.517942   0.000000 -11.036143  -8.083092\n",
      "GALT1     67.754735  69.018800  54.942183   0.000000  12.812552  69.018800\n",
      "HEPK2     44.872230  45.345690  32.059679   0.000000  12.812552  45.345690\n",
      "HEPT1     25.810459  27.074524  12.997907   0.000000  12.812552  27.074524\n",
      "HEPT2      7.030447   8.294512   0.695940   0.000000   6.334508   8.294512\n",
      "MECDPS    26.135683  30.646876  11.549390   0.000000  14.586293  30.646876\n",
      "MTHTHFSs  13.297862  14.814659   6.891586   0.000000   6.406276  14.814659\n"
     ]
    }
   ],
   "source": [
    "if tfa_value < 0.1:\n",
    "    start = time()\n",
    "    \n",
    "    from pytfa.optim.relaxation import relax_dgo\n",
    "\n",
    "    mytfa.reactions.get_by_id(biomass_rxn).lower_bound = 0.5*fba_value\n",
    "    relaxed_model, slack_model, relax_table = relax_dgo(mytfa)\n",
    "\n",
    "    original_model, mytfa = mytfa, relaxed_model\n",
    "    \n",
    "    elapsed_time = time()-start\n",
    "    print(f'Elapsed time: {elapsed_time:.2f} s')\n",
    "\n",
    "    print('Relaxation: ')\n",
    "    print(relax_table)\n",
    "    \n",
    "    tfa_solution = mytfa.optimize()\n",
    "    tfa_value = tfa_solution.objective_value"
   ]
  },
  {
   "cell_type": "markdown",
   "metadata": {},
   "source": [
    "Report solution"
   ]
  },
  {
   "cell_type": "code",
   "execution_count": 9,
   "metadata": {},
   "outputs": [
    {
     "name": "stdout",
     "output_type": "stream",
     "text": [
      "FBA Solution found : 0.814\n",
      "TFA Solution found : 0.80312\n"
     ]
    }
   ],
   "source": [
    "print('FBA Solution found : {0:.5g}'.format(fba_value))\n",
    "print('TFA Solution found : {0:.5g}'.format(tfa_value))"
   ]
  },
  {
   "cell_type": "markdown",
   "metadata": {},
   "source": [
    "Handy functions"
   ]
  },
  {
   "cell_type": "code",
   "execution_count": 10,
   "metadata": {},
   "outputs": [],
   "source": [
    "from handy import *"
   ]
  },
  {
   "cell_type": "code",
   "execution_count": 11,
   "metadata": {},
   "outputs": [
    {
     "data": {
      "text/plain": [
       "DM_4CRSOL                         0.000179\n",
       "DM_5DRIB                          0.000186\n",
       "DM_AACALD                         0.000000\n",
       "DM_AMOB                           0.000002\n",
       "DM_MTHTHF                         0.001076\n",
       "DM_OXAM                           0.000000\n",
       "Ec_biomass_iJO1366_WT_53p95M      0.803119\n",
       "Ec_biomass_iJO1366_core_53p95M    0.000000\n",
       "DM_12ppd-R_e                      0.000000\n",
       "DM_12ppd-S_e                      0.000000\n",
       "DM_14glucan_e                     0.000000\n",
       "DM_15dap_e                        0.000000\n",
       "DM_23camp_e                       0.000000\n",
       "DM_23ccmp_e                       0.000000\n",
       "DM_23cgmp_e                       0.000000\n",
       "DM_23cump_e                       0.000000\n",
       "DM_23dappa_e                      0.000000\n",
       "DM_26dap-M_e                      0.000000\n",
       "DM_2ddglcn_e                      0.000000\n",
       "DM_34dhpac_e                      0.000000\n",
       "DM_3amp_e                         0.000000\n",
       "DM_3cmp_e                         0.000000\n",
       "DM_3gmp_e                         0.000000\n",
       "DM_3hcinnm_e                     -0.000000\n",
       "DM_3hpp_e                         0.000000\n",
       "DM_3hpppn_e                      -0.000000\n",
       "DM_3ump_e                         0.000000\n",
       "DM_4abut_e                        0.000000\n",
       "DM_4hoxpacd_e                     0.000000\n",
       "DM_5dglcn_e                       0.000000\n",
       "                                    ...   \n",
       "VALTRS                            0.000000\n",
       "VALabcpp                          0.000000\n",
       "VALt2rpp                          0.000000\n",
       "VALtex                            0.000000\n",
       "VPAMTr                           -0.441109\n",
       "WCOS                              0.000000\n",
       "X5PL3E                            0.000000\n",
       "XAND                              0.000000\n",
       "XANt2pp                           0.000000\n",
       "XANtex                            0.000000\n",
       "XANtpp                            0.000000\n",
       "XMPtex                            0.000000\n",
       "XPPT                              0.000000\n",
       "XTSNH                             0.000000\n",
       "XTSNt2rpp                         0.000000\n",
       "XTSNtex                           0.000000\n",
       "XYLI1                             0.000000\n",
       "XYLI2                             0.000000\n",
       "XYLK                              0.000000\n",
       "XYLK2                             0.000000\n",
       "XYLUt2pp                          0.000000\n",
       "XYLUtex                           0.000000\n",
       "XYLabcpp                          0.000000\n",
       "XYLt2pp                           0.000000\n",
       "XYLtex                            0.000000\n",
       "ZN2abcpp                          0.000000\n",
       "ZN2t3pp                           0.000000\n",
       "ZN2tpp                            0.000260\n",
       "ZNabcpp                           0.000000\n",
       "Zn2tex                            0.000260\n",
       "Length: 2585, dtype: float64"
      ]
     },
     "execution_count": 11,
     "metadata": {},
     "output_type": "execute_result"
    }
   ],
   "source": [
    "get_fluxes(mytfa)"
   ]
  },
  {
   "cell_type": "code",
   "execution_count": 12,
   "metadata": {},
   "outputs": [
    {
     "data": {
      "text/plain": [
       "10fthf_c        -13.815511\n",
       "12dgr120_c       -6.087440\n",
       "12dgr140_c       -6.087440\n",
       "12dgr141_c       -6.087440\n",
       "12dgr160_c       -6.087440\n",
       "12dgr161_c       -6.087440\n",
       "12dgr180_c       -3.050017\n",
       "12dgr181_c       -3.050017\n",
       "12ppd-R_c       -13.815511\n",
       "12ppd-S_c       -13.815511\n",
       "13dpg_c          -4.836644\n",
       "14dhncoa_c       -2.995732\n",
       "14glucan_c      -13.815511\n",
       "15dap_c          -5.206249\n",
       "1ddecg3p_c      -13.815511\n",
       "1hdec9eg3p_c    -13.815511\n",
       "1hdecg3p_c      -13.815511\n",
       "1odec11eg3p_c   -13.815511\n",
       "1odecg3p_c      -13.815511\n",
       "1pyr5c_c         -2.995732\n",
       "1tdec7eg3p_c    -13.815511\n",
       "1tdecg3p_c      -13.815511\n",
       "23dappa_c        -6.058763\n",
       "23ddhb_c         -2.995732\n",
       "23dhacoa_c       -4.949195\n",
       "23dhb_c          -2.995732\n",
       "23dhba_c        -13.815511\n",
       "23dhbzs_c        -2.995732\n",
       "23dhdp_c         -2.995732\n",
       "23dhmb_c        -13.815511\n",
       "                   ...    \n",
       "thymd_p         -13.815511\n",
       "tma_p           -13.815511\n",
       "tre_p            -2.995732\n",
       "trp-L_p         -13.509176\n",
       "tsul_p          -13.815511\n",
       "ttdca_p          -2.995732\n",
       "ttdcea_p         -2.995732\n",
       "ttrcyc_p         -5.680454\n",
       "tym_p           -13.815511\n",
       "tyr-L_p         -13.815511\n",
       "tyrp_p           -2.995732\n",
       "uLa4n_p          -2.995732\n",
       "uacgam_p        -13.815511\n",
       "udcpdp_p        -13.815511\n",
       "udcpp_p          -2.995732\n",
       "udpacgal_p       -2.995732\n",
       "udpg_p          -13.815511\n",
       "udpgal_p        -13.815511\n",
       "udpglcur_p       -2.995732\n",
       "ump_p            -2.995732\n",
       "unagamuf_p       -2.995732\n",
       "ura_p           -13.815511\n",
       "urea_p           -5.066255\n",
       "uri_p           -13.815511\n",
       "val-L_p         -13.815511\n",
       "xan_p            -9.497177\n",
       "xmp_p            -2.995732\n",
       "xtsn_p          -13.815511\n",
       "xyl-D_p          -2.995732\n",
       "xylu-L_p         -2.995732\n",
       "Length: 1550, dtype: float64"
      ]
     },
     "execution_count": 12,
     "metadata": {},
     "output_type": "execute_result"
    }
   ],
   "source": [
    "get_log_concentrations(mytfa)"
   ]
  },
  {
   "cell_type": "code",
   "execution_count": 13,
   "metadata": {},
   "outputs": [
    {
     "data": {
      "text/plain": [
       "12DGR120tipp     7.807372e+00\n",
       "12DGR140tipp     9.355502e+00\n",
       "12DGR141tipp     8.581437e+00\n",
       "12DGR160tipp     1.090363e+01\n",
       "12DGR161tipp     1.496075e+01\n",
       "12DGR180tipp     1.366248e+01\n",
       "12DGR181tipp     1.830731e+01\n",
       "12PPDRtex        1.000197e-09\n",
       "12PPDRtpp        3.548130e+00\n",
       "12PPDStex        1.000197e-09\n",
       "12PPDStpp        3.548130e+00\n",
       "14GLUCANabcpp   -1.719413e+01\n",
       "14GLUCANtexi     7.266723e-01\n",
       "23CAMPtex       -8.180017e+00\n",
       "23CCMPtex       -8.180017e+00\n",
       "23CGMPtex       -8.180017e+00\n",
       "23CUMPtex       -1.773741e+00\n",
       "23DAPPAt2pp     -6.406276e+00\n",
       "23DAPPAtex      -1.773741e+00\n",
       "23PDE2pp        -1.051733e+01\n",
       "23PDE4pp        -4.111054e+00\n",
       "23PDE7pp        -4.111054e+00\n",
       "23PDE9pp        -4.111054e+00\n",
       "26DAHtex        -8.180017e+00\n",
       "2AGPA120tipp     9.454273e+00\n",
       "2AGPA140tipp     1.022834e+01\n",
       "2AGPA141tipp    -6.406276e+00\n",
       "2AGPA160tipp     9.203978e+00\n",
       "2AGPA161tipp     8.822199e+00\n",
       "2AGPA180tipp     1.118876e+01\n",
       "                     ...     \n",
       "URIH            -1.437096e+01\n",
       "URIK2           -6.157866e+00\n",
       "URIt2pp          2.587653e+00\n",
       "URIt2rpp         6.587653e+00\n",
       "URItex           1.000197e-09\n",
       "USHD            -2.176474e+01\n",
       "VALTA            9.999894e-10\n",
       "VALabcpp        -1.377206e+01\n",
       "VALt2rpp         3.603449e+00\n",
       "VALtex           1.000197e-09\n",
       "VPAMTr           9.999894e-10\n",
       "X5PL3E          -1.000234e-09\n",
       "XAND            -1.201767e+01\n",
       "XANt2pp         -8.140818e+00\n",
       "XANtex           2.556839e+00\n",
       "XANtpp           9.999894e-10\n",
       "XMPtex          -1.773741e+00\n",
       "XPPT            -7.862911e+00\n",
       "XTSNH           -7.609762e+00\n",
       "XTSNt2rpp       -2.853362e-01\n",
       "XTSNtex          1.000197e-09\n",
       "XYLI1           -5.430429e+00\n",
       "XYLI2            6.125154e+00\n",
       "XYLK            -9.134644e+00\n",
       "XYLK2           -1.314670e+01\n",
       "XYLUt2pp        -6.406276e+00\n",
       "XYLUtex         -1.773741e+00\n",
       "XYLabcpp        -1.786228e+01\n",
       "XYLt2pp         -4.486777e+00\n",
       "XYLtex          -1.773741e+00\n",
       "Length: 1824, dtype: float64"
      ]
     },
     "execution_count": 13,
     "metadata": {},
     "output_type": "execute_result"
    }
   ],
   "source": [
    "get_free_energies(mytfa)"
   ]
  },
  {
   "cell_type": "code",
   "execution_count": null,
   "metadata": {},
   "outputs": [],
   "source": []
  },
  {
   "cell_type": "code",
   "execution_count": null,
   "metadata": {},
   "outputs": [],
   "source": []
  },
  {
   "cell_type": "code",
   "execution_count": null,
   "metadata": {},
   "outputs": [],
   "source": []
  }
 ],
 "metadata": {
  "kernelspec": {
   "display_name": "Python (rbcenv)",
   "language": "python",
   "name": "rbc-env"
  },
  "language_info": {
   "codemirror_mode": {
    "name": "ipython",
    "version": 3
   },
   "file_extension": ".py",
   "mimetype": "text/x-python",
   "name": "python",
   "nbconvert_exporter": "python",
   "pygments_lexer": "ipython3",
   "version": "3.7.3"
  }
 },
 "nbformat": 4,
 "nbformat_minor": 4
}
