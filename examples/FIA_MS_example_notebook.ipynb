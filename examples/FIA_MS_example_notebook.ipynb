{
 "cells": [
  {
   "cell_type": "markdown",
   "metadata": {},
   "source": [
    "# FIA-MS data processing and visualization"
   ]
  },
  {
   "cell_type": "markdown",
   "metadata": {},
   "source": [
    "### This example notebook presents the use of the custom FIA-MS tools after data pre-processing using SmartPeak"
   ]
  },
  {
   "cell_type": "code",
   "execution_count": 1,
   "metadata": {},
   "outputs": [
    {
     "name": "stderr",
     "output_type": "stream",
     "text": [
      "Determination of memory status is not supported on this \n",
      " platform, measuring for memoryleaks will never fail\n"
     ]
    }
   ],
   "source": [
    "import seaborn as sns\n",
    "import matplotlib.pyplot as plt\n",
    "import pandas as pd\n",
    "import BFAIR.FIA_MS as fia_ms"
   ]
  },
  {
   "cell_type": "markdown",
   "metadata": {},
   "source": [
    "### Define the location of the example files"
   ]
  },
  {
   "cell_type": "code",
   "execution_count": 2,
   "metadata": {},
   "outputs": [],
   "source": [
    "current_dir = %pwd"
   ]
  },
  {
   "cell_type": "code",
   "execution_count": 3,
   "metadata": {},
   "outputs": [],
   "source": [
    "feature_dir_example = (current_dir + \"/data/FIA_MS_example/features_AdditionalAdducts_example\")"
   ]
  },
  {
   "cell_type": "code",
   "execution_count": 4,
   "metadata": {},
   "outputs": [],
   "source": [
    "sequence_triplicates_example = pd.read_csv(current_dir + \"/data/FIA_MS_example/sequence_EColi_example.csv\", sep=\";\")"
   ]
  },
  {
   "cell_type": "code",
   "execution_count": 5,
   "metadata": {},
   "outputs": [],
   "source": [
    "sample_names_triplicates_example = sequence_triplicates_example[\"sample_group_name\"].unique()"
   ]
  },
  {
   "cell_type": "code",
   "execution_count": 6,
   "metadata": {},
   "outputs": [],
   "source": [
    "database_triplicates_example = pd.read_csv(current_dir + \"/data/FIA_MS_example/CHEMISTRY/iJO1366_struct.tsv\", sep=\"\\t\", header=None)"
   ]
  },
  {
   "cell_type": "markdown",
   "metadata": {},
   "source": [
    "### Run the custom FIA-MS data processing functions\n",
    "You will\n",
    "- Extract all the relevant information from the provided .featureXML files\n",
    "- Calculate basic statistics"
   ]
  },
  {
   "cell_type": "code",
   "execution_count": 7,
   "metadata": {},
   "outputs": [],
   "source": [
    "intensities_triplicates_example = fia_ms.extractNamesAndIntensities(feature_dir_example, sample_names_triplicates_example, database_triplicates_example)"
   ]
  },
  {
   "cell_type": "code",
   "execution_count": 8,
   "metadata": {},
   "outputs": [],
   "source": [
    "stats_triplicates_example = fia_ms.calculateMeanVarRSD(intensities_triplicates_example, sequence_triplicates_example.drop_duplicates([\"sample_group_name\", \"replicate_group_name\"]), min_reps=3)"
   ]
  },
  {
   "cell_type": "markdown",
   "metadata": {},
   "source": [
    "Have  quick look at what you extracted. The 'intensities_triplicates_example' should include all replicates of each sample"
   ]
  },
  {
   "cell_type": "code",
   "execution_count": 9,
   "metadata": {},
   "outputs": [
    {
     "data": {
      "text/html": [
       "<div>\n",
       "<style scoped>\n",
       "    .dataframe tbody tr th:only-of-type {\n",
       "        vertical-align: middle;\n",
       "    }\n",
       "\n",
       "    .dataframe tbody tr th {\n",
       "        vertical-align: top;\n",
       "    }\n",
       "\n",
       "    .dataframe thead th {\n",
       "        text-align: right;\n",
       "    }\n",
       "</style>\n",
       "<table border=\"1\" class=\"dataframe\">\n",
       "  <thead>\n",
       "    <tr style=\"text-align: right;\">\n",
       "      <th></th>\n",
       "      <th>sample_group_name</th>\n",
       "      <th>Metabolite</th>\n",
       "      <th>Formula</th>\n",
       "      <th>Intensity</th>\n",
       "      <th>MZ_value</th>\n",
       "    </tr>\n",
       "  </thead>\n",
       "  <tbody>\n",
       "    <tr>\n",
       "      <th>0</th>\n",
       "      <td>StressTest1_P1Ecoli_10xDil_1</td>\n",
       "      <td>10fthf_c</td>\n",
       "      <td>C20H23N7O7</td>\n",
       "      <td>5621.594727</td>\n",
       "      <td>672.075012</td>\n",
       "    </tr>\n",
       "    <tr>\n",
       "      <th>1</th>\n",
       "      <td>StressTest1_P1Ecoli_10xDil_1</td>\n",
       "      <td>12dgr120_c</td>\n",
       "      <td>C27H52O5</td>\n",
       "      <td>43496.585938</td>\n",
       "      <td>741.813110</td>\n",
       "    </tr>\n",
       "    <tr>\n",
       "      <th>2</th>\n",
       "      <td>StressTest1_P1Ecoli_10xDil_1</td>\n",
       "      <td>12dgr140_c</td>\n",
       "      <td>C31H60O5</td>\n",
       "      <td>11121.828125</td>\n",
       "      <td>946.303345</td>\n",
       "    </tr>\n",
       "    <tr>\n",
       "      <th>3</th>\n",
       "      <td>StressTest1_P1Ecoli_10xDil_1</td>\n",
       "      <td>12dgr141_c</td>\n",
       "      <td>C31H56O5</td>\n",
       "      <td>6038.054688</td>\n",
       "      <td>760.343445</td>\n",
       "    </tr>\n",
       "    <tr>\n",
       "      <th>4</th>\n",
       "      <td>StressTest1_P1Ecoli_10xDil_1</td>\n",
       "      <td>12dgr160_c</td>\n",
       "      <td>C35H68O5</td>\n",
       "      <td>1283.704712</td>\n",
       "      <td>604.576172</td>\n",
       "    </tr>\n",
       "    <tr>\n",
       "      <th>...</th>\n",
       "      <td>...</td>\n",
       "      <td>...</td>\n",
       "      <td>...</td>\n",
       "      <td>...</td>\n",
       "      <td>...</td>\n",
       "    </tr>\n",
       "    <tr>\n",
       "      <th>12441</th>\n",
       "      <td>StressTest6_P1Ecoli_10xDil_3</td>\n",
       "      <td>xdp_c</td>\n",
       "      <td>C10H14N4O12P2</td>\n",
       "      <td>11845.142578</td>\n",
       "      <td>921.828674</td>\n",
       "    </tr>\n",
       "    <tr>\n",
       "      <th>12442</th>\n",
       "      <td>StressTest6_P1Ecoli_10xDil_3</td>\n",
       "      <td>xmp_c</td>\n",
       "      <td>C10H13N4O9P1</td>\n",
       "      <td>96053.164062</td>\n",
       "      <td>313.679993</td>\n",
       "    </tr>\n",
       "    <tr>\n",
       "      <th>12443</th>\n",
       "      <td>StressTest6_P1Ecoli_10xDil_3</td>\n",
       "      <td>xtp_c</td>\n",
       "      <td>C10H15N4O15P3</td>\n",
       "      <td>112053.515625</td>\n",
       "      <td>909.136230</td>\n",
       "    </tr>\n",
       "    <tr>\n",
       "      <th>12444</th>\n",
       "      <td>StressTest6_P1Ecoli_10xDil_3</td>\n",
       "      <td>xtsn_c</td>\n",
       "      <td>C10H12N4O6</td>\n",
       "      <td>26376.486328</td>\n",
       "      <td>282.061523</td>\n",
       "    </tr>\n",
       "    <tr>\n",
       "      <th>12445</th>\n",
       "      <td>StressTest6_P1Ecoli_10xDil_3</td>\n",
       "      <td>zn2_c</td>\n",
       "      <td>Zn</td>\n",
       "      <td>849215.750000</td>\n",
       "      <td>548.685913</td>\n",
       "    </tr>\n",
       "  </tbody>\n",
       "</table>\n",
       "<p>12446 rows × 5 columns</p>\n",
       "</div>"
      ],
      "text/plain": [
       "                  sample_group_name  Metabolite        Formula      Intensity  \\\n",
       "0      StressTest1_P1Ecoli_10xDil_1    10fthf_c     C20H23N7O7    5621.594727   \n",
       "1      StressTest1_P1Ecoli_10xDil_1  12dgr120_c       C27H52O5   43496.585938   \n",
       "2      StressTest1_P1Ecoli_10xDil_1  12dgr140_c       C31H60O5   11121.828125   \n",
       "3      StressTest1_P1Ecoli_10xDil_1  12dgr141_c       C31H56O5    6038.054688   \n",
       "4      StressTest1_P1Ecoli_10xDil_1  12dgr160_c       C35H68O5    1283.704712   \n",
       "...                             ...         ...            ...            ...   \n",
       "12441  StressTest6_P1Ecoli_10xDil_3       xdp_c  C10H14N4O12P2   11845.142578   \n",
       "12442  StressTest6_P1Ecoli_10xDil_3       xmp_c   C10H13N4O9P1   96053.164062   \n",
       "12443  StressTest6_P1Ecoli_10xDil_3       xtp_c  C10H15N4O15P3  112053.515625   \n",
       "12444  StressTest6_P1Ecoli_10xDil_3      xtsn_c     C10H12N4O6   26376.486328   \n",
       "12445  StressTest6_P1Ecoli_10xDil_3       zn2_c             Zn  849215.750000   \n",
       "\n",
       "         MZ_value  \n",
       "0      672.075012  \n",
       "1      741.813110  \n",
       "2      946.303345  \n",
       "3      760.343445  \n",
       "4      604.576172  \n",
       "...           ...  \n",
       "12441  921.828674  \n",
       "12442  313.679993  \n",
       "12443  909.136230  \n",
       "12444  282.061523  \n",
       "12445  548.685913  \n",
       "\n",
       "[12446 rows x 5 columns]"
      ]
     },
     "execution_count": 9,
     "metadata": {},
     "output_type": "execute_result"
    }
   ],
   "source": [
    "intensities_triplicates_example"
   ]
  },
  {
   "cell_type": "markdown",
   "metadata": {},
   "source": [
    "The summary statistics are reduced to one set per sample. Each of these sets is displayed here as one value per metabolite"
   ]
  },
  {
   "cell_type": "code",
   "execution_count": 10,
   "metadata": {},
   "outputs": [
    {
     "data": {
      "text/html": [
       "<div>\n",
       "<style scoped>\n",
       "    .dataframe tbody tr th:only-of-type {\n",
       "        vertical-align: middle;\n",
       "    }\n",
       "\n",
       "    .dataframe tbody tr th {\n",
       "        vertical-align: top;\n",
       "    }\n",
       "\n",
       "    .dataframe thead th {\n",
       "        text-align: right;\n",
       "    }\n",
       "</style>\n",
       "<table border=\"1\" class=\"dataframe\">\n",
       "  <thead>\n",
       "    <tr style=\"text-align: right;\">\n",
       "      <th></th>\n",
       "      <th>replicate_group_name</th>\n",
       "      <th>Metabolite</th>\n",
       "      <th>Formula</th>\n",
       "      <th>Mean</th>\n",
       "      <th>Variance</th>\n",
       "      <th>RSD</th>\n",
       "    </tr>\n",
       "  </thead>\n",
       "  <tbody>\n",
       "    <tr>\n",
       "      <th>0</th>\n",
       "      <td>StressTest1_P1Ecoli_10xDil</td>\n",
       "      <td>10fthf_c</td>\n",
       "      <td>C20H23N7O7</td>\n",
       "      <td>440600.703288</td>\n",
       "      <td>3.780837e+11</td>\n",
       "      <td>1.395561</td>\n",
       "    </tr>\n",
       "    <tr>\n",
       "      <th>1</th>\n",
       "      <td>StressTest1_P1Ecoli_10xDil</td>\n",
       "      <td>12dgr120_c</td>\n",
       "      <td>C27H52O5</td>\n",
       "      <td>21684.283122</td>\n",
       "      <td>2.979930e+08</td>\n",
       "      <td>0.796082</td>\n",
       "    </tr>\n",
       "    <tr>\n",
       "      <th>2</th>\n",
       "      <td>StressTest1_P1Ecoli_10xDil</td>\n",
       "      <td>12dgr140_c</td>\n",
       "      <td>C31H60O5</td>\n",
       "      <td>14263.744141</td>\n",
       "      <td>5.160214e+06</td>\n",
       "      <td>0.159258</td>\n",
       "    </tr>\n",
       "    <tr>\n",
       "      <th>3</th>\n",
       "      <td>StressTest1_P1Ecoli_10xDil</td>\n",
       "      <td>12dgr141_c</td>\n",
       "      <td>C31H56O5</td>\n",
       "      <td>21550.184896</td>\n",
       "      <td>1.235015e+08</td>\n",
       "      <td>0.515686</td>\n",
       "    </tr>\n",
       "    <tr>\n",
       "      <th>4</th>\n",
       "      <td>StressTest1_P1Ecoli_10xDil</td>\n",
       "      <td>12dgr160_c</td>\n",
       "      <td>C35H68O5</td>\n",
       "      <td>5445.853719</td>\n",
       "      <td>1.055232e+07</td>\n",
       "      <td>0.596497</td>\n",
       "    </tr>\n",
       "    <tr>\n",
       "      <th>...</th>\n",
       "      <td>...</td>\n",
       "      <td>...</td>\n",
       "      <td>...</td>\n",
       "      <td>...</td>\n",
       "      <td>...</td>\n",
       "      <td>...</td>\n",
       "    </tr>\n",
       "    <tr>\n",
       "      <th>3827</th>\n",
       "      <td>StressTest6_P1Ecoli_10xDil</td>\n",
       "      <td>xdp_c</td>\n",
       "      <td>C10H14N4O12P2</td>\n",
       "      <td>49623.711589</td>\n",
       "      <td>7.158530e+08</td>\n",
       "      <td>0.539166</td>\n",
       "    </tr>\n",
       "    <tr>\n",
       "      <th>3828</th>\n",
       "      <td>StressTest6_P1Ecoli_10xDil</td>\n",
       "      <td>xmp_c</td>\n",
       "      <td>C10H13N4O9P1</td>\n",
       "      <td>53341.607747</td>\n",
       "      <td>1.492658e+09</td>\n",
       "      <td>0.724293</td>\n",
       "    </tr>\n",
       "    <tr>\n",
       "      <th>3829</th>\n",
       "      <td>StressTest6_P1Ecoli_10xDil</td>\n",
       "      <td>xtp_c</td>\n",
       "      <td>C10H15N4O15P3</td>\n",
       "      <td>45543.629557</td>\n",
       "      <td>2.248106e+09</td>\n",
       "      <td>1.041072</td>\n",
       "    </tr>\n",
       "    <tr>\n",
       "      <th>3830</th>\n",
       "      <td>StressTest6_P1Ecoli_10xDil</td>\n",
       "      <td>xtsn_c</td>\n",
       "      <td>C10H12N4O6</td>\n",
       "      <td>103514.869141</td>\n",
       "      <td>6.972373e+09</td>\n",
       "      <td>0.806655</td>\n",
       "    </tr>\n",
       "    <tr>\n",
       "      <th>3831</th>\n",
       "      <td>StressTest6_P1Ecoli_10xDil</td>\n",
       "      <td>zn2_c</td>\n",
       "      <td>Zn</td>\n",
       "      <td>913311.583333</td>\n",
       "      <td>5.827480e+09</td>\n",
       "      <td>0.083584</td>\n",
       "    </tr>\n",
       "  </tbody>\n",
       "</table>\n",
       "<p>3832 rows × 6 columns</p>\n",
       "</div>"
      ],
      "text/plain": [
       "            replicate_group_name  Metabolite        Formula           Mean  \\\n",
       "0     StressTest1_P1Ecoli_10xDil    10fthf_c     C20H23N7O7  440600.703288   \n",
       "1     StressTest1_P1Ecoli_10xDil  12dgr120_c       C27H52O5   21684.283122   \n",
       "2     StressTest1_P1Ecoli_10xDil  12dgr140_c       C31H60O5   14263.744141   \n",
       "3     StressTest1_P1Ecoli_10xDil  12dgr141_c       C31H56O5   21550.184896   \n",
       "4     StressTest1_P1Ecoli_10xDil  12dgr160_c       C35H68O5    5445.853719   \n",
       "...                          ...         ...            ...            ...   \n",
       "3827  StressTest6_P1Ecoli_10xDil       xdp_c  C10H14N4O12P2   49623.711589   \n",
       "3828  StressTest6_P1Ecoli_10xDil       xmp_c   C10H13N4O9P1   53341.607747   \n",
       "3829  StressTest6_P1Ecoli_10xDil       xtp_c  C10H15N4O15P3   45543.629557   \n",
       "3830  StressTest6_P1Ecoli_10xDil      xtsn_c     C10H12N4O6  103514.869141   \n",
       "3831  StressTest6_P1Ecoli_10xDil       zn2_c             Zn  913311.583333   \n",
       "\n",
       "          Variance       RSD  \n",
       "0     3.780837e+11  1.395561  \n",
       "1     2.979930e+08  0.796082  \n",
       "2     5.160214e+06  0.159258  \n",
       "3     1.235015e+08  0.515686  \n",
       "4     1.055232e+07  0.596497  \n",
       "...            ...       ...  \n",
       "3827  7.158530e+08  0.539166  \n",
       "3828  1.492658e+09  0.724293  \n",
       "3829  2.248106e+09  1.041072  \n",
       "3830  6.972373e+09  0.806655  \n",
       "3831  5.827480e+09  0.083584  \n",
       "\n",
       "[3832 rows x 6 columns]"
      ]
     },
     "execution_count": 10,
     "metadata": {},
     "output_type": "execute_result"
    }
   ],
   "source": [
    "stats_triplicates_example"
   ]
  },
  {
   "cell_type": "markdown",
   "metadata": {},
   "source": [
    "### Visualize the data"
   ]
  },
  {
   "cell_type": "markdown",
   "metadata": {},
   "source": [
    "After importing and processing the data, we can visulaize it. A good place to start is to have a look at the distributions of its mean values and the corresponding relative standard deviations."
   ]
  },
  {
   "cell_type": "markdown",
   "metadata": {},
   "source": [
    "#### Mean"
   ]
  },
  {
   "cell_type": "code",
   "execution_count": 11,
   "metadata": {},
   "outputs": [
    {
     "data": {
      "text/plain": [
       "Text(0.5, 1.0, 'Mean')"
      ]
     },
     "execution_count": 11,
     "metadata": {},
     "output_type": "execute_result"
    },
    {
     "data": {
      "image/png": "[encoded data removed]",
      "text/plain": [
       "<Figure size 432x288 with 1 Axes>"
      ]
     },
     "metadata": {
      "needs_background": "light"
     },
     "output_type": "display_data"
    }
   ],
   "source": [
    "sns.violinplot(x=\"replicate_group_name\", y=\"Mean\", data=stats_triplicates_example, orient = 'v')\n",
    "plt.xticks(rotation=70)\n",
    "plt.title('Mean', size = 20)"
   ]
  },
  {
   "cell_type": "markdown",
   "metadata": {},
   "source": [
    "#### RSD"
   ]
  },
  {
   "cell_type": "code",
   "execution_count": 12,
   "metadata": {},
   "outputs": [
    {
     "data": {
      "text/plain": [
       "Text(0.5, 1.0, 'RSD')"
      ]
     },
     "execution_count": 12,
     "metadata": {},
     "output_type": "execute_result"
    },
    {
     "data": {
      "image/png": "[encoded data removed]",
      "text/plain": [
       "<Figure size 432x288 with 1 Axes>"
      ]
     },
     "metadata": {
      "needs_background": "light"
     },
     "output_type": "display_data"
    }
   ],
   "source": [
    "sns.violinplot(x=\"replicate_group_name\", y=\"RSD\", data=stats_triplicates_example, orient = 'v')\n",
    "plt.xticks(rotation=70)\n",
    "plt.title('RSD', size = 20)"
   ]
  },
  {
   "cell_type": "markdown",
   "metadata": {},
   "source": [
    "### Separate the data\n",
    "#### You can also separate the data based on for example the 'replicate_group_name' in order to visualize certain parts of it\n",
    "Split the data by 'replicate_group_name'. Here we do that only for the first sample in the dataset"
   ]
  },
  {
   "cell_type": "code",
   "execution_count": 13,
   "metadata": {},
   "outputs": [
    {
     "data": {
      "text/plain": [
       "['StressTest1_P1Ecoli_10xDil',\n",
       " 'StressTest2_P1Ecoli_10xDil',\n",
       " 'StressTest3_P1Ecoli_10xDil',\n",
       " 'StressTest4_P1Ecoli_10xDil',\n",
       " 'StressTest5_P1Ecoli_10xDil',\n",
       " 'StressTest6_P1Ecoli_10xDil']"
      ]
     },
     "execution_count": 13,
     "metadata": {},
     "output_type": "execute_result"
    }
   ],
   "source": [
    "samples = list(stats_triplicates_example['replicate_group_name'].unique())\n",
    "samples"
   ]
  },
  {
   "cell_type": "code",
   "execution_count": 14,
   "metadata": {},
   "outputs": [],
   "source": [
    "StressTest1_P1Ecoli_10xDil = stats_triplicates_example[stats_triplicates_example['replicate_group_name'] == samples[0]]"
   ]
  },
  {
   "cell_type": "code",
   "execution_count": 15,
   "metadata": {},
   "outputs": [
    {
     "data": {
      "text/plain": [
       "(array([0]), [Text(0, 0, 'StressTest1_P1Ecoli_10xDil')])"
      ]
     },
     "execution_count": 15,
     "metadata": {},
     "output_type": "execute_result"
    },
    {
     "data": {
      "image/png": "[encoded data removed]",
      "text/plain": [
       "<Figure size 432x288 with 1 Axes>"
      ]
     },
     "metadata": {
      "needs_background": "light"
     },
     "output_type": "display_data"
    }
   ],
   "source": [
    "sns.violinplot(x=\"replicate_group_name\", y=\"Mean\", data=StressTest1_P1Ecoli_10xDil, orient = 'v')\n",
    "plt.xticks(rotation=70)"
   ]
  },
  {
   "cell_type": "code",
   "execution_count": 16,
   "metadata": {},
   "outputs": [
    {
     "data": {
      "text/plain": [
       "(array([0]), [Text(0, 0, 'StressTest1_P1Ecoli_10xDil')])"
      ]
     },
     "execution_count": 16,
     "metadata": {},
     "output_type": "execute_result"
    },
    {
     "data": {
      "image/png": "[encoded data removed]",
      "text/plain": [
       "<Figure size 432x288 with 1 Axes>"
      ]
     },
     "metadata": {
      "needs_background": "light"
     },
     "output_type": "display_data"
    }
   ],
   "source": [
    "sns.violinplot(x=\"replicate_group_name\", y=\"RSD\", data=StressTest1_P1Ecoli_10xDil, orient = 'v')\n",
    "plt.xticks(rotation=70)"
   ]
  },
  {
   "cell_type": "markdown",
   "metadata": {},
   "source": [
    "### Transform the datafrrame for further analysis"
   ]
  },
  {
   "cell_type": "code",
   "execution_count": 17,
   "metadata": {},
   "outputs": [],
   "source": [
    "df_t = fia_ms.transform_dataframe(stats_triplicates_example, group_name=\"replicate_group_name\", value_name=\"Mean\")"
   ]
  },
  {
   "cell_type": "code",
   "execution_count": 18,
   "metadata": {},
   "outputs": [
    {
     "data": {
      "text/html": [
       "<div>\n",
       "<style scoped>\n",
       "    .dataframe tbody tr th:only-of-type {\n",
       "        vertical-align: middle;\n",
       "    }\n",
       "\n",
       "    .dataframe tbody tr th {\n",
       "        vertical-align: top;\n",
       "    }\n",
       "\n",
       "    .dataframe thead th {\n",
       "        text-align: right;\n",
       "    }\n",
       "</style>\n",
       "<table border=\"1\" class=\"dataframe\">\n",
       "  <thead>\n",
       "    <tr style=\"text-align: right;\">\n",
       "      <th></th>\n",
       "      <th>nad_c</th>\n",
       "      <th>cpppg3_c</th>\n",
       "      <th>3ohcoa_c</th>\n",
       "      <th>2agpe120_c</th>\n",
       "      <th>bwco_c</th>\n",
       "      <th>2agpg160_c</th>\n",
       "      <th>feenter_c</th>\n",
       "      <th>glx_c</th>\n",
       "      <th>mso3_c</th>\n",
       "      <th>gar_c</th>\n",
       "      <th>...</th>\n",
       "      <th>6pgc_c</th>\n",
       "      <th>ca2_c</th>\n",
       "      <th>crn__D_c</th>\n",
       "      <th>alltt_c</th>\n",
       "      <th>uamag_c</th>\n",
       "      <th>amet_c</th>\n",
       "      <th>glyb_c</th>\n",
       "      <th>glyc_c</th>\n",
       "      <th>tdcoa_c</th>\n",
       "      <th>aact_c</th>\n",
       "    </tr>\n",
       "  </thead>\n",
       "  <tbody>\n",
       "    <tr>\n",
       "      <th>StressTest1_P1Ecoli_10xDil</th>\n",
       "      <td>4.81144e+06</td>\n",
       "      <td>60358.8</td>\n",
       "      <td>15251.5</td>\n",
       "      <td>15261.1</td>\n",
       "      <td>9353.84</td>\n",
       "      <td>NaN</td>\n",
       "      <td>5636.65</td>\n",
       "      <td>1.73648e+08</td>\n",
       "      <td>2.87358e+07</td>\n",
       "      <td>1.29805e+06</td>\n",
       "      <td>...</td>\n",
       "      <td>325609</td>\n",
       "      <td>524448</td>\n",
       "      <td>2.85359e+07</td>\n",
       "      <td>28380.7</td>\n",
       "      <td>10873.4</td>\n",
       "      <td>1.7454e+07</td>\n",
       "      <td>3.80738e+07</td>\n",
       "      <td>2.97718e+07</td>\n",
       "      <td>17608.6</td>\n",
       "      <td>6.80622e+06</td>\n",
       "    </tr>\n",
       "    <tr>\n",
       "      <th>StressTest2_P1Ecoli_10xDil</th>\n",
       "      <td>5.00237e+06</td>\n",
       "      <td>72594.1</td>\n",
       "      <td>22093.2</td>\n",
       "      <td>29729.3</td>\n",
       "      <td>NaN</td>\n",
       "      <td>8765.47</td>\n",
       "      <td>6076.57</td>\n",
       "      <td>1.84328e+08</td>\n",
       "      <td>2.47464e+07</td>\n",
       "      <td>1.31959e+06</td>\n",
       "      <td>...</td>\n",
       "      <td>306947</td>\n",
       "      <td>529904</td>\n",
       "      <td>2.90508e+07</td>\n",
       "      <td>32992.3</td>\n",
       "      <td>24144.5</td>\n",
       "      <td>1.61145e+07</td>\n",
       "      <td>3.59641e+07</td>\n",
       "      <td>2.2719e+07</td>\n",
       "      <td>91897</td>\n",
       "      <td>6.55681e+06</td>\n",
       "    </tr>\n",
       "    <tr>\n",
       "      <th>StressTest3_P1Ecoli_10xDil</th>\n",
       "      <td>4.93883e+06</td>\n",
       "      <td>73366.2</td>\n",
       "      <td>12035.5</td>\n",
       "      <td>49085.6</td>\n",
       "      <td>12326.5</td>\n",
       "      <td>6415.1</td>\n",
       "      <td>6133.65</td>\n",
       "      <td>2.00137e+08</td>\n",
       "      <td>2.48651e+07</td>\n",
       "      <td>1.374e+06</td>\n",
       "      <td>...</td>\n",
       "      <td>309887</td>\n",
       "      <td>517719</td>\n",
       "      <td>3.01916e+07</td>\n",
       "      <td>33794.6</td>\n",
       "      <td>18957.6</td>\n",
       "      <td>1.66016e+07</td>\n",
       "      <td>3.60699e+07</td>\n",
       "      <td>2.31215e+07</td>\n",
       "      <td>19229.9</td>\n",
       "      <td>6.57512e+06</td>\n",
       "    </tr>\n",
       "    <tr>\n",
       "      <th>StressTest4_P1Ecoli_10xDil</th>\n",
       "      <td>7.18887e+06</td>\n",
       "      <td>122555</td>\n",
       "      <td>20382.9</td>\n",
       "      <td>46875.8</td>\n",
       "      <td>15774.2</td>\n",
       "      <td>1538.13</td>\n",
       "      <td>NaN</td>\n",
       "      <td>2.05023e+08</td>\n",
       "      <td>2.9014e+07</td>\n",
       "      <td>4.84689e+06</td>\n",
       "      <td>...</td>\n",
       "      <td>310660</td>\n",
       "      <td>243388</td>\n",
       "      <td>2.78515e+07</td>\n",
       "      <td>46101.8</td>\n",
       "      <td>22081.3</td>\n",
       "      <td>1.90966e+07</td>\n",
       "      <td>3.45695e+07</td>\n",
       "      <td>1.99299e+07</td>\n",
       "      <td>18009.3</td>\n",
       "      <td>5.46561e+06</td>\n",
       "    </tr>\n",
       "    <tr>\n",
       "      <th>StressTest5_P1Ecoli_10xDil</th>\n",
       "      <td>4.91094e+06</td>\n",
       "      <td>58578.4</td>\n",
       "      <td>14959.8</td>\n",
       "      <td>17266.7</td>\n",
       "      <td>8831.86</td>\n",
       "      <td>38840.4</td>\n",
       "      <td>NaN</td>\n",
       "      <td>2.18911e+08</td>\n",
       "      <td>2.74309e+07</td>\n",
       "      <td>1.3203e+06</td>\n",
       "      <td>...</td>\n",
       "      <td>295518</td>\n",
       "      <td>456051</td>\n",
       "      <td>3.06927e+07</td>\n",
       "      <td>27081.2</td>\n",
       "      <td>9161.9</td>\n",
       "      <td>1.65322e+07</td>\n",
       "      <td>3.5971e+07</td>\n",
       "      <td>2.17865e+07</td>\n",
       "      <td>69673.3</td>\n",
       "      <td>6.41457e+06</td>\n",
       "    </tr>\n",
       "    <tr>\n",
       "      <th>StressTest6_P1Ecoli_10xDil</th>\n",
       "      <td>3.31258e+06</td>\n",
       "      <td>83849.1</td>\n",
       "      <td>14040.4</td>\n",
       "      <td>13382.9</td>\n",
       "      <td>33074.9</td>\n",
       "      <td>2633.24</td>\n",
       "      <td>NaN</td>\n",
       "      <td>2.5891e+08</td>\n",
       "      <td>3.02139e+07</td>\n",
       "      <td>1.21919e+06</td>\n",
       "      <td>...</td>\n",
       "      <td>294554</td>\n",
       "      <td>456170</td>\n",
       "      <td>2.92949e+07</td>\n",
       "      <td>146758</td>\n",
       "      <td>7977.54</td>\n",
       "      <td>1.63024e+07</td>\n",
       "      <td>3.73821e+07</td>\n",
       "      <td>2.08953e+07</td>\n",
       "      <td>46304.9</td>\n",
       "      <td>5.98957e+06</td>\n",
       "    </tr>\n",
       "  </tbody>\n",
       "</table>\n",
       "<p>6 rows × 1358 columns</p>\n",
       "</div>"
      ],
      "text/plain": [
       "                                  nad_c cpppg3_c 3ohcoa_c 2agpe120_c   bwco_c  \\\n",
       "StressTest1_P1Ecoli_10xDil  4.81144e+06  60358.8  15251.5    15261.1  9353.84   \n",
       "StressTest2_P1Ecoli_10xDil  5.00237e+06  72594.1  22093.2    29729.3      NaN   \n",
       "StressTest3_P1Ecoli_10xDil  4.93883e+06  73366.2  12035.5    49085.6  12326.5   \n",
       "StressTest4_P1Ecoli_10xDil  7.18887e+06   122555  20382.9    46875.8  15774.2   \n",
       "StressTest5_P1Ecoli_10xDil  4.91094e+06  58578.4  14959.8    17266.7  8831.86   \n",
       "StressTest6_P1Ecoli_10xDil  3.31258e+06  83849.1  14040.4    13382.9  33074.9   \n",
       "\n",
       "                           2agpg160_c feenter_c        glx_c       mso3_c  \\\n",
       "StressTest1_P1Ecoli_10xDil        NaN   5636.65  1.73648e+08  2.87358e+07   \n",
       "StressTest2_P1Ecoli_10xDil    8765.47   6076.57  1.84328e+08  2.47464e+07   \n",
       "StressTest3_P1Ecoli_10xDil     6415.1   6133.65  2.00137e+08  2.48651e+07   \n",
       "StressTest4_P1Ecoli_10xDil    1538.13       NaN  2.05023e+08   2.9014e+07   \n",
       "StressTest5_P1Ecoli_10xDil    38840.4       NaN  2.18911e+08  2.74309e+07   \n",
       "StressTest6_P1Ecoli_10xDil    2633.24       NaN   2.5891e+08  3.02139e+07   \n",
       "\n",
       "                                  gar_c  ...  6pgc_c   ca2_c     crn__D_c  \\\n",
       "StressTest1_P1Ecoli_10xDil  1.29805e+06  ...  325609  524448  2.85359e+07   \n",
       "StressTest2_P1Ecoli_10xDil  1.31959e+06  ...  306947  529904  2.90508e+07   \n",
       "StressTest3_P1Ecoli_10xDil    1.374e+06  ...  309887  517719  3.01916e+07   \n",
       "StressTest4_P1Ecoli_10xDil  4.84689e+06  ...  310660  243388  2.78515e+07   \n",
       "StressTest5_P1Ecoli_10xDil   1.3203e+06  ...  295518  456051  3.06927e+07   \n",
       "StressTest6_P1Ecoli_10xDil  1.21919e+06  ...  294554  456170  2.92949e+07   \n",
       "\n",
       "                            alltt_c  uamag_c       amet_c       glyb_c  \\\n",
       "StressTest1_P1Ecoli_10xDil  28380.7  10873.4   1.7454e+07  3.80738e+07   \n",
       "StressTest2_P1Ecoli_10xDil  32992.3  24144.5  1.61145e+07  3.59641e+07   \n",
       "StressTest3_P1Ecoli_10xDil  33794.6  18957.6  1.66016e+07  3.60699e+07   \n",
       "StressTest4_P1Ecoli_10xDil  46101.8  22081.3  1.90966e+07  3.45695e+07   \n",
       "StressTest5_P1Ecoli_10xDil  27081.2   9161.9  1.65322e+07   3.5971e+07   \n",
       "StressTest6_P1Ecoli_10xDil   146758  7977.54  1.63024e+07  3.73821e+07   \n",
       "\n",
       "                                 glyc_c  tdcoa_c       aact_c  \n",
       "StressTest1_P1Ecoli_10xDil  2.97718e+07  17608.6  6.80622e+06  \n",
       "StressTest2_P1Ecoli_10xDil   2.2719e+07    91897  6.55681e+06  \n",
       "StressTest3_P1Ecoli_10xDil  2.31215e+07  19229.9  6.57512e+06  \n",
       "StressTest4_P1Ecoli_10xDil  1.99299e+07  18009.3  5.46561e+06  \n",
       "StressTest5_P1Ecoli_10xDil  2.17865e+07  69673.3  6.41457e+06  \n",
       "StressTest6_P1Ecoli_10xDil  2.08953e+07  46304.9  5.98957e+06  \n",
       "\n",
       "[6 rows x 1358 columns]"
      ]
     },
     "execution_count": 18,
     "metadata": {},
     "output_type": "execute_result"
    }
   ],
   "source": [
    "df_t"
   ]
  },
  {
   "cell_type": "code",
   "execution_count": 23,
   "metadata": {},
   "outputs": [],
   "source": [
    "from sklearn.preprocessing import StandardScaler\n",
    "df_t = df_t.dropna(axis='columns')\n",
    "features = list(df_t.columns)\n",
    "# Separating out the features\n",
    "x = df_t.loc[:, features].values\n",
    "# Separating out the target\n",
    "y = list(df_t.index)\n",
    "# Standardizing the features\n",
    "x = StandardScaler().fit_transform(x)"
   ]
  },
  {
   "cell_type": "code",
   "execution_count": 24,
   "metadata": {},
   "outputs": [],
   "source": [
    "from sklearn.decomposition import PCA\n",
    "pca = PCA(n_components=2)\n",
    "principalComponents = pca.fit_transform(x)\n",
    "principalDf = pd.DataFrame(data = principalComponents\n",
    "             , columns = ['principal component 1', 'principal component 2'])"
   ]
  },
  {
   "cell_type": "code",
   "execution_count": 26,
   "metadata": {},
   "outputs": [
    {
     "data": {
      "text/html": [
       "<div>\n",
       "<style scoped>\n",
       "    .dataframe tbody tr th:only-of-type {\n",
       "        vertical-align: middle;\n",
       "    }\n",
       "\n",
       "    .dataframe tbody tr th {\n",
       "        vertical-align: top;\n",
       "    }\n",
       "\n",
       "    .dataframe thead th {\n",
       "        text-align: right;\n",
       "    }\n",
       "</style>\n",
       "<table border=\"1\" class=\"dataframe\">\n",
       "  <thead>\n",
       "    <tr style=\"text-align: right;\">\n",
       "      <th></th>\n",
       "      <th>principal component 1</th>\n",
       "      <th>principal component 2</th>\n",
       "    </tr>\n",
       "  </thead>\n",
       "  <tbody>\n",
       "    <tr>\n",
       "      <th>0</th>\n",
       "      <td>5.924626</td>\n",
       "      <td>41.127028</td>\n",
       "    </tr>\n",
       "    <tr>\n",
       "      <th>1</th>\n",
       "      <td>-2.417156</td>\n",
       "      <td>20.958617</td>\n",
       "    </tr>\n",
       "    <tr>\n",
       "      <th>2</th>\n",
       "      <td>-5.111053</td>\n",
       "      <td>7.147834</td>\n",
       "    </tr>\n",
       "    <tr>\n",
       "      <th>3</th>\n",
       "      <td>55.792172</td>\n",
       "      <td>-27.621352</td>\n",
       "    </tr>\n",
       "    <tr>\n",
       "      <th>4</th>\n",
       "      <td>-16.658172</td>\n",
       "      <td>-8.486594</td>\n",
       "    </tr>\n",
       "    <tr>\n",
       "      <th>5</th>\n",
       "      <td>-37.530418</td>\n",
       "      <td>-33.125532</td>\n",
       "    </tr>\n",
       "  </tbody>\n",
       "</table>\n",
       "</div>"
      ],
      "text/plain": [
       "   principal component 1  principal component 2\n",
       "0               5.924626              41.127028\n",
       "1              -2.417156              20.958617\n",
       "2              -5.111053               7.147834\n",
       "3              55.792172             -27.621352\n",
       "4             -16.658172              -8.486594\n",
       "5             -37.530418             -33.125532"
      ]
     },
     "execution_count": 26,
     "metadata": {},
     "output_type": "execute_result"
    }
   ],
   "source": [
    "principalDf"
   ]
  },
  {
   "cell_type": "code",
   "execution_count": 31,
   "metadata": {},
   "outputs": [],
   "source": [
    "finalDf = pd.concat([principalDf, pd.Series(y, name='sample')], axis = 1)"
   ]
  },
  {
   "cell_type": "code",
   "execution_count": 41,
   "metadata": {},
   "outputs": [
    {
     "data": {
      "image/png": "[encoded data removed]",
      "text/plain": [
       "<Figure size 576x576 with 1 Axes>"
      ]
     },
     "metadata": {
      "needs_background": "light"
     },
     "output_type": "display_data"
    }
   ],
   "source": [
    "fig = plt.figure(figsize = (8,8))\n",
    "ax = fig.add_subplot(1,1,1) \n",
    "ax.set_xlabel('Principal Component 1', fontsize = 15)\n",
    "ax.set_ylabel('Principal Component 2', fontsize = 15)\n",
    "ax.set_title('2 component PCA', fontsize = 20)\n",
    "targets = y\n",
    "for target in targets:\n",
    "    indicesToKeep = finalDf['sample'] == target\n",
    "    ax.scatter(finalDf.loc[indicesToKeep, 'principal component 1']\n",
    "               , finalDf.loc[indicesToKeep, 'principal component 2']\n",
    "               , s = 50,\n",
    "              cmap = 'Pastel1')\n",
    "ax.legend(targets)\n",
    "ax.grid()"
   ]
  }
 ],
 "metadata": {
  "kernelspec": {
   "display_name": "bfair",
   "language": "python",
   "name": "bfair"
  },
  "language_info": {
   "codemirror_mode": {
    "name": "ipython",
    "version": 3
   },
   "file_extension": ".py",
   "mimetype": "text/x-python",
   "name": "python",
   "nbconvert_exporter": "python",
   "pygments_lexer": "ipython3",
   "version": "3.8.5"
  }
 },
 "nbformat": 4,
 "nbformat_minor": 4
}
