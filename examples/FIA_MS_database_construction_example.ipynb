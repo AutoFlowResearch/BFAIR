{
 "cells": [
  {
   "cell_type": "markdown",
   "metadata": {},
   "source": [
    "# Database construction for FIA-MS"
   ]
  },
  {
   "cell_type": "markdown",
   "metadata": {},
   "source": [
    "This example notebook shows how to create the organism specific database files (structure and mapping) necessary for processing FIA-MS data. The files are based on metabolite lists and additional information that can be taken from metabolic model. Here we present the processing steps necessary for processing models saved as three different file types; .xlsx, .json and .sbml."
   ]
  },
  {
   "cell_type": "code",
   "execution_count": 1,
   "metadata": {},
   "outputs": [
    {
     "name": "stderr",
     "output_type": "stream",
     "text": [
      "Determination of memory status is not supported on this \n",
      " platform, measuring for memoryleaks will never fail\n"
     ]
    }
   ],
   "source": [
    "import pandas as pd\n",
    "import cobra\n",
    "from collections import namedtuple\n",
    "import BFAIR.FIA_MS as fia_ms"
   ]
  },
  {
   "cell_type": "markdown",
   "metadata": {},
   "source": [
    "## Yeast"
   ]
  },
  {
   "cell_type": "markdown",
   "metadata": {},
   "source": [
    "The yeast model was described [here](https://www.nature.com/articles/s41467-019-11581-3) and can be found on [this website](https://sysbiochalmers.github.io/yeast-GEM/)."
   ]
  },
  {
   "cell_type": "markdown",
   "metadata": {},
   "source": [
    "### This needs to be streamlined"
   ]
  },
  {
   "cell_type": "code",
   "execution_count": 2,
   "metadata": {},
   "outputs": [],
   "source": [
    "yeast_df = pd.read_excel(\"data/FIA_MS_example/database_files/yeastGEM.xlsx\", sheet_name='METS', engine='openpyxl')"
   ]
  },
  {
   "cell_type": "code",
   "execution_count": 3,
   "metadata": {},
   "outputs": [],
   "source": [
    "# First, we reduce the list of metabolites. They are listed for each compartment in the model but we only need them once\n",
    "yeast_df_unique = yeast_df.drop_duplicates(subset='NAME', keep='first')\n",
    "# Then we kick out metabolites that do not have an annotated composition/formula\n",
    "yeast_df_unique = yeast_df_unique.dropna(subset=['COMPOSITION'])\n",
    "# And finally we remove metabolites that are connected to a \"rest\" of a molecule or a halogene\n",
    "yeast_df_unique = yeast_df_unique[~yeast_df_unique['COMPOSITION'].str.contains('R')]\n",
    "yeast_df_unique = yeast_df_unique[~yeast_df_unique['COMPOSITION'].str.contains('X')]"
   ]
  },
  {
   "cell_type": "code",
   "execution_count": 4,
   "metadata": {},
   "outputs": [
    {
     "data": {
      "text/plain": [
       "(1200, 864)"
      ]
     },
     "execution_count": 4,
     "metadata": {},
     "output_type": "execute_result"
    }
   ],
   "source": [
    "# Check how many metabolites and how many unique structures remain\n",
    "len(yeast_df_unique), len(yeast_df_unique.COMPOSITION.unique())"
   ]
  },
  {
   "cell_type": "code",
   "execution_count": 5,
   "metadata": {},
   "outputs": [],
   "source": [
    "# Reformat the dataframe so that it contains the necessary information\n",
    "Metabolite = namedtuple('Metabolite', ['id', 'formula', 'charge', 'name'])\n",
    "yeast_mets = [\n",
    "    Metabolite(id=row['REPLACEMENT ID'], formula=row['COMPOSITION'], charge=row['CHARGE'], name=row['NAME'])\n",
    "    for i, row in yeast_df_unique.iterrows()]"
   ]
  },
  {
   "cell_type": "code",
   "execution_count": 6,
   "metadata": {},
   "outputs": [
    {
     "name": "stderr",
     "output_type": "stream",
     "text": [
      "/Users/matmat/opt/anaconda3/envs/bfair/lib/python3.8/site-packages/pandas/core/indexing.py:1743: SettingWithCopyWarning: \n",
      "A value is trying to be set on a copy of a slice from a DataFrame.\n",
      "Try using .loc[row_indexer,col_indexer] = value instead\n",
      "\n",
      "See the caveats in the documentation: https://pandas.pydata.org/pandas-docs/stable/user_guide/indexing.html#returning-a-view-versus-a-copy\n",
      "  isetter(ilocs[0], value)\n"
     ]
    }
   ],
   "source": [
    "fia_ms.create_database(yeast_mets, 'yeastGEM', 'data/FIA_MS_example/database_files/CHEMISTRY')"
   ]
  },
  {
   "cell_type": "markdown",
   "metadata": {},
   "source": [
    "## E. coli"
   ]
  },
  {
   "cell_type": "markdown",
   "metadata": {},
   "source": [
    "The E. coli model was described [here](https://www.ncbi.nlm.nih.gov/pmc/articles/PMC3261703/) and can be found on [this website](http://bigg.ucsd.edu/models/iJO1366)."
   ]
  },
  {
   "cell_type": "code",
   "execution_count": 7,
   "metadata": {},
   "outputs": [],
   "source": [
    "model_coli = cobra.io.load_json_model('data/FIA_MS_example/database_files/iJO1366.json')"
   ]
  },
  {
   "cell_type": "code",
   "execution_count": 8,
   "metadata": {},
   "outputs": [],
   "source": [
    "fia_ms.create_database(model_coli.metabolites, 'iJO1366', 'data/FIA_MS_example/database_files/CHEMISTRY')"
   ]
  },
  {
   "cell_type": "markdown",
   "metadata": {},
   "source": [
    "## P. putida"
   ]
  },
  {
   "cell_type": "markdown",
   "metadata": {},
   "source": [
    "The P. putida model was described [here](https://sfamjournals.onlinelibrary.wiley.com/doi/full/10.1111/1462-2920.14843) and can be found on [this website](http://bigg.ucsd.edu/models/iJN1463)."
   ]
  },
  {
   "cell_type": "code",
   "execution_count": 9,
   "metadata": {},
   "outputs": [],
   "source": [
    "model_putida = cobra.io.load_json_model('data/FIA_MS_example/database_files/iJN1463.json')"
   ]
  },
  {
   "cell_type": "code",
   "execution_count": 11,
   "metadata": {},
   "outputs": [],
   "source": [
    "fia_ms.create_database(model_putida.metabolites, 'iJN1463', 'data/FIA_MS_example/database_files/CHEMISTRY')"
   ]
  },
  {
   "cell_type": "markdown",
   "metadata": {},
   "source": [
    "## Streptomyces"
   ]
  },
  {
   "cell_type": "markdown",
   "metadata": {},
   "source": [
    "The Streptomyces metabolite lists were set up in house."
   ]
  },
  {
   "cell_type": "code",
   "execution_count": 12,
   "metadata": {},
   "outputs": [],
   "source": [
    "df_mets = pd.read_excel('data/FIA_MS_example/database_files/449_2018_1900_MOESM1_ESM.xlsx', sheet_name='Metabolites', skiprows=1, engine='openpyxl')"
   ]
  },
  {
   "cell_type": "code",
   "execution_count": 13,
   "metadata": {},
   "outputs": [],
   "source": [
    "mets_endo = []\n",
    "mets_exo = []\n",
    "for i, row in df_mets.iterrows():\n",
    "    desc = row['Metabolite description']\n",
    "    if 'biomass' in desc.lower() or 'Acyl_sn_glycerol_3_phosphate_C18.925H37.908O7P' == desc:\n",
    "        continue\n",
    "    if '.' in row['Metabolite formula']:\n",
    "        continue\n",
    "    m = Metabolite(\n",
    "        id=row['Metabolite name'], \n",
    "        formula=row['Metabolite formula'], \n",
    "        charge=0, \n",
    "        name=row['Metabolite description'],\n",
    "    )\n",
    "    if m.id[-3:] == '[e]':\n",
    "        mets_exo.append(m)\n",
    "    else:\n",
    "        mets_endo.append(m)"
   ]
  },
  {
   "cell_type": "code",
   "execution_count": 14,
   "metadata": {},
   "outputs": [
    {
     "data": {
      "text/plain": [
       "(950, 198)"
      ]
     },
     "execution_count": 14,
     "metadata": {},
     "output_type": "execute_result"
    }
   ],
   "source": [
    "len(mets_endo), len(mets_exo)"
   ]
  },
  {
   "cell_type": "code",
   "execution_count": 15,
   "metadata": {},
   "outputs": [],
   "source": [
    "df_secondary = pd.read_excel('data/FIA_MS_example/database_files/secondary_collinus.xlsx', engine='openpyxl')"
   ]
  },
  {
   "cell_type": "code",
   "execution_count": 16,
   "metadata": {},
   "outputs": [],
   "source": [
    "for i, row in df_secondary.iterrows():\n",
    "    if isinstance(row['Formula'], float):\n",
    "        continue\n",
    "    m = Metabolite(\n",
    "        id=row['Name'].replace(' ', ''), \n",
    "        formula=row['Formula'], \n",
    "        charge=0, \n",
    "        name=row['Name'],\n",
    "    )\n",
    "    mets_exo.append(m)\n",
    "    mets_endo.append(m)"
   ]
  },
  {
   "cell_type": "code",
   "execution_count": 17,
   "metadata": {},
   "outputs": [
    {
     "data": {
      "text/plain": [
       "(973, 221)"
      ]
     },
     "execution_count": 17,
     "metadata": {},
     "output_type": "execute_result"
    }
   ],
   "source": [
    "len(mets_endo), len(mets_exo)"
   ]
  },
  {
   "cell_type": "code",
   "execution_count": 18,
   "metadata": {},
   "outputs": [],
   "source": [
    "fia_ms.create_database(mets_endo, 'streptomyces_endo', 'data/FIA_MS_example/database_files/CHEMISTRY')\n",
    "fia_ms.create_database(mets_exo, 'streptomyces_exo', 'data/FIA_MS_example/database_files/CHEMISTRY')"
   ]
  },
  {
   "cell_type": "markdown",
   "metadata": {},
   "source": [
    "## C. elegans"
   ]
  },
  {
   "cell_type": "markdown",
   "metadata": {},
   "source": [
    "The C. elegans model was described [here](https://doi.org/10.3389/fmolb.2019.00002) and can be found on [this website](https://figshare.com/articles/dataset/Data_Sheet_2_Multi-Omics_and_Genome-Scale_Modeling_Reveal_a_Metabolic_Shift_During_C_elegans_Aging_ZIP/7679876/1)."
   ]
  },
  {
   "cell_type": "code",
   "execution_count": 19,
   "metadata": {},
   "outputs": [
    {
     "name": "stderr",
     "output_type": "stream",
     "text": [
      "'' is not a valid SBML 'SId'.\n"
     ]
    }
   ],
   "source": [
    "model_celegans = cobra.io.read_sbml_model('data/FIA_MS_example/database_files/wormjam-20180125.sbml')"
   ]
  },
  {
   "cell_type": "code",
   "execution_count": 20,
   "metadata": {},
   "outputs": [],
   "source": [
    "fia_ms.create_database(model_celegans.metabolites, 'Celegans', 'data/FIA_MS_example/database_files/CHEMISTRY')"
   ]
  },
  {
   "cell_type": "markdown",
   "metadata": {},
   "source": [
    "## Human"
   ]
  },
  {
   "cell_type": "markdown",
   "metadata": {},
   "source": [
    "The human database we're using is based on [this publication](https://doi.org/10.1093/nar/gkx1089) but ut was prepared in a different way"
   ]
  },
  {
   "cell_type": "code",
   "execution_count": null,
   "metadata": {},
   "outputs": [],
   "source": []
  }
 ],
 "metadata": {
  "kernelspec": {
   "display_name": "bfair",
   "language": "python",
   "name": "bfair"
  },
  "language_info": {
   "codemirror_mode": {
    "name": "ipython",
    "version": 3
   },
   "file_extension": ".py",
   "mimetype": "text/x-python",
   "name": "python",
   "nbconvert_exporter": "python",
   "pygments_lexer": "ipython3",
   "version": "3.8.5"
  }
 },
 "nbformat": 4,
 "nbformat_minor": 4
}
