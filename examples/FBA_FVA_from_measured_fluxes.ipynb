{
 "cells": [
  {
   "cell_type": "code",
   "execution_count": 116,
   "metadata": {},
   "outputs": [],
   "source": [
    "import pandas as pd\n",
    "import numpy as np"
   ]
  },
  {
   "cell_type": "code",
   "execution_count": 122,
   "metadata": {},
   "outputs": [],
   "source": [
    "from cobra.io import read_sbml_model, load_json_model, load_yaml_model, load_matlab_model, load_model\n",
    "from cobra.test import create_test_model\n",
    "from cobra.flux_analysis import flux_variability_analysis, pfba"
   ]
  },
  {
   "cell_type": "markdown",
   "metadata": {},
   "source": [
    "## Reading the model\n",
    "##### The model that describes your organism can be in different format. Uncomment one of the following command to read your file. Alternatively you can read the model from BIGG or BioModels database by knowing the id\n",
    "##### Recomendations for the most popular models : "
   ]
  },
  {
   "cell_type": "code",
   "execution_count": 61,
   "metadata": {},
   "outputs": [],
   "source": [
    "# model = load_model(\"iML1515\") ## iML1515 is the model ID\n",
    "\n",
    "#path = 'path_to_model_file'\n",
    "\n",
    "# read sbml model\n",
    "# model = read_sbml_model(path)\n",
    "\n",
    "# read json model\n",
    "# model = load_json_model(path)\n",
    "\n",
    "# read yml model\n",
    "# model = load_yaml_model(path)\n",
    "\n",
    "# read matlab model\n",
    "# model = load_matlab_model(path)"
   ]
  },
  {
   "cell_type": "code",
   "execution_count": 92,
   "metadata": {},
   "outputs": [],
   "source": [
    "# E. coli core metabolism model\n",
    "\n",
    "model = create_test_model(\"textbook\")"
   ]
  },
  {
   "cell_type": "markdown",
   "metadata": {},
   "source": [
    "# Measured uptake rates and fluxes\n",
    "\n",
    "##### The flux data should be in the format metabolite id or reaction ID, flux value, error/ci/std\n",
    "##### Usually the units that are used are mmol/h/gDW"
   ]
  },
  {
   "cell_type": "code",
   "execution_count": 93,
   "metadata": {},
   "outputs": [],
   "source": [
    "long2019 = pd.read_csv('long2019_tidy.csv')"
   ]
  },
  {
   "cell_type": "code",
   "execution_count": 94,
   "metadata": {},
   "outputs": [
    {
     "data": {
      "text/html": [
       "<div>\n",
       "<style scoped>\n",
       "    .dataframe tbody tr th:only-of-type {\n",
       "        vertical-align: middle;\n",
       "    }\n",
       "\n",
       "    .dataframe tbody tr th {\n",
       "        vertical-align: top;\n",
       "    }\n",
       "\n",
       "    .dataframe thead th {\n",
       "        text-align: right;\n",
       "    }\n",
       "</style>\n",
       "<table border=\"1\" class=\"dataframe\">\n",
       "  <thead>\n",
       "    <tr style=\"text-align: right;\">\n",
       "      <th></th>\n",
       "      <th>Strain</th>\n",
       "      <th>Genotype</th>\n",
       "      <th>Medium</th>\n",
       "      <th>Dilution</th>\n",
       "      <th>Measurement_Type</th>\n",
       "      <th>Time</th>\n",
       "      <th>Measurement_ID</th>\n",
       "      <th>Original_ID</th>\n",
       "      <th>Value</th>\n",
       "      <th>Original_Value</th>\n",
       "      <th>Unit</th>\n",
       "      <th>Original_Unit</th>\n",
       "      <th>Error</th>\n",
       "      <th>Original_Error</th>\n",
       "      <th>Source</th>\n",
       "    </tr>\n",
       "  </thead>\n",
       "  <tbody>\n",
       "    <tr>\n",
       "      <th>0</th>\n",
       "      <td>BW25113</td>\n",
       "      <td>WT</td>\n",
       "      <td>GLC</td>\n",
       "      <td>NaN</td>\n",
       "      <td>consumption_rate</td>\n",
       "      <td>NaN</td>\n",
       "      <td>qGlc</td>\n",
       "      <td>qGLC</td>\n",
       "      <td>8.58</td>\n",
       "      <td>8.58</td>\n",
       "      <td>mmol/h/g</td>\n",
       "      <td>mmol/h/gDW</td>\n",
       "      <td>NaN</td>\n",
       "      <td>NaN</td>\n",
       "      <td>(Long, 2019)</td>\n",
       "    </tr>\n",
       "    <tr>\n",
       "      <th>1</th>\n",
       "      <td>BW25113</td>\n",
       "      <td>glk</td>\n",
       "      <td>GLC</td>\n",
       "      <td>NaN</td>\n",
       "      <td>consumption_rate</td>\n",
       "      <td>NaN</td>\n",
       "      <td>qGlc</td>\n",
       "      <td>qGLC</td>\n",
       "      <td>8.05</td>\n",
       "      <td>8.05</td>\n",
       "      <td>mmol/h/g</td>\n",
       "      <td>mmol/h/gDW</td>\n",
       "      <td>NaN</td>\n",
       "      <td>NaN</td>\n",
       "      <td>(Long, 2019)</td>\n",
       "    </tr>\n",
       "    <tr>\n",
       "      <th>2</th>\n",
       "      <td>BW25113</td>\n",
       "      <td>pgm</td>\n",
       "      <td>GLC</td>\n",
       "      <td>NaN</td>\n",
       "      <td>consumption_rate</td>\n",
       "      <td>NaN</td>\n",
       "      <td>qGlc</td>\n",
       "      <td>qGLC</td>\n",
       "      <td>9.34</td>\n",
       "      <td>9.34</td>\n",
       "      <td>mmol/h/g</td>\n",
       "      <td>mmol/h/gDW</td>\n",
       "      <td>NaN</td>\n",
       "      <td>NaN</td>\n",
       "      <td>(Long, 2019)</td>\n",
       "    </tr>\n",
       "    <tr>\n",
       "      <th>3</th>\n",
       "      <td>BW25113</td>\n",
       "      <td>pgi</td>\n",
       "      <td>GLC</td>\n",
       "      <td>NaN</td>\n",
       "      <td>consumption_rate</td>\n",
       "      <td>NaN</td>\n",
       "      <td>qGlc</td>\n",
       "      <td>qGLC</td>\n",
       "      <td>2.06</td>\n",
       "      <td>2.06</td>\n",
       "      <td>mmol/h/g</td>\n",
       "      <td>mmol/h/gDW</td>\n",
       "      <td>NaN</td>\n",
       "      <td>NaN</td>\n",
       "      <td>(Long, 2019)</td>\n",
       "    </tr>\n",
       "    <tr>\n",
       "      <th>4</th>\n",
       "      <td>BW25113</td>\n",
       "      <td>pfkA</td>\n",
       "      <td>GLC</td>\n",
       "      <td>NaN</td>\n",
       "      <td>consumption_rate</td>\n",
       "      <td>NaN</td>\n",
       "      <td>qGlc</td>\n",
       "      <td>qGLC</td>\n",
       "      <td>2.46</td>\n",
       "      <td>2.46</td>\n",
       "      <td>mmol/h/g</td>\n",
       "      <td>mmol/h/gDW</td>\n",
       "      <td>NaN</td>\n",
       "      <td>NaN</td>\n",
       "      <td>(Long, 2019)</td>\n",
       "    </tr>\n",
       "  </tbody>\n",
       "</table>\n",
       "</div>"
      ],
      "text/plain": [
       "    Strain Genotype Medium  Dilution  Measurement_Type Time Measurement_ID  \\\n",
       "0  BW25113       WT    GLC       NaN  consumption_rate  NaN           qGlc   \n",
       "1  BW25113      glk    GLC       NaN  consumption_rate  NaN           qGlc   \n",
       "2  BW25113      pgm    GLC       NaN  consumption_rate  NaN           qGlc   \n",
       "3  BW25113      pgi    GLC       NaN  consumption_rate  NaN           qGlc   \n",
       "4  BW25113     pfkA    GLC       NaN  consumption_rate  NaN           qGlc   \n",
       "\n",
       "  Original_ID  Value  Original_Value      Unit Original_Unit  Error  \\\n",
       "0        qGLC   8.58            8.58  mmol/h/g    mmol/h/gDW    NaN   \n",
       "1        qGLC   8.05            8.05  mmol/h/g    mmol/h/gDW    NaN   \n",
       "2        qGLC   9.34            9.34  mmol/h/g    mmol/h/gDW    NaN   \n",
       "3        qGLC   2.06            2.06  mmol/h/g    mmol/h/gDW    NaN   \n",
       "4        qGLC   2.46            2.46  mmol/h/g    mmol/h/gDW    NaN   \n",
       "\n",
       "   Original_Error        Source  \n",
       "0             NaN  (Long, 2019)  \n",
       "1             NaN  (Long, 2019)  \n",
       "2             NaN  (Long, 2019)  \n",
       "3             NaN  (Long, 2019)  \n",
       "4             NaN  (Long, 2019)  "
      ]
     },
     "execution_count": 94,
     "metadata": {},
     "output_type": "execute_result"
    }
   ],
   "source": [
    "long2019.head()"
   ]
  },
  {
   "cell_type": "code",
   "execution_count": 95,
   "metadata": {},
   "outputs": [],
   "source": [
    "# Subset the data only for WT\n",
    "data = long2019.query('Genotype == \"WT\"')"
   ]
  },
  {
   "cell_type": "code",
   "execution_count": 96,
   "metadata": {},
   "outputs": [
    {
     "data": {
      "text/html": [
       "<div>\n",
       "<style scoped>\n",
       "    .dataframe tbody tr th:only-of-type {\n",
       "        vertical-align: middle;\n",
       "    }\n",
       "\n",
       "    .dataframe tbody tr th {\n",
       "        vertical-align: top;\n",
       "    }\n",
       "\n",
       "    .dataframe thead th {\n",
       "        text-align: right;\n",
       "    }\n",
       "</style>\n",
       "<table border=\"1\" class=\"dataframe\">\n",
       "  <thead>\n",
       "    <tr style=\"text-align: right;\">\n",
       "      <th></th>\n",
       "      <th>Strain</th>\n",
       "      <th>Genotype</th>\n",
       "      <th>Medium</th>\n",
       "      <th>Dilution</th>\n",
       "      <th>Measurement_Type</th>\n",
       "      <th>Time</th>\n",
       "      <th>Measurement_ID</th>\n",
       "      <th>Original_ID</th>\n",
       "      <th>Value</th>\n",
       "      <th>Original_Value</th>\n",
       "      <th>Unit</th>\n",
       "      <th>Original_Unit</th>\n",
       "      <th>Error</th>\n",
       "      <th>Original_Error</th>\n",
       "      <th>Source</th>\n",
       "    </tr>\n",
       "  </thead>\n",
       "  <tbody>\n",
       "    <tr>\n",
       "      <th>0</th>\n",
       "      <td>BW25113</td>\n",
       "      <td>WT</td>\n",
       "      <td>GLC</td>\n",
       "      <td>NaN</td>\n",
       "      <td>consumption_rate</td>\n",
       "      <td>NaN</td>\n",
       "      <td>qGlc</td>\n",
       "      <td>qGLC</td>\n",
       "      <td>8.58</td>\n",
       "      <td>8.58</td>\n",
       "      <td>mmol/h/g</td>\n",
       "      <td>mmol/h/gDW</td>\n",
       "      <td>NaN</td>\n",
       "      <td>NaN</td>\n",
       "      <td>(Long, 2019)</td>\n",
       "    </tr>\n",
       "  </tbody>\n",
       "</table>\n",
       "</div>"
      ],
      "text/plain": [
       "    Strain Genotype Medium  Dilution  Measurement_Type Time Measurement_ID  \\\n",
       "0  BW25113       WT    GLC       NaN  consumption_rate  NaN           qGlc   \n",
       "\n",
       "  Original_ID  Value  Original_Value      Unit Original_Unit  Error  \\\n",
       "0        qGLC   8.58            8.58  mmol/h/g    mmol/h/gDW    NaN   \n",
       "\n",
       "   Original_Error        Source  \n",
       "0             NaN  (Long, 2019)  "
      ]
     },
     "execution_count": 96,
     "metadata": {},
     "output_type": "execute_result"
    }
   ],
   "source": [
    "data.query('Measurement_ID == \"qGlc\"')"
   ]
  },
  {
   "cell_type": "code",
   "execution_count": 97,
   "metadata": {},
   "outputs": [],
   "source": [
    "rxns = data['Measurement_ID'].unique()"
   ]
  },
  {
   "cell_type": "code",
   "execution_count": 98,
   "metadata": {},
   "outputs": [],
   "source": [
    "# If there are reactions that are names differently than in the model, add them to this dictionary following the example\n",
    "id_conc = {'qGlc':'EX_glc__D_e'}"
   ]
  },
  {
   "cell_type": "code",
   "execution_count": null,
   "metadata": {},
   "outputs": [],
   "source": [
    "# You may need the conversion of the fluxes from metabolite names. For example, this will convert glc to EX_glc_e\n",
    "# rates_ids = ['EX_' + met + '_e' for met in data['Metabolite ID'].values]\n",
    "# data['Measurement_ID'] = rates_ids"
   ]
  },
  {
   "cell_type": "markdown",
   "metadata": {},
   "source": [
    "## This code will go through dataframe and set boundaries for found reactions. \n",
    "#### Make sure the column names are the same as in the example Measurement_ID,Value,Error"
   ]
  },
  {
   "cell_type": "code",
   "execution_count": 99,
   "metadata": {},
   "outputs": [
    {
     "name": "stdout",
     "output_type": "stream",
     "text": [
      "The reaction ID qGlc was not found in the model.\n",
      "The reaction ID qGlc was found in the dictionary.\n",
      "The reaction ID GLCptspp was not found in the model.\n",
      "The reaction ID GLCptspp was not found in the dictionary.\n"
     ]
    }
   ],
   "source": [
    "added_rxns = [] \n",
    "for _, rxn in data.head().iterrows():\n",
    "    try:\n",
    "        model.reactions.get_by_id(rxn['Measurement_ID']).lower_bound = rxn['Value'] - rxn['Value']*0.025 # if there is no error/ci/std it is possible to use 5% interval\n",
    "        model.reactions.get_by_id(rxn['Measurement_ID']).upper_bound = rxn['Value'] + rxn['Value']*0.025 # use rxn['Error'] instead of rxn['Value']*0.025 if error is specified\n",
    "        added_rxns.append(rxn['Measurement_ID'])\n",
    "    except KeyError:\n",
    "        print(f\"The reaction ID {rxn['Measurement_ID']} was not found in the model.\")\n",
    "        try:\n",
    "            model.reactions.get_by_id(id_conc[rxn['Measurement_ID']]).lower_bound = rxn['Value'] - rxn['Value']*0.025 # if there is no error/ci/std it is possible to use 5% interval\n",
    "            model.reactions.get_by_id(id_conc[rxn['Measurement_ID']]).upper_bound = rxn['Value'] + rxn['Value']*0.025\n",
    "            print(f\"The reaction ID {rxn['Measurement_ID']} was found in the dictionary.\")\n",
    "            added_rxns.append(id_conc[rxn['Measurement_ID']])\n",
    "        except KeyError:\n",
    "            print(f\"The reaction ID {rxn['Measurement_ID']} was not found in the dictionary.\")"
   ]
  },
  {
   "cell_type": "markdown",
   "metadata": {},
   "source": [
    "### Alternatively use this code to manually add reaction boundaries one by one"
   ]
  },
  {
   "cell_type": "code",
   "execution_count": 100,
   "metadata": {},
   "outputs": [],
   "source": [
    "# reaction_id = 'ID' # add the reaction ID here\n",
    "# model.reactions.get_by_id(reaction_id).lower_bound = -1000 # add measured value\n",
    "# model.reactions.get_by_id(reaction_id).upper_bound = 1000 # add measured value"
   ]
  },
  {
   "cell_type": "code",
   "execution_count": 101,
   "metadata": {},
   "outputs": [],
   "source": [
    "if model.reactions.get_by_id('EX_glc__D_e').lower_bound > 0:\n",
    "    model.reactions.get_by_id('EX_glc__D_e').lower_bound = -model.reactions.get_by_id('EX_glc__D_e').lower_bound\n",
    "    model.reactions.get_by_id('EX_glc__D_e').upper_bound = -model.reactions.get_by_id('EX_glc__D_e').upper_bound"
   ]
  },
  {
   "cell_type": "code",
   "execution_count": 102,
   "metadata": {},
   "outputs": [
    {
     "data": {
      "text/plain": [
       "['EX_glc__D_e', 'PGI', 'PFK', 'FBP']"
      ]
     },
     "execution_count": 102,
     "metadata": {},
     "output_type": "execute_result"
    }
   ],
   "source": [
    "# list of the constrained reactions\n",
    "added_rxns"
   ]
  },
  {
   "cell_type": "markdown",
   "metadata": {},
   "source": [
    "# Biomass function"
   ]
  },
  {
   "cell_type": "code",
   "execution_count": 135,
   "metadata": {},
   "outputs": [],
   "source": [
    "# to change the objective function\n",
    "# model.objective = \"Reaction ID\"\n",
    "# model.reactions.get_by_id(\"Reaction ID\").upper_bound = 1000"
   ]
  },
  {
   "cell_type": "markdown",
   "metadata": {},
   "source": [
    "# Run FBA"
   ]
  },
  {
   "cell_type": "code",
   "execution_count": 131,
   "metadata": {},
   "outputs": [
    {
     "data": {
      "text/html": [
       "<strong><em>Optimal</em> solution with objective value 0.752</strong><br><div>\n",
       "<style scoped>\n",
       "    .dataframe tbody tr th:only-of-type {\n",
       "        vertical-align: middle;\n",
       "    }\n",
       "\n",
       "    .dataframe tbody tr th {\n",
       "        vertical-align: top;\n",
       "    }\n",
       "\n",
       "    .dataframe thead th {\n",
       "        text-align: right;\n",
       "    }\n",
       "</style>\n",
       "<table border=\"1\" class=\"dataframe\">\n",
       "  <thead>\n",
       "    <tr style=\"text-align: right;\">\n",
       "      <th></th>\n",
       "      <th>fluxes</th>\n",
       "      <th>reduced_costs</th>\n",
       "    </tr>\n",
       "  </thead>\n",
       "  <tbody>\n",
       "    <tr>\n",
       "      <th>ACALD</th>\n",
       "      <td>0.000000</td>\n",
       "      <td>-4.336809e-19</td>\n",
       "    </tr>\n",
       "    <tr>\n",
       "      <th>ACALDt</th>\n",
       "      <td>0.000000</td>\n",
       "      <td>-0.000000e+00</td>\n",
       "    </tr>\n",
       "    <tr>\n",
       "      <th>ACKr</th>\n",
       "      <td>0.000000</td>\n",
       "      <td>1.734723e-18</td>\n",
       "    </tr>\n",
       "    <tr>\n",
       "      <th>ACONTa</th>\n",
       "      <td>6.021834</td>\n",
       "      <td>0.000000e+00</td>\n",
       "    </tr>\n",
       "    <tr>\n",
       "      <th>ACONTb</th>\n",
       "      <td>6.021834</td>\n",
       "      <td>0.000000e+00</td>\n",
       "    </tr>\n",
       "    <tr>\n",
       "      <th>...</th>\n",
       "      <td>...</td>\n",
       "      <td>...</td>\n",
       "    </tr>\n",
       "    <tr>\n",
       "      <th>TALA</th>\n",
       "      <td>0.815960</td>\n",
       "      <td>0.000000e+00</td>\n",
       "    </tr>\n",
       "    <tr>\n",
       "      <th>THD2</th>\n",
       "      <td>1.978888</td>\n",
       "      <td>0.000000e+00</td>\n",
       "    </tr>\n",
       "    <tr>\n",
       "      <th>TKT1</th>\n",
       "      <td>0.815960</td>\n",
       "      <td>0.000000e+00</td>\n",
       "    </tr>\n",
       "    <tr>\n",
       "      <th>TKT2</th>\n",
       "      <td>0.544520</td>\n",
       "      <td>0.000000e+00</td>\n",
       "    </tr>\n",
       "    <tr>\n",
       "      <th>TPI</th>\n",
       "      <td>7.096096</td>\n",
       "      <td>0.000000e+00</td>\n",
       "    </tr>\n",
       "  </tbody>\n",
       "</table>\n",
       "<p>95 rows × 2 columns</p>\n",
       "</div>"
      ],
      "text/plain": [
       "<Solution 0.752 at 0x1259d7c18>"
      ]
     },
     "execution_count": 131,
     "metadata": {},
     "output_type": "execute_result"
    }
   ],
   "source": [
    "solution_FBA = model.optimize()\n",
    "solution_FBA"
   ]
  },
  {
   "cell_type": "code",
   "execution_count": 132,
   "metadata": {},
   "outputs": [],
   "source": [
    "FBA_fluxes = pd.DataFrame(solution_FBA.fluxes)\n",
    "# FBA_fluxes.to_clipboard() # to copypaste\n",
    "# FBA_fluxes.to_excel('name_of_the_excel.xlxs') # to save to excel\n",
    "# FBA_fluxes.to_csv('name_of_the_excel.csv') # to save to csv"
   ]
  },
  {
   "cell_type": "code",
   "execution_count": 134,
   "metadata": {},
   "outputs": [
    {
     "data": {
      "text/plain": [
       "0.7519114393573396"
      ]
     },
     "execution_count": 134,
     "metadata": {},
     "output_type": "execute_result"
    }
   ],
   "source": [
    "#  optimized objective value (usually biomass)\n",
    "solution_FBA.objective_value"
   ]
  },
  {
   "cell_type": "markdown",
   "metadata": {},
   "source": [
    "# Run FVA"
   ]
  },
  {
   "cell_type": "code",
   "execution_count": 127,
   "metadata": {},
   "outputs": [
    {
     "data": {
      "text/html": [
       "<div>\n",
       "<style scoped>\n",
       "    .dataframe tbody tr th:only-of-type {\n",
       "        vertical-align: middle;\n",
       "    }\n",
       "\n",
       "    .dataframe tbody tr th {\n",
       "        vertical-align: top;\n",
       "    }\n",
       "\n",
       "    .dataframe thead th {\n",
       "        text-align: right;\n",
       "    }\n",
       "</style>\n",
       "<table border=\"1\" class=\"dataframe\">\n",
       "  <thead>\n",
       "    <tr style=\"text-align: right;\">\n",
       "      <th></th>\n",
       "      <th>minimum</th>\n",
       "      <th>maximum</th>\n",
       "    </tr>\n",
       "  </thead>\n",
       "  <tbody>\n",
       "    <tr>\n",
       "      <th>ACALD</th>\n",
       "      <td>-2.197078</td>\n",
       "      <td>0.000000</td>\n",
       "    </tr>\n",
       "    <tr>\n",
       "      <th>ACALDt</th>\n",
       "      <td>-2.197078</td>\n",
       "      <td>0.000000</td>\n",
       "    </tr>\n",
       "    <tr>\n",
       "      <th>ACKr</th>\n",
       "      <td>-3.237799</td>\n",
       "      <td>0.000000</td>\n",
       "    </tr>\n",
       "    <tr>\n",
       "      <th>ACONTa</th>\n",
       "      <td>3.840566</td>\n",
       "      <td>7.117883</td>\n",
       "    </tr>\n",
       "    <tr>\n",
       "      <th>ACONTb</th>\n",
       "      <td>3.840566</td>\n",
       "      <td>7.117883</td>\n",
       "    </tr>\n",
       "    <tr>\n",
       "      <th>...</th>\n",
       "      <td>...</td>\n",
       "      <td>...</td>\n",
       "    </tr>\n",
       "    <tr>\n",
       "      <th>TALA</th>\n",
       "      <td>0.717154</td>\n",
       "      <td>0.834550</td>\n",
       "    </tr>\n",
       "    <tr>\n",
       "      <th>THD2</th>\n",
       "      <td>0.000000</td>\n",
       "      <td>0.000000</td>\n",
       "    </tr>\n",
       "    <tr>\n",
       "      <th>TKT1</th>\n",
       "      <td>0.717154</td>\n",
       "      <td>0.834550</td>\n",
       "    </tr>\n",
       "    <tr>\n",
       "      <th>TKT2</th>\n",
       "      <td>0.445932</td>\n",
       "      <td>0.590254</td>\n",
       "    </tr>\n",
       "    <tr>\n",
       "      <th>TPI</th>\n",
       "      <td>7.096096</td>\n",
       "      <td>7.205269</td>\n",
       "    </tr>\n",
       "  </tbody>\n",
       "</table>\n",
       "<p>95 rows × 2 columns</p>\n",
       "</div>"
      ],
      "text/plain": [
       "         minimum   maximum\n",
       "ACALD  -2.197078  0.000000\n",
       "ACALDt -2.197078  0.000000\n",
       "ACKr   -3.237799  0.000000\n",
       "ACONTa  3.840566  7.117883\n",
       "ACONTb  3.840566  7.117883\n",
       "...          ...       ...\n",
       "TALA    0.717154  0.834550\n",
       "THD2    0.000000  0.000000\n",
       "TKT1    0.717154  0.834550\n",
       "TKT2    0.445932  0.590254\n",
       "TPI     7.096096  7.205269\n",
       "\n",
       "[95 rows x 2 columns]"
      ]
     },
     "execution_count": 127,
     "metadata": {},
     "output_type": "execute_result"
    }
   ],
   "source": [
    "solution_FVA = flux_variability_analysis(model,fraction_of_optimum=0.9,loopless=True) # loopless=True ensured no loop in the solution, but may take more time to run\n",
    "solution_FVA"
   ]
  },
  {
   "cell_type": "code",
   "execution_count": 128,
   "metadata": {},
   "outputs": [],
   "source": [
    "# FVA_fluxes = pd.DataFrame(solution_FVA)\n",
    "# FVA_fluxes.to_clipboard() # to copypaste\n",
    "# FVA_fluxes.to_excel('name_of_the_excel.xlxs') # to save to excel\n",
    "# FVA_fluxes.to_csv('name_of_the_excel.csv') # to save to csv"
   ]
  },
  {
   "cell_type": "markdown",
   "metadata": {},
   "source": [
    "# Run pFBA"
   ]
  },
  {
   "cell_type": "code",
   "execution_count": 129,
   "metadata": {},
   "outputs": [
    {
     "data": {
      "text/html": [
       "<strong><em>Optimal</em> solution with objective value 474.042</strong><br><div>\n",
       "<style scoped>\n",
       "    .dataframe tbody tr th:only-of-type {\n",
       "        vertical-align: middle;\n",
       "    }\n",
       "\n",
       "    .dataframe tbody tr th {\n",
       "        vertical-align: top;\n",
       "    }\n",
       "\n",
       "    .dataframe thead th {\n",
       "        text-align: right;\n",
       "    }\n",
       "</style>\n",
       "<table border=\"1\" class=\"dataframe\">\n",
       "  <thead>\n",
       "    <tr style=\"text-align: right;\">\n",
       "      <th></th>\n",
       "      <th>fluxes</th>\n",
       "      <th>reduced_costs</th>\n",
       "    </tr>\n",
       "  </thead>\n",
       "  <tbody>\n",
       "    <tr>\n",
       "      <th>ACALD</th>\n",
       "      <td>0.000000</td>\n",
       "      <td>-2.0</td>\n",
       "    </tr>\n",
       "    <tr>\n",
       "      <th>ACALDt</th>\n",
       "      <td>0.000000</td>\n",
       "      <td>2.0</td>\n",
       "    </tr>\n",
       "    <tr>\n",
       "      <th>ACKr</th>\n",
       "      <td>0.000000</td>\n",
       "      <td>2.0</td>\n",
       "    </tr>\n",
       "    <tr>\n",
       "      <th>ACONTa</th>\n",
       "      <td>6.021834</td>\n",
       "      <td>-2.0</td>\n",
       "    </tr>\n",
       "    <tr>\n",
       "      <th>ACONTb</th>\n",
       "      <td>6.021834</td>\n",
       "      <td>-2.0</td>\n",
       "    </tr>\n",
       "    <tr>\n",
       "      <th>...</th>\n",
       "      <td>...</td>\n",
       "      <td>...</td>\n",
       "    </tr>\n",
       "    <tr>\n",
       "      <th>TALA</th>\n",
       "      <td>0.815960</td>\n",
       "      <td>-2.0</td>\n",
       "    </tr>\n",
       "    <tr>\n",
       "      <th>THD2</th>\n",
       "      <td>1.978888</td>\n",
       "      <td>-2.0</td>\n",
       "    </tr>\n",
       "    <tr>\n",
       "      <th>TKT1</th>\n",
       "      <td>0.815960</td>\n",
       "      <td>-2.0</td>\n",
       "    </tr>\n",
       "    <tr>\n",
       "      <th>TKT2</th>\n",
       "      <td>0.544520</td>\n",
       "      <td>-2.0</td>\n",
       "    </tr>\n",
       "    <tr>\n",
       "      <th>TPI</th>\n",
       "      <td>7.096096</td>\n",
       "      <td>-2.0</td>\n",
       "    </tr>\n",
       "  </tbody>\n",
       "</table>\n",
       "<p>95 rows × 2 columns</p>\n",
       "</div>"
      ],
      "text/plain": [
       "<Solution 474.042 at 0x125de0f60>"
      ]
     },
     "execution_count": 129,
     "metadata": {},
     "output_type": "execute_result"
    }
   ],
   "source": [
    "solution_pFBA = pfba(model)\n",
    "solution_pFBA"
   ]
  },
  {
   "cell_type": "code",
   "execution_count": 130,
   "metadata": {},
   "outputs": [],
   "source": [
    "pFBA_fluxes = pd.DataFrame(solution_FBA.fluxes)\n",
    "# pFBA_fluxes.to_clipboard() # to copypaste\n",
    "# pFBA_fluxes.to_excel('name_of_the_excel.xlxs') # to save to excel\n",
    "# pFBA_fluxes.to_csv('name_of_the_excel.csv') # to save to csv"
   ]
  },
  {
   "cell_type": "code",
   "execution_count": null,
   "metadata": {},
   "outputs": [],
   "source": []
  }
 ],
 "metadata": {
  "kernelspec": {
   "display_name": "Python (rbcenv)",
   "language": "python",
   "name": "rbc-env"
  },
  "language_info": {
   "codemirror_mode": {
    "name": "ipython",
    "version": 3
   },
   "file_extension": ".py",
   "mimetype": "text/x-python",
   "name": "python",
   "nbconvert_exporter": "python",
   "pygments_lexer": "ipython3",
   "version": "3.7.3"
  }
 },
 "nbformat": 4,
 "nbformat_minor": 4
}
