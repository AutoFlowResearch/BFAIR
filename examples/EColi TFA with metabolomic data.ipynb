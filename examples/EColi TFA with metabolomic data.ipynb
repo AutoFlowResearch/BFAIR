{
 "cells": [
  {
   "cell_type": "markdown",
   "metadata": {},
   "source": [
    "## This examples show how to integrate metabolomics data into constraint-based model with thermodynamic MFA"
   ]
  },
  {
   "cell_type": "markdown",
   "metadata": {},
   "source": [
    "Imports and load CBM"
   ]
  },
  {
   "cell_type": "code",
   "execution_count": 305,
   "metadata": {},
   "outputs": [],
   "source": [
    "from time import time\n",
    "import numpy as np\n",
    "import pandas as pd\n",
    "from cobra.io import load_json_model\n",
    "\n",
    "cobra_model = load_json_model('data/models/iJO1366.json')"
   ]
  },
  {
   "cell_type": "markdown",
   "metadata": {},
   "source": [
    "Load thermodynamic model"
   ]
  },
  {
   "cell_type": "code",
   "execution_count": 168,
   "metadata": {},
   "outputs": [
    {
     "name": "stdout",
     "output_type": "stream",
     "text": [
      "Read LP format model from file C:\\Users\\riheme\\AppData\\Local\\Temp\\tmp318fovi2.lp\n",
      "Reading time = 0.03 seconds\n",
      ": 1807 rows, 5170 columns, 20334 nonzeros\n",
      "Read LP format model from file C:\\Users\\riheme\\AppData\\Local\\Temp\\tmpm1w2zd9y.lp\n",
      "Reading time = 0.02 seconds\n",
      ": 1807 rows, 5170 columns, 20334 nonzeros\n"
     ]
    },
    {
     "name": "stderr",
     "output_type": "stream",
     "text": [
      "2020-10-07 17:00:55,082 - thermomodel_None - INFO - # Model initialized with units kcal/mol and temperature 298.15 K\n",
      "2020-10-07 17:00:55,097 - thermomodel_None - INFO - # Model preparation starting...\n",
      "2020-10-07 17:00:57,798 - thermomodel_None - WARNING - Warning : NULL/U\n",
      "2020-10-07 17:00:57,798 - thermomodel_None - WARNING - Warning : NULL/L\n",
      "2020-10-07 17:00:57,798 - thermomodel_None - WARNING - Warning : NULL/L\n",
      "2020-10-07 17:00:57,798 - thermomodel_None - WARNING - Warning : NULL/U\n",
      "2020-10-07 17:00:57,798 - thermomodel_None - WARNING - Warning : NULL/L\n",
      "2020-10-07 17:00:57,806 - thermomodel_None - WARNING - Warning : NULL/L\n",
      "2020-10-07 17:00:58,048 - thermomodel_None - WARNING - Warning : NULL/U\n",
      "2020-10-07 17:00:58,048 - thermomodel_None - WARNING - Warning : NULL/L\n",
      "2020-10-07 17:00:58,048 - thermomodel_None - WARNING - Warning : NULL/L\n",
      "2020-10-07 17:00:58,048 - thermomodel_None - WARNING - Warning : NULL/U\n",
      "2020-10-07 17:00:58,048 - thermomodel_None - WARNING - Warning : NULL/L\n",
      "2020-10-07 17:00:58,048 - thermomodel_None - WARNING - Warning : NULL/L\n",
      "2020-10-07 17:00:58,213 - thermomodel_None - WARNING - Warning : NULL/U\n",
      "2020-10-07 17:00:58,213 - thermomodel_None - WARNING - Warning : NULL/L\n",
      "2020-10-07 17:00:58,213 - thermomodel_None - WARNING - Warning : NULL/L\n",
      "2020-10-07 17:00:58,217 - thermomodel_None - WARNING - Warning : NULL/U\n",
      "2020-10-07 17:00:58,217 - thermomodel_None - WARNING - Warning : NULL/L\n",
      "2020-10-07 17:00:58,217 - thermomodel_None - WARNING - Warning : NULL/L\n",
      "2020-10-07 17:00:58,279 - thermomodel_None - WARNING - Warning : NULL/U\n",
      "2020-10-07 17:00:58,279 - thermomodel_None - WARNING - Warning : NULL/L\n",
      "2020-10-07 17:00:58,279 - thermomodel_None - WARNING - Warning : NULL/L\n",
      "2020-10-07 17:00:58,279 - thermomodel_None - WARNING - Warning : NULL/U\n",
      "2020-10-07 17:00:58,279 - thermomodel_None - WARNING - Warning : NULL/L\n",
      "2020-10-07 17:00:58,279 - thermomodel_None - WARNING - Warning : NULL/L\n",
      "2020-10-07 17:00:58,279 - thermomodel_None - WARNING - Warning : NULL/U\n",
      "2020-10-07 17:00:58,279 - thermomodel_None - WARNING - Warning : NULL/L\n",
      "2020-10-07 17:00:58,279 - thermomodel_None - WARNING - Warning : NULL/L\n",
      "2020-10-07 17:00:58,279 - thermomodel_None - WARNING - Warning : NULL/U\n",
      "2020-10-07 17:00:58,279 - thermomodel_None - WARNING - Warning : NULL/L\n",
      "2020-10-07 17:00:58,279 - thermomodel_None - WARNING - Warning : NULL/L\n",
      "2020-10-07 17:00:58,279 - thermomodel_None - WARNING - Warning : NULL/U\n",
      "2020-10-07 17:00:58,279 - thermomodel_None - WARNING - Warning : NULL/L\n",
      "2020-10-07 17:00:58,279 - thermomodel_None - WARNING - Warning : NULL/L\n",
      "2020-10-07 17:00:58,279 - thermomodel_None - WARNING - Warning : NULL/U\n",
      "2020-10-07 17:00:58,279 - thermomodel_None - WARNING - Warning : NULL/L\n",
      "2020-10-07 17:00:58,279 - thermomodel_None - WARNING - Warning : NULL/L\n",
      "2020-10-07 17:00:58,279 - thermomodel_None - WARNING - Warning : NULL/U\n",
      "2020-10-07 17:00:58,279 - thermomodel_None - WARNING - Warning : NULL/L\n",
      "2020-10-07 17:00:58,279 - thermomodel_None - WARNING - Warning : NULL/L\n",
      "2020-10-07 17:00:58,295 - thermomodel_None - WARNING - Warning : NULL/U\n",
      "2020-10-07 17:00:58,295 - thermomodel_None - WARNING - Warning : NULL/L\n",
      "2020-10-07 17:00:58,295 - thermomodel_None - WARNING - Warning : NULL/L\n",
      "2020-10-07 17:00:58,417 - thermomodel_None - INFO - # Model preparation done.\n",
      "2020-10-07 17:00:58,417 - thermomodel_None - INFO - # Model conversion starting...\n",
      "2020-10-07 17:01:33,852 - thermomodel_None - INFO - # Model conversion done.\n",
      "2020-10-07 17:01:33,852 - thermomodel_None - INFO - # Updating cobra_model variables...\n",
      "2020-10-07 17:01:33,893 - thermomodel_None - INFO - # cobra_model variables are up-to-date\n"
     ]
    }
   ],
   "source": [
    "import pytfa\n",
    "from pytfa.io import load_thermoDB, read_lexicon, annotate_from_lexicon, read_compartment_data, apply_compartment_data\n",
    "\n",
    "thermo_data = load_thermoDB('/data/thermo_data.thermodb')\n",
    "lexicon = read_lexicon('data/models/iJO1366/lexicon.csv')\n",
    "compartment_data = read_compartment_data('data/models/iJO1366/compartment_data.json')\n",
    "\n",
    "tmodel = pytfa.ThermoModel(thermo_data, cobra_model)\n",
    "\n",
    "annotate_from_lexicon(tmodel, lexicon)\n",
    "apply_compartment_data(tmodel, compartment_data)\n",
    "\n",
    "biomass_rxn = 'Ec_biomass_iJO1366_WT_53p95M'\n",
    "\n",
    "tmodel.objective = biomass_rxn\n",
    "tmodel.solver.problem.Params.NumericFocus = 3\n",
    "tmodel.solver.configuration.tolerances.feasibility = 1e-9\n",
    "tmodel.solver.configuration.presolve = True\n",
    "\n",
    "tmodel.prepare()\n",
    "tmodel.convert()"
   ]
  },
  {
   "cell_type": "markdown",
   "metadata": {},
   "source": [
    "# Data preparation\n",
    "\n",
    "Load and prune metabolomic data from [McCloskey et al (2018)](https://www.sciencedirect.com/science/article/pii/S1096717617304433)"
   ]
  },
  {
   "cell_type": "code",
   "execution_count": 208,
   "metadata": {},
   "outputs": [],
   "source": [
    "data = pd.read_csv('data/1-s2.0-S1096717617304433-mmc9.csv', index_col=-1)\n",
    "\n",
    "# remove ratios\n",
    "query = 'calculated_concentration_units == \"umol*gDW-1\"'\n",
    "data.query(query, inplace = True)\n",
    "# remove 2nd fragments\n",
    "data = data[ ~data[ 'component_name' ].str.contains( '_2.Light' ) ]"
   ]
  },
  {
   "cell_type": "markdown",
   "metadata": {},
   "source": [
    "The lower and upper confidence interval is not always lower/higher than the min and max value."
   ]
  },
  {
   "cell_type": "code",
   "execution_count": 260,
   "metadata": {},
   "outputs": [
    {
     "data": {
      "text/plain": [
       "EColi_W3110     47\n",
       "EColi_W         44\n",
       "EColi_Crooks    43\n",
       "EColi_C         43\n",
       "EColi_DH5a      40\n",
       "EColi_MG1655    34\n",
       "EColi_BL21      32\n",
       "Name: sample_name_abbreviation, dtype: int64"
      ]
     },
     "execution_count": 260,
     "metadata": {},
     "output_type": "execute_result"
    }
   ],
   "source": [
    "data[ (data['ci_lb'] < data['min']) | (data['ci_ub'] > data['max']) ][ 'sample_name_abbreviation' ].value_counts()"
   ]
  },
  {
   "cell_type": "markdown",
   "metadata": {},
   "source": [
    "There are negative values (impossible for concentration!) in some rows:"
   ]
  },
  {
   "cell_type": "code",
   "execution_count": 270,
   "metadata": {},
   "outputs": [
    {
     "data": {
      "text/html": [
       "<div>\n",
       "<style scoped>\n",
       "    .dataframe tbody tr th:only-of-type {\n",
       "        vertical-align: middle;\n",
       "    }\n",
       "\n",
       "    .dataframe tbody tr th {\n",
       "        vertical-align: top;\n",
       "    }\n",
       "\n",
       "    .dataframe thead th {\n",
       "        text-align: right;\n",
       "    }\n",
       "</style>\n",
       "<table border=\"1\" class=\"dataframe\">\n",
       "  <thead>\n",
       "    <tr style=\"text-align: right;\">\n",
       "      <th></th>\n",
       "      <th>sample_name_abbreviation</th>\n",
       "      <th>component_group_name</th>\n",
       "      <th>component_name</th>\n",
       "      <th>calculated_concentration_units</th>\n",
       "      <th>var</th>\n",
       "      <th>ci_level</th>\n",
       "      <th>max</th>\n",
       "      <th>test_stat</th>\n",
       "      <th>median</th>\n",
       "      <th>used_</th>\n",
       "      <th>ci_lb</th>\n",
       "      <th>iq_1</th>\n",
       "      <th>cv</th>\n",
       "      <th>min</th>\n",
       "      <th>n</th>\n",
       "      <th>iq_3</th>\n",
       "      <th>ci_ub</th>\n",
       "      <th>mean</th>\n",
       "      <th>pvalue_corrected</th>\n",
       "    </tr>\n",
       "    <tr>\n",
       "      <th>index_</th>\n",
       "      <th></th>\n",
       "      <th></th>\n",
       "      <th></th>\n",
       "      <th></th>\n",
       "      <th></th>\n",
       "      <th></th>\n",
       "      <th></th>\n",
       "      <th></th>\n",
       "      <th></th>\n",
       "      <th></th>\n",
       "      <th></th>\n",
       "      <th></th>\n",
       "      <th></th>\n",
       "      <th></th>\n",
       "      <th></th>\n",
       "      <th></th>\n",
       "      <th></th>\n",
       "      <th></th>\n",
       "      <th></th>\n",
       "    </tr>\n",
       "  </thead>\n",
       "  <tbody>\n",
       "    <tr>\n",
       "      <th>398</th>\n",
       "      <td>EColi_C</td>\n",
       "      <td>oaa</td>\n",
       "      <td>oaa.oaa_1.Light</td>\n",
       "      <td>umol*gDW-1</td>\n",
       "      <td>42.167510</td>\n",
       "      <td>0.95</td>\n",
       "      <td>16.465845</td>\n",
       "      <td>1.946371</td>\n",
       "      <td>1.784942</td>\n",
       "      <td>True</td>\n",
       "      <td>-1.654797</td>\n",
       "      <td>0.876958</td>\n",
       "      <td>125.849068</td>\n",
       "      <td>0.615111</td>\n",
       "      <td>6</td>\n",
       "      <td>7.746810</td>\n",
       "      <td>11.974542</td>\n",
       "      <td>5.159873</td>\n",
       "      <td>0.109176</td>\n",
       "    </tr>\n",
       "    <tr>\n",
       "      <th>430</th>\n",
       "      <td>EColi_C</td>\n",
       "      <td>skm</td>\n",
       "      <td>skm.skm_1.Light</td>\n",
       "      <td>umol*gDW-1</td>\n",
       "      <td>0.000128</td>\n",
       "      <td>0.95</td>\n",
       "      <td>0.030046</td>\n",
       "      <td>2.033105</td>\n",
       "      <td>0.005806</td>\n",
       "      <td>True</td>\n",
       "      <td>-0.002482</td>\n",
       "      <td>0.001707</td>\n",
       "      <td>120.480257</td>\n",
       "      <td>0.000191</td>\n",
       "      <td>6</td>\n",
       "      <td>0.012066</td>\n",
       "      <td>0.021263</td>\n",
       "      <td>0.009390</td>\n",
       "      <td>0.097724</td>\n",
       "    </tr>\n",
       "    <tr>\n",
       "      <th>477</th>\n",
       "      <td>EColi_Crooks</td>\n",
       "      <td>akg</td>\n",
       "      <td>akg.akg_1.Light</td>\n",
       "      <td>umol*gDW-1</td>\n",
       "      <td>17.479111</td>\n",
       "      <td>0.95</td>\n",
       "      <td>11.206608</td>\n",
       "      <td>2.443862</td>\n",
       "      <td>2.601302</td>\n",
       "      <td>True</td>\n",
       "      <td>-0.216286</td>\n",
       "      <td>1.134987</td>\n",
       "      <td>100.230282</td>\n",
       "      <td>0.698111</td>\n",
       "      <td>6</td>\n",
       "      <td>6.105559</td>\n",
       "      <td>8.558681</td>\n",
       "      <td>4.171197</td>\n",
       "      <td>0.058376</td>\n",
       "    </tr>\n",
       "    <tr>\n",
       "      <th>563</th>\n",
       "      <td>EColi_Crooks</td>\n",
       "      <td>gua</td>\n",
       "      <td>gua.gua_1.Light</td>\n",
       "      <td>umol*gDW-1</td>\n",
       "      <td>0.001675</td>\n",
       "      <td>0.95</td>\n",
       "      <td>0.113992</td>\n",
       "      <td>2.559303</td>\n",
       "      <td>0.029614</td>\n",
       "      <td>True</td>\n",
       "      <td>-0.000188</td>\n",
       "      <td>0.019103</td>\n",
       "      <td>95.709247</td>\n",
       "      <td>0.001531</td>\n",
       "      <td>6</td>\n",
       "      <td>0.057048</td>\n",
       "      <td>0.085703</td>\n",
       "      <td>0.042757</td>\n",
       "      <td>0.050689</td>\n",
       "    </tr>\n",
       "    <tr>\n",
       "      <th>627</th>\n",
       "      <td>EColi_Crooks</td>\n",
       "      <td>oaa</td>\n",
       "      <td>oaa.oaa_1.Light</td>\n",
       "      <td>umol*gDW-1</td>\n",
       "      <td>9.510722</td>\n",
       "      <td>0.95</td>\n",
       "      <td>8.606953</td>\n",
       "      <td>1.891470</td>\n",
       "      <td>1.164905</td>\n",
       "      <td>True</td>\n",
       "      <td>-0.855013</td>\n",
       "      <td>0.793649</td>\n",
       "      <td>129.501919</td>\n",
       "      <td>0.699329</td>\n",
       "      <td>6</td>\n",
       "      <td>1.777990</td>\n",
       "      <td>5.617793</td>\n",
       "      <td>2.381390</td>\n",
       "      <td>0.117139</td>\n",
       "    </tr>\n",
       "  </tbody>\n",
       "</table>\n",
       "</div>"
      ],
      "text/plain": [
       "       sample_name_abbreviation component_group_name   component_name  \\\n",
       "index_                                                                  \n",
       "398                     EColi_C                  oaa  oaa.oaa_1.Light   \n",
       "430                     EColi_C                  skm  skm.skm_1.Light   \n",
       "477                EColi_Crooks                  akg  akg.akg_1.Light   \n",
       "563                EColi_Crooks                  gua  gua.gua_1.Light   \n",
       "627                EColi_Crooks                  oaa  oaa.oaa_1.Light   \n",
       "\n",
       "       calculated_concentration_units        var  ci_level        max  \\\n",
       "index_                                                                  \n",
       "398                        umol*gDW-1  42.167510      0.95  16.465845   \n",
       "430                        umol*gDW-1   0.000128      0.95   0.030046   \n",
       "477                        umol*gDW-1  17.479111      0.95  11.206608   \n",
       "563                        umol*gDW-1   0.001675      0.95   0.113992   \n",
       "627                        umol*gDW-1   9.510722      0.95   8.606953   \n",
       "\n",
       "        test_stat    median  used_     ci_lb      iq_1          cv       min  \\\n",
       "index_                                                                         \n",
       "398      1.946371  1.784942   True -1.654797  0.876958  125.849068  0.615111   \n",
       "430      2.033105  0.005806   True -0.002482  0.001707  120.480257  0.000191   \n",
       "477      2.443862  2.601302   True -0.216286  1.134987  100.230282  0.698111   \n",
       "563      2.559303  0.029614   True -0.000188  0.019103   95.709247  0.001531   \n",
       "627      1.891470  1.164905   True -0.855013  0.793649  129.501919  0.699329   \n",
       "\n",
       "        n      iq_3      ci_ub      mean  pvalue_corrected  \n",
       "index_                                                      \n",
       "398     6  7.746810  11.974542  5.159873          0.109176  \n",
       "430     6  0.012066   0.021263  0.009390          0.097724  \n",
       "477     6  6.105559   8.558681  4.171197          0.058376  \n",
       "563     6  0.057048   0.085703  0.042757          0.050689  \n",
       "627     6  1.777990   5.617793  2.381390          0.117139  "
      ]
     },
     "execution_count": 270,
     "metadata": {},
     "output_type": "execute_result"
    }
   ],
   "source": [
    "data[ (data.select_dtypes('number') < 0).any(axis=1) ].head()"
   ]
  },
  {
   "cell_type": "markdown",
   "metadata": {},
   "source": [
    "According to [Bennett et al (2008)](https://www.ncbi.nlm.nih.gov/pmc/articles/PMC2710577/):\n",
    "\n",
    ">  \\[The\\] ratio of aqueous volume to cellular dry weight is 0.0023 liter g<sup>−1</sup> for *E. coli*."
   ]
  },
  {
   "cell_type": "code",
   "execution_count": 158,
   "metadata": {},
   "outputs": [],
   "source": [
    "# factor to convert umol/gCDW to mol/L\n",
    "conversion_factor = 1e-6 / .0023"
   ]
  },
  {
   "cell_type": "markdown",
   "metadata": {},
   "source": [
    "Convert &mu;mol/g<sub>CDW</sub> to M and then apply log."
   ]
  },
  {
   "cell_type": "code",
   "execution_count": 283,
   "metadata": {},
   "outputs": [],
   "source": [
    "cols = [ 'sample_name_abbreviation', 'component_group_name', 'min', 'max' ]\n",
    "\n",
    "data[ cols[-2:] ] = np.log( data[ cols[-2:] ] * conversion_factor )\n",
    "data = data[ cols ]"
   ]
  },
  {
   "cell_type": "markdown",
   "metadata": {},
   "source": [
    "Discard metabolites that are not present in model!"
   ]
  },
  {
   "cell_type": "code",
   "execution_count": 292,
   "metadata": {},
   "outputs": [],
   "source": [
    "names = data[ 'component_group_name' ].unique()\n",
    "\n",
    "sel_names = [ name for name in names if tmodel.log_concentration.has_id( name + '_c' ) ]\n",
    "\n",
    "data = data[ data['component_group_name'].isin(sel_names) ]"
   ]
  },
  {
   "cell_type": "markdown",
   "metadata": {},
   "source": [
    "Set thermo model bounds"
   ]
  },
  {
   "cell_type": "code",
   "execution_count": 297,
   "metadata": {},
   "outputs": [],
   "source": [
    "# select 1 strain (for test)\n",
    "strain_name = 'EColi_BL21'\n",
    "strain = data[ data['sample_name_abbreviation'] == strain_name ]\n",
    "\n",
    "for name, lb, ub in zip( strain['component_group_name'], strain['min'], strain['max'] ):\n",
    "    tmodel.log_concentration.get_by_id(name + '_c').variable.set_bounds(lb, ub)"
   ]
  },
  {
   "cell_type": "markdown",
   "metadata": {},
   "source": [
    "# TFA"
   ]
  },
  {
   "cell_type": "code",
   "execution_count": 298,
   "metadata": {},
   "outputs": [],
   "source": [
    "fba_solution = cobra_model.optimize()\n",
    "fba_value = fba_solution.objective_value"
   ]
  },
  {
   "cell_type": "code",
   "execution_count": 300,
   "metadata": {},
   "outputs": [
    {
     "name": "stdout",
     "output_type": "stream",
     "text": [
      "Requires relaxation!\n"
     ]
    }
   ],
   "source": [
    "tmodel.name = strain_name\n",
    "tfa_solution = tmodel.optimize()\n",
    "tfa_value = tfa_solution.objective_value\n",
    "if tfa_value < 0.1:\n",
    "    print('Requires relaxation!')"
   ]
  },
  {
   "cell_type": "code",
   "execution_count": 309,
   "metadata": {},
   "outputs": [
    {
     "name": "stdout",
     "output_type": "stream",
     "text": [
      "Read LP format model from file C:\\Users\\riheme\\AppData\\Local\\Temp\\tmpvqi61cty.lp\n",
      "Reading time = 0.02 seconds\n",
      ": 1807 rows, 5170 columns, 20304 nonzeros\n",
      "Read LP format model from file C:\\Users\\riheme\\AppData\\Local\\Temp\\tmpm3uofog_.lp\n",
      "Reading time = 0.04 seconds\n",
      ": 1807 rows, 5170 columns, 20304 nonzeros\n"
     ]
    },
    {
     "name": "stderr",
     "output_type": "stream",
     "text": [
      "2020-10-07 18:44:01,617 - thermomodel_EColi_BL21 - INFO - # Model initialized with units kcal/mol and temperature 298.15 K\n"
     ]
    },
    {
     "name": "stdout",
     "output_type": "stream",
     "text": [
      "Read LP format model from file C:\\Users\\riheme\\AppData\\Local\\Temp\\tmp3np58ovs.lp\n",
      "Reading time = 0.02 seconds\n",
      ": 1807 rows, 5170 columns, 20304 nonzeros\n",
      "Read LP format model from file C:\\Users\\riheme\\AppData\\Local\\Temp\\tmp1qp0qedg.lp\n",
      "Reading time = 0.02 seconds\n",
      ": 1807 rows, 5170 columns, 20304 nonzeros\n"
     ]
    },
    {
     "name": "stderr",
     "output_type": "stream",
     "text": [
      "2020-10-07 18:44:28,264 - thermomodel_EColi_BL21 - INFO - # Model initialized with units kcal/mol and temperature 298.15 K\n",
      "2020-10-07 18:44:37,892 - thermomodel_EColi_BL21 - INFO - Adding slack constraints\n",
      "adding slacks: 100%|███████████████████████████████████████████████████████████████| 1824/1824 [00:33<00:00, 54.29it/s]\n",
      "2020-10-07 18:45:13,108 - thermomodel_EColi_BL21 - INFO - Optimizing slack model\n",
      "2020-10-07 18:45:18,468 - thermomodel_EColi_BL21 - INFO - Extracting relaxation\n",
      "applying slack: 100%|███████████████████████████████████████████████████████████| 2585/2585 [00:00<00:00, 41403.12it/s]\n",
      "2020-10-07 18:45:18,618 - thermomodel_EColi_BL21 - INFO - Testing relaxation\n"
     ]
    },
    {
     "name": "stdout",
     "output_type": "stream",
     "text": [
      "Elapsed time: 97.18 s\n",
      "Relaxation: \n",
      "              lb_in      ub_in  lb_change  ub_change     lb_out     ub_out\n",
      "ACONTa     0.580427   2.376633   0.610496   0.000000  -0.030069   2.376633\n",
      "ADSL1r     7.868318   9.734394   0.342906   0.000000   7.525413   9.734394\n",
      "AIRC3    -11.941085  -8.988685   0.000000   2.582409 -11.941085  -6.406276\n",
      "ARGSL     16.770653  18.636729   9.523862   0.000000   7.246792  18.636729\n",
      "ATPS4rpp  -9.518201  -8.083092   1.211046   0.000000 -10.729247  -8.083092\n",
      "GALT1     67.754735  69.018800  59.790453   0.000000   7.964282  69.018800\n",
      "GLCTR3     8.888108  10.152173   0.923826   0.000000   7.964282  10.152173\n",
      "HEPK2     44.872230  45.345690  35.916725   0.000000   8.955506  45.345690\n",
      "HEPT1     25.810459  27.074524  16.532603   0.000000   9.277857  27.074524\n",
      "HEPT2      7.030447   8.294512   8.087680   0.000000  -1.057233   8.294512\n",
      "MECDPS    26.135683  30.646876  14.579913   0.000000  11.555770  30.646876\n",
      "MTHTHFSs  13.297862  14.814659   6.891586   0.000000   6.406276  14.814659\n",
      "PRAIS     17.442418  22.161249   0.306895   0.000000  17.135523  22.161249\n",
      "THDPS     12.391668  16.052527   4.662363   0.000000   7.729306  16.052527\n"
     ]
    }
   ],
   "source": [
    "if tfa_value < 0.1:\n",
    "    start = time()\n",
    "    \n",
    "    from pytfa.optim.relaxation import relax_dgo\n",
    "\n",
    "    tmodel.reactions.get_by_id(biomass_rxn).lower_bound = 0.5*fba_value\n",
    "    relaxed_model, slack_model, relax_table = relax_dgo(tmodel)\n",
    "\n",
    "    original_model, tmodel = tmodel, relaxed_model\n",
    "    \n",
    "    elapsed_time = time()-start\n",
    "    print(f'Elapsed time: {elapsed_time:.2f} s')\n",
    "\n",
    "    print('Relaxation: ')\n",
    "    print(relax_table)\n",
    "    \n",
    "    tfa_solution = tmodel.optimize()\n",
    "    tfa_value = tfa_solution.objective_value"
   ]
  },
  {
   "cell_type": "code",
   "execution_count": 310,
   "metadata": {},
   "outputs": [
    {
     "name": "stdout",
     "output_type": "stream",
     "text": [
      "FBA Solution found : 0.814\n",
      "TFA Solution found : 0.76181\n"
     ]
    }
   ],
   "source": [
    "print('FBA Solution found : {0:.5g}'.format(fba_value))\n",
    "print('TFA Solution found : {0:.5g}'.format(tfa_value))"
   ]
  }
 ],
 "metadata": {
  "kernelspec": {
   "display_name": "Python 3",
   "language": "python",
   "name": "python3"
  },
  "language_info": {
   "codemirror_mode": {
    "name": "ipython",
    "version": 3
   },
   "file_extension": ".py",
   "mimetype": "text/x-python",
   "name": "python",
   "nbconvert_exporter": "python",
   "pygments_lexer": "ipython3",
   "version": "3.7.3"
  }
 },
 "nbformat": 4,
 "nbformat_minor": 4
}
