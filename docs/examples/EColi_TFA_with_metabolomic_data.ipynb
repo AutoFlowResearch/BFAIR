{
 "cells": [
  {
   "cell_type": "markdown",
   "metadata": {},
   "source": [
    "## tFBA with metabolomic constraints\n",
    "\n",
    "This notebook illustrates how the functions from the Thermo module can be used to create a tFBA-ready model, constrain it with metabolomic data, relax its bounds, and obtain a solution."
   ]
  },
  {
   "cell_type": "markdown",
   "metadata": {},
   "source": [
    "Import Thermo module."
   ]
  },
  {
   "cell_type": "code",
   "execution_count": 1,
   "metadata": {},
   "outputs": [
    {
     "name": "stdout",
     "output_type": "stream",
     "text": [
      "Using license file C:\\Users\\riheme\\gurobi.lic\n",
      "Academic license - for non-commercial use only\n"
     ]
    }
   ],
   "source": [
    "import pandas as pd\n",
    "import matplotlib.pyplot as plt\n",
    "import seaborn as sns\n",
    "\n",
    "from BFAIR import thermo, thermo_models"
   ]
  },
  {
   "cell_type": "markdown",
   "metadata": {},
   "source": [
    "Load thermodynamic information and create model."
   ]
  },
  {
   "cell_type": "code",
   "execution_count": 2,
   "metadata": {},
   "outputs": [
    {
     "name": "stdout",
     "output_type": "stream",
     "text": [
      "Read LP format model from file C:\\Users\\riheme\\AppData\\Local\\Temp\\tmp3se702dr.lp\n",
      "Reading time = 0.02 seconds\n",
      ": 1807 rows, 5170 columns, 20334 nonzeros\n",
      "Changed value of parameter Method to 0\n",
      "   Prev: -1  Min: -1  Max: 5  Default: -1\n",
      "Parameter Method unchanged\n",
      "   Value: 0  Min: -1  Max: 5  Default: -1\n",
      "Changed value of parameter Presolve to 0\n",
      "   Prev: -1  Min: -1  Max: 2  Default: -1\n"
     ]
    },
    {
     "name": "stderr",
     "output_type": "stream",
     "text": [
      "2020-12-09 18:51:14,089 - thermomodel_None - INFO - # Model initialized with units kcal/mol and temperature 298.15 K\n",
      "2020-12-09 18:51:14,099 - thermomodel_None - INFO - # Model preparation starting...\n",
      "2020-12-09 18:51:16,813 - thermomodel_None - WARNING - Warning : NULL/U\n",
      "2020-12-09 18:51:16,813 - thermomodel_None - WARNING - Warning : NULL/L\n",
      "2020-12-09 18:51:16,813 - thermomodel_None - WARNING - Warning : NULL/L\n",
      "2020-12-09 18:51:16,813 - thermomodel_None - WARNING - Warning : NULL/U\n",
      "2020-12-09 18:51:16,813 - thermomodel_None - WARNING - Warning : NULL/L\n",
      "2020-12-09 18:51:16,813 - thermomodel_None - WARNING - Warning : NULL/L\n",
      "2020-12-09 18:51:17,065 - thermomodel_None - WARNING - Warning : NULL/U\n",
      "2020-12-09 18:51:17,065 - thermomodel_None - WARNING - Warning : NULL/L\n",
      "2020-12-09 18:51:17,065 - thermomodel_None - WARNING - Warning : NULL/L\n",
      "2020-12-09 18:51:17,065 - thermomodel_None - WARNING - Warning : NULL/U\n",
      "2020-12-09 18:51:17,065 - thermomodel_None - WARNING - Warning : NULL/L\n",
      "2020-12-09 18:51:17,065 - thermomodel_None - WARNING - Warning : NULL/L\n",
      "2020-12-09 18:51:17,310 - thermomodel_None - WARNING - Warning : NULL/U\n",
      "2020-12-09 18:51:17,312 - thermomodel_None - WARNING - Warning : NULL/L\n",
      "2020-12-09 18:51:17,313 - thermomodel_None - WARNING - Warning : NULL/L\n",
      "2020-12-09 18:51:17,314 - thermomodel_None - WARNING - Warning : NULL/U\n",
      "2020-12-09 18:51:17,315 - thermomodel_None - WARNING - Warning : NULL/L\n",
      "2020-12-09 18:51:17,316 - thermomodel_None - WARNING - Warning : NULL/L\n",
      "2020-12-09 18:51:17,398 - thermomodel_None - WARNING - Warning : NULL/U\n",
      "2020-12-09 18:51:17,399 - thermomodel_None - WARNING - Warning : NULL/L\n",
      "2020-12-09 18:51:17,399 - thermomodel_None - WARNING - Warning : NULL/L\n",
      "2020-12-09 18:51:17,400 - thermomodel_None - WARNING - Warning : NULL/U\n",
      "2020-12-09 18:51:17,401 - thermomodel_None - WARNING - Warning : NULL/L\n",
      "2020-12-09 18:51:17,402 - thermomodel_None - WARNING - Warning : NULL/L\n",
      "2020-12-09 18:51:17,404 - thermomodel_None - WARNING - Warning : NULL/U\n",
      "2020-12-09 18:51:17,405 - thermomodel_None - WARNING - Warning : NULL/L\n",
      "2020-12-09 18:51:17,406 - thermomodel_None - WARNING - Warning : NULL/L\n",
      "2020-12-09 18:51:17,407 - thermomodel_None - WARNING - Warning : NULL/U\n",
      "2020-12-09 18:51:17,408 - thermomodel_None - WARNING - Warning : NULL/L\n",
      "2020-12-09 18:51:17,409 - thermomodel_None - WARNING - Warning : NULL/L\n",
      "2020-12-09 18:51:17,410 - thermomodel_None - WARNING - Warning : NULL/U\n",
      "2020-12-09 18:51:17,411 - thermomodel_None - WARNING - Warning : NULL/L\n",
      "2020-12-09 18:51:17,412 - thermomodel_None - WARNING - Warning : NULL/L\n",
      "2020-12-09 18:51:17,413 - thermomodel_None - WARNING - Warning : NULL/U\n",
      "2020-12-09 18:51:17,414 - thermomodel_None - WARNING - Warning : NULL/L\n",
      "2020-12-09 18:51:17,415 - thermomodel_None - WARNING - Warning : NULL/L\n",
      "2020-12-09 18:51:17,416 - thermomodel_None - WARNING - Warning : NULL/U\n",
      "2020-12-09 18:51:17,417 - thermomodel_None - WARNING - Warning : NULL/L\n",
      "2020-12-09 18:51:17,418 - thermomodel_None - WARNING - Warning : NULL/L\n",
      "2020-12-09 18:51:17,419 - thermomodel_None - WARNING - Warning : NULL/U\n",
      "2020-12-09 18:51:17,420 - thermomodel_None - WARNING - Warning : NULL/L\n",
      "2020-12-09 18:51:17,421 - thermomodel_None - WARNING - Warning : NULL/L\n",
      "2020-12-09 18:51:17,650 - thermomodel_None - INFO - # Model preparation done.\n",
      "2020-12-09 18:51:17,650 - thermomodel_None - INFO - # Model conversion starting...\n",
      "2020-12-09 18:52:02,932 - thermomodel_None - INFO - # Model conversion done.\n",
      "2020-12-09 18:52:02,932 - thermomodel_None - INFO - # Updating cobra_model variables...\n",
      "2020-12-09 18:52:02,987 - thermomodel_None - INFO - # cobra_model variables are up-to-date\n"
     ]
    }
   ],
   "source": [
    "tmodel = thermo_models.iJO1366"
   ]
  },
  {
   "cell_type": "markdown",
   "metadata": {},
   "source": [
    "Load and apply reaction and log concentration bounds."
   ]
  },
  {
   "cell_type": "code",
   "execution_count": 3,
   "metadata": {},
   "outputs": [
    {
     "data": {
      "text/html": [
       "<div>\n",
       "<style scoped>\n",
       "    .dataframe tbody tr th:only-of-type {\n",
       "        vertical-align: middle;\n",
       "    }\n",
       "\n",
       "    .dataframe tbody tr th {\n",
       "        vertical-align: top;\n",
       "    }\n",
       "\n",
       "    .dataframe thead th {\n",
       "        text-align: right;\n",
       "    }\n",
       "</style>\n",
       "<table border=\"1\" class=\"dataframe\">\n",
       "  <thead>\n",
       "    <tr style=\"text-align: right;\">\n",
       "      <th></th>\n",
       "      <th>id</th>\n",
       "      <th>lb</th>\n",
       "      <th>ub</th>\n",
       "      <th>bound_type</th>\n",
       "    </tr>\n",
       "  </thead>\n",
       "  <tbody>\n",
       "    <tr>\n",
       "      <th>0</th>\n",
       "      <td>DM_ac_e</td>\n",
       "      <td>7.99</td>\n",
       "      <td>15.84</td>\n",
       "      <td>flux</td>\n",
       "    </tr>\n",
       "    <tr>\n",
       "      <th>1</th>\n",
       "      <td>DM_glc_e</td>\n",
       "      <td>-22.30</td>\n",
       "      <td>-11.90</td>\n",
       "      <td>flux</td>\n",
       "    </tr>\n",
       "    <tr>\n",
       "      <th>2</th>\n",
       "      <td>Ec_biomass_iJO1366_WT_53p95M</td>\n",
       "      <td>0.87</td>\n",
       "      <td>0.98</td>\n",
       "      <td>flux</td>\n",
       "    </tr>\n",
       "    <tr>\n",
       "      <th>3</th>\n",
       "      <td>ATPM</td>\n",
       "      <td>3.15</td>\n",
       "      <td>3.15</td>\n",
       "      <td>flux</td>\n",
       "    </tr>\n",
       "    <tr>\n",
       "      <th>4</th>\n",
       "      <td>6pgc</td>\n",
       "      <td>-8.76</td>\n",
       "      <td>-8.46</td>\n",
       "      <td>log_concentration</td>\n",
       "    </tr>\n",
       "  </tbody>\n",
       "</table>\n",
       "</div>"
      ],
      "text/plain": [
       "                             id     lb     ub         bound_type\n",
       "0                       DM_ac_e   7.99  15.84               flux\n",
       "1                      DM_glc_e -22.30 -11.90               flux\n",
       "2  Ec_biomass_iJO1366_WT_53p95M   0.87   0.98               flux\n",
       "3                          ATPM   3.15   3.15               flux\n",
       "4                          6pgc  -8.76  -8.46  log_concentration"
      ]
     },
     "execution_count": 3,
     "metadata": {},
     "output_type": "execute_result"
    }
   ],
   "source": [
    "bounds = pd.read_csv('../tests/test_data/test_bounds.csv')\n",
    "\n",
    "rxn_bounds = bounds[bounds['bound_type'] == 'flux']\n",
    "lc_bounds = bounds[bounds['bound_type'] == 'log_concentration']\n",
    "\n",
    "thermo.adjust_model(tmodel, rxn_bounds, lc_bounds)\n",
    "\n",
    "bounds.head()"
   ]
  },
  {
   "cell_type": "markdown",
   "metadata": {},
   "source": [
    "Attempt optimization."
   ]
  },
  {
   "cell_type": "code",
   "execution_count": 4,
   "metadata": {},
   "outputs": [
    {
     "name": "stdout",
     "output_type": "stream",
     "text": [
      "MILP problem requires relaxation.\n"
     ]
    }
   ],
   "source": [
    "tmodel.slim_optimize()\n",
    "if tmodel.solver.status == 'infeasible':\n",
    "    print('MILP problem requires relaxation.')"
   ]
  },
  {
   "cell_type": "markdown",
   "metadata": {},
   "source": [
    "Relax log concentration bounds."
   ]
  },
  {
   "cell_type": "code",
   "execution_count": 5,
   "metadata": {},
   "outputs": [
    {
     "data": {
      "text/html": [
       "<div>\n",
       "<style scoped>\n",
       "    .dataframe tbody tr th:only-of-type {\n",
       "        vertical-align: middle;\n",
       "    }\n",
       "\n",
       "    .dataframe tbody tr th {\n",
       "        vertical-align: top;\n",
       "    }\n",
       "\n",
       "    .dataframe thead th {\n",
       "        text-align: right;\n",
       "    }\n",
       "</style>\n",
       "<table border=\"1\" class=\"dataframe\">\n",
       "  <thead>\n",
       "    <tr style=\"text-align: right;\">\n",
       "      <th></th>\n",
       "      <th>bound_change</th>\n",
       "      <th>compartment</th>\n",
       "    </tr>\n",
       "    <tr>\n",
       "      <th>metabolite</th>\n",
       "      <th></th>\n",
       "      <th></th>\n",
       "    </tr>\n",
       "  </thead>\n",
       "  <tbody>\n",
       "    <tr>\n",
       "      <th>2p4c2me_c</th>\n",
       "      <td>21.648723</td>\n",
       "      <td>Cytosol</td>\n",
       "    </tr>\n",
       "    <tr>\n",
       "      <th>5caiz_c</th>\n",
       "      <td>4.361519</td>\n",
       "      <td>Cytosol</td>\n",
       "    </tr>\n",
       "    <tr>\n",
       "      <th>acon-C_c</th>\n",
       "      <td>-4.600303</td>\n",
       "      <td>Cytosol</td>\n",
       "    </tr>\n",
       "    <tr>\n",
       "      <th>adp_c</th>\n",
       "      <td>-6.470005</td>\n",
       "      <td>Cytosol</td>\n",
       "    </tr>\n",
       "    <tr>\n",
       "      <th>adphep-LD_c</th>\n",
       "      <td>3.377868</td>\n",
       "      <td>Cytosol</td>\n",
       "    </tr>\n",
       "    <tr>\n",
       "      <th>air_c</th>\n",
       "      <td>-2.563704</td>\n",
       "      <td>Cytosol</td>\n",
       "    </tr>\n",
       "    <tr>\n",
       "      <th>arg-L_c</th>\n",
       "      <td>-14.480262</td>\n",
       "      <td>Cytosol</td>\n",
       "    </tr>\n",
       "    <tr>\n",
       "      <th>cmp_c</th>\n",
       "      <td>-2.142947</td>\n",
       "      <td>Cytosol</td>\n",
       "    </tr>\n",
       "    <tr>\n",
       "      <th>gagicolipa_c</th>\n",
       "      <td>-58.481047</td>\n",
       "      <td>Cytosol</td>\n",
       "    </tr>\n",
       "    <tr>\n",
       "      <th>gicolipa_c</th>\n",
       "      <td>31.493784</td>\n",
       "      <td>Cytosol</td>\n",
       "    </tr>\n",
       "    <tr>\n",
       "      <th>hlipa_c</th>\n",
       "      <td>-1.257193</td>\n",
       "      <td>Cytosol</td>\n",
       "    </tr>\n",
       "    <tr>\n",
       "      <th>hphhlipa_c</th>\n",
       "      <td>56.076462</td>\n",
       "      <td>Cytosol</td>\n",
       "    </tr>\n",
       "    <tr>\n",
       "      <th>lipa_c</th>\n",
       "      <td>16.333054</td>\n",
       "      <td>Cytosol</td>\n",
       "    </tr>\n",
       "    <tr>\n",
       "      <th>mththf_c</th>\n",
       "      <td>-11.639436</td>\n",
       "      <td>Cytosol</td>\n",
       "    </tr>\n",
       "    <tr>\n",
       "      <th>nadph_c</th>\n",
       "      <td>4.721000</td>\n",
       "      <td>Cytosol</td>\n",
       "    </tr>\n",
       "    <tr>\n",
       "      <th>succoa_c</th>\n",
       "      <td>5.824666</td>\n",
       "      <td>Cytosol</td>\n",
       "    </tr>\n",
       "    <tr>\n",
       "      <th>udp_c</th>\n",
       "      <td>-9.438680</td>\n",
       "      <td>Cytosol</td>\n",
       "    </tr>\n",
       "  </tbody>\n",
       "</table>\n",
       "</div>"
      ],
      "text/plain": [
       "              bound_change compartment\n",
       "metabolite                            \n",
       "2p4c2me_c        21.648723     Cytosol\n",
       "5caiz_c           4.361519     Cytosol\n",
       "acon-C_c         -4.600303     Cytosol\n",
       "adp_c            -6.470005     Cytosol\n",
       "adphep-LD_c       3.377868     Cytosol\n",
       "air_c            -2.563704     Cytosol\n",
       "arg-L_c         -14.480262     Cytosol\n",
       "cmp_c            -2.142947     Cytosol\n",
       "gagicolipa_c    -58.481047     Cytosol\n",
       "gicolipa_c       31.493784     Cytosol\n",
       "hlipa_c          -1.257193     Cytosol\n",
       "hphhlipa_c       56.076462     Cytosol\n",
       "lipa_c           16.333054     Cytosol\n",
       "mththf_c        -11.639436     Cytosol\n",
       "nadph_c           4.721000     Cytosol\n",
       "succoa_c          5.824666     Cytosol\n",
       "udp_c            -9.438680     Cytosol"
      ]
     },
     "execution_count": 5,
     "metadata": {},
     "output_type": "execute_result"
    }
   ],
   "source": [
    "relax_table = thermo.relax_lc(tmodel)\n",
    "relax_table"
   ]
  },
  {
   "cell_type": "markdown",
   "metadata": {},
   "source": [
    "Obtain calculated Gibbs free energy."
   ]
  },
  {
   "cell_type": "code",
   "execution_count": 6,
   "metadata": {},
   "outputs": [
    {
     "data": {
      "text/html": [
       "<div>\n",
       "<style scoped>\n",
       "    .dataframe tbody tr th:only-of-type {\n",
       "        vertical-align: middle;\n",
       "    }\n",
       "\n",
       "    .dataframe tbody tr th {\n",
       "        vertical-align: top;\n",
       "    }\n",
       "\n",
       "    .dataframe thead th {\n",
       "        text-align: right;\n",
       "    }\n",
       "</style>\n",
       "<table border=\"1\" class=\"dataframe\">\n",
       "  <thead>\n",
       "    <tr style=\"text-align: right;\">\n",
       "      <th></th>\n",
       "      <th>delta_g</th>\n",
       "      <th>subsystem</th>\n",
       "    </tr>\n",
       "    <tr>\n",
       "      <th>reaction</th>\n",
       "      <th></th>\n",
       "      <th></th>\n",
       "    </tr>\n",
       "  </thead>\n",
       "  <tbody>\n",
       "    <tr>\n",
       "      <th>12DGR120tipp</th>\n",
       "      <td>7.807372</td>\n",
       "      <td>Transport, Inner Membrane</td>\n",
       "    </tr>\n",
       "    <tr>\n",
       "      <th>12DGR140tipp</th>\n",
       "      <td>9.355502</td>\n",
       "      <td>Transport, Inner Membrane</td>\n",
       "    </tr>\n",
       "    <tr>\n",
       "      <th>12DGR141tipp</th>\n",
       "      <td>8.581437</td>\n",
       "      <td>Transport, Inner Membrane</td>\n",
       "    </tr>\n",
       "    <tr>\n",
       "      <th>12DGR160tipp</th>\n",
       "      <td>10.903633</td>\n",
       "      <td>Transport, Inner Membrane</td>\n",
       "    </tr>\n",
       "    <tr>\n",
       "      <th>12DGR161tipp</th>\n",
       "      <td>14.960752</td>\n",
       "      <td>Transport, Inner Membrane</td>\n",
       "    </tr>\n",
       "  </tbody>\n",
       "</table>\n",
       "</div>"
      ],
      "text/plain": [
       "                delta_g                  subsystem\n",
       "reaction                                          \n",
       "12DGR120tipp   7.807372  Transport, Inner Membrane\n",
       "12DGR140tipp   9.355502  Transport, Inner Membrane\n",
       "12DGR141tipp   8.581437  Transport, Inner Membrane\n",
       "12DGR160tipp  10.903633  Transport, Inner Membrane\n",
       "12DGR161tipp  14.960752  Transport, Inner Membrane"
      ]
     },
     "execution_count": 6,
     "metadata": {},
     "output_type": "execute_result"
    }
   ],
   "source": [
    "delta_g = thermo.get_delta_g(tmodel)\n",
    "delta_g.head()"
   ]
  },
  {
   "cell_type": "markdown",
   "metadata": {},
   "source": [
    "Plot Gibbs free energy."
   ]
  },
  {
   "cell_type": "code",
   "execution_count": 7,
   "metadata": {},
   "outputs": [
    {
     "data": {
      "text/plain": [
       "<matplotlib.lines.Line2D at 0x2969e8a5710>"
      ]
     },
     "execution_count": 7,
     "metadata": {},
     "output_type": "execute_result"
    },
    {
     "data": {
      "image/png": "[encoded data removed]",
      "text/plain": [
       "<Figure size 720x288 with 1 Axes>"
      ]
     },
     "metadata": {
      "needs_background": "light"
     },
     "output_type": "display_data"
    }
   ],
   "source": [
    "fig, ax = plt.subplots(figsize=(10, 4))\n",
    "\n",
    "plot_mask = delta_g['subsystem'].isin(['Citric Acid Cycle', 'Pentose Phosphate Pathway'])\n",
    "\n",
    "sns.barplot(\n",
    "    ax= ax,\n",
    "    data=delta_g[plot_mask].reset_index(),\n",
    "    y='delta_g', x='reaction', hue='subsystem', palette='Dark2'\n",
    ")\n",
    "\n",
    "ax.set_ylabel('ΔG° (kcal/mol)')\n",
    "ax.set_xlabel('')\n",
    "ax.tick_params(axis='x', rotation=45)\n",
    "ax.axhline(y=0, c='.75')"
   ]
  },
  {
   "cell_type": "code",
   "execution_count": null,
   "metadata": {},
   "outputs": [],
   "source": []
  }
 ],
 "metadata": {
  "kernelspec": {
   "display_name": "Python 3",
   "language": "python",
   "name": "python3"
  },
  "language_info": {
   "codemirror_mode": {
    "name": "ipython",
    "version": 3
   },
   "file_extension": ".py",
   "mimetype": "text/x-python",
   "name": "python",
   "nbconvert_exporter": "python",
   "pygments_lexer": "ipython3",
   "version": "3.7.5"
  }
 },
 "nbformat": 4,
 "nbformat_minor": 4
}