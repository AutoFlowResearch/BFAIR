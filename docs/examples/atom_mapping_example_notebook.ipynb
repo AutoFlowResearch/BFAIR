{
 "cells": [
  {
   "cell_type": "markdown",
   "id": "8ed0c5fa",
   "metadata": {},
   "source": [
    "# Automatic atom mapping - example"
   ]
  },
  {
   "cell_type": "markdown",
   "id": "5aefa4d6",
   "metadata": {},
   "source": [
    "This notebook demonstrates how the `atom_mapping` module works in practice. It's purpose is to reduce the workload when preparing input data for MFA analysis on INCA. "
   ]
  },
  {
   "cell_type": "markdown",
   "id": "5b362b76",
   "metadata": {},
   "source": [
    "The only input required is the COBRA model that contains all reaction data, and, most importantly, references for metabolite structures in KEGG Compound, HMDB, CHEBI databases, or an InChI key."
   ]
  },
  {
   "cell_type": "markdown",
   "id": "21edabd6",
   "metadata": {},
   "source": [
    "#### First, import required modules:"
   ]
  },
  {
   "cell_type": "code",
   "execution_count": 1,
   "id": "75aa4c2e",
   "metadata": {},
   "outputs": [],
   "source": [
    "from BFAIR import atom_mapping\n",
    "from BFAIR.mfa.INCA import INCA_input_parser"
   ]
  },
  {
   "cell_type": "markdown",
   "id": "9b99ccdd",
   "metadata": {},
   "source": [
    "#### Prepare input dataframes"
   ]
  },
  {
   "cell_type": "code",
   "execution_count": 2,
   "id": "2e216f79",
   "metadata": {},
   "outputs": [],
   "source": [
    "model, reaction_data, metabolite_data = INCA_input_parser.parse_cobra_model('data/atom_mapping_Data/e_coli_core.json', 'e_coli_core', '2021-07-15')"
   ]
  },
  {
   "cell_type": "markdown",
   "id": "fd095c49",
   "metadata": {},
   "source": [
    "Workflow continues by fetching and storing all of the available metabolite structures in Molfile format."
   ]
  },
  {
   "cell_type": "markdown",
   "id": "006b1329",
   "metadata": {},
   "source": [
    "#### Initialise MolfileDownloader and fetch the structures"
   ]
  },
  {
   "cell_type": "code",
   "execution_count": 5,
   "id": "4bdc27aa",
   "metadata": {},
   "outputs": [
    {
     "name": "stdout",
     "output_type": "stream",
     "text": [
      "Fetching metabolite structures...\n"
     ]
    },
    {
     "name": "stderr",
     "output_type": "stream",
     "text": [
      "RDKit WARNING: [23:06:57] WARNING: not removing hydrogen atom without neighbors\n",
      "RDKit WARNING: [23:06:57] WARNING: not removing hydrogen atom without neighbors\n",
      "RDKit WARNING: [23:06:57] WARNING: not removing hydrogen atom without neighbors\n",
      "RDKit WARNING: [23:06:57] WARNING: not removing hydrogen atom without neighbors\n"
     ]
    },
    {
     "name": "stdout",
     "output_type": "stream",
     "text": [
      "Successfully fetched 72/72 metabolites\n"
     ]
    }
   ],
   "source": [
    "downloader = atom_mapping.MolfileDownloader(metabolite_data)\n",
    "downloader.generate_molfile_database()"
   ]
  },
  {
   "cell_type": "markdown",
   "id": "e2fd2df9",
   "metadata": {},
   "source": [
    "Note: MolfileDownloader takes a second optional argument that allows user to specify preference of databases to search first. By default, 'InChI key -> InChI string -> structure' approach is preferred, and then databases are used for search. Check documentation for more information."
   ]
  },
  {
   "cell_type": "markdown",
   "id": "e807e9a6",
   "metadata": {},
   "source": [
    "#### Write reactions in RXN format"
   ]
  },
  {
   "cell_type": "markdown",
   "id": "23e9e707",
   "metadata": {},
   "source": [
    "Here, all of the obtained compound structure files are used to write reactions in RXN format, using `reaction_data` dataframe as a reference."
   ]
  },
  {
   "cell_type": "code",
   "execution_count": 7,
   "id": "df313fe0",
   "metadata": {},
   "outputs": [
    {
     "name": "stdout",
     "output_type": "stream",
     "text": [
      "Excluded BIOMASS_Ecoli_core_w_GAM reaction from mapping\n",
      "Generated 94/95\n"
     ]
    }
   ],
   "source": [
    "atom_mapping.write_rxn_files(reaction_data)"
   ]
  },
  {
   "cell_type": "markdown",
   "id": "39bfd6e0",
   "metadata": {},
   "source": [
    "#### Run RDT to obtain atom mappings"
   ]
  },
  {
   "cell_type": "markdown",
   "id": "5e24a2e5",
   "metadata": {},
   "source": [
    "RDT algorithm is downloaded and stored in the working directory (deleted after function is done). "
   ]
  },
  {
   "cell_type": "markdown",
   "id": "459d6b6e",
   "metadata": {},
   "source": [
    "**NOTE**: Java is required to run the algorithm, please make sure it's installed on your computer."
   ]
  },
  {
   "cell_type": "code",
   "execution_count": 8,
   "id": "f7d50194",
   "metadata": {},
   "outputs": [
    {
     "name": "stdout",
     "output_type": "stream",
     "text": [
      "Mapping reactions...\n",
      "Reactions mapped in total: 85/94\n"
     ]
    }
   ],
   "source": [
    "atom_mapping.obtain_atom_mappings(max_time=20) # specify time limit for single reaction"
   ]
  },
  {
   "cell_type": "markdown",
   "id": "29fd3bab",
   "metadata": {},
   "source": [
    "#### Parse data from generated mappings to suitable format for INCA"
   ]
  },
  {
   "cell_type": "code",
   "execution_count": 11,
   "id": "841634e1",
   "metadata": {},
   "outputs": [
    {
     "name": "stderr",
     "output_type": "stream",
     "text": [
      "RDKit WARNING: [23:23:18] WARNING: not removing hydrogen atom without neighbors\n",
      "RDKit WARNING: [23:23:18] WARNING: not removing hydrogen atom without neighbors\n"
     ]
    }
   ],
   "source": [
    "reaction_mapping_df = atom_mapping.parse_reaction_mappings()\n",
    "met_mapping_df = atom_mapping.parse_metabolite_mappings()"
   ]
  },
  {
   "cell_type": "markdown",
   "id": "0afc3974",
   "metadata": {},
   "source": [
    "#### Generate CSV output of mapping data"
   ]
  },
  {
   "cell_type": "code",
   "execution_count": 12,
   "id": "92f7ec99",
   "metadata": {},
   "outputs": [],
   "source": [
    "atom_mapping.generate_INCA_mapping_input(reaction_mapping_df, met_mapping_df)"
   ]
  },
  {
   "cell_type": "markdown",
   "id": "ba2dd63b",
   "metadata": {},
   "source": [
    "The generated CSV files can be used in general MFA workflow, as atom mapping inputs."
   ]
  },
  {
   "cell_type": "markdown",
   "id": "871a16f2",
   "metadata": {},
   "source": [
    "#### Clear the working directory of generated output (optional)"
   ]
  },
  {
   "cell_type": "code",
   "execution_count": 2,
   "id": "e8b0ba00",
   "metadata": {},
   "outputs": [],
   "source": [
    "atom_mapping.clean_output()"
   ]
  }
 ],
 "metadata": {
  "kernelspec": {
   "display_name": "Python [conda env:test]",
   "language": "python",
   "name": "conda-env-test-py"
  },
  "language_info": {
   "codemirror_mode": {
    "name": "ipython",
    "version": 3
   },
   "file_extension": ".py",
   "mimetype": "text/x-python",
   "name": "python",
   "nbconvert_exporter": "python",
   "pygments_lexer": "ipython3",
   "version": "3.7.3"
  }
 },
 "nbformat": 4,
 "nbformat_minor": 5
}
