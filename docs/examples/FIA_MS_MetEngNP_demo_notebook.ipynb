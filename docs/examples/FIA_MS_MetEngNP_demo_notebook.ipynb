{
 "cells": [
  {
   "cell_type": "markdown",
   "id": "5e5d348b",
   "metadata": {},
   "source": [
    "# FIA-MS data processing and visualization"
   ]
  },
  {
   "cell_type": "markdown",
   "id": "1dedf9e3",
   "metadata": {},
   "source": [
    "## Import dependencies and read in the data\n",
    "\n",
    "- Requires py v3.9 due to PyOpenMS dependencies\n",
    "- Requires custom installation of BFAIR (see https://github.com/AutoFlowResearch/BFAIR for instructions on installation)"
   ]
  },
  {
   "cell_type": "code",
   "execution_count": 1,
   "id": "62d64348",
   "metadata": {},
   "outputs": [],
   "source": [
    "# General py packages\n",
    "import seaborn as sns\n",
    "import matplotlib.pyplot as plt\n",
    "import pandas as pd\n",
    "import numpy as np\n",
    "import math\n",
    "\n",
    "# BFAIR py package\n",
    "import BFAIR.FIA_MS as fia_ms\n",
    "import BFAIR.normalization as normalization"
   ]
  },
  {
   "cell_type": "markdown",
   "id": "8c4424eb",
   "metadata": {},
   "source": [
    "Define functions and other shared sub-routines not yet integrated into the BFAIR modules"
   ]
  },
  {
   "cell_type": "code",
   "execution_count": 6,
   "id": "9feeb5f0",
   "metadata": {},
   "outputs": [],
   "source": [
    "def removeConstFeatures(metabolites, intensities):\n",
    "    \"\"\"\n",
    "    Remove singular or constant features\n",
    "    \n",
    "    Parameters\n",
    "    ----------\n",
    "    metabolites : list\n",
    "        list of unique metabolites\n",
    "    intensities : pandas.DataFrame\n",
    "        the extracted intensities\n",
    "    \n",
    "    Returns\n",
    "    -------\n",
    "    intensities : pandas.DataFrame\n",
    "        the filtered metabolites\n",
    "    \"\"\"\n",
    "    for i, metabolite in enumerate(metabolites):\n",
    "        row = intensities[intensities[\"Metabolite\"] == metabolite]\n",
    "        # filter out single- or constant-value features\n",
    "        if len(row) == 1 or np.std(row[\"Intensity\"]) == 0:\n",
    "            index = intensities.index[intensities[\"Metabolite\"] == metabolite].tolist()\n",
    "            intensities = intensities.drop(labels= index, axis = 0)\n",
    "    return intensities\n",
    "\n",
    "def removeNAFeatures(metabolites, intensities):\n",
    "    \"\"\"\n",
    "    Remove features with more than 50% NAs\n",
    "    \n",
    "    Parameters\n",
    "    ----------\n",
    "    metabolites : list\n",
    "        list of unique metabolites\n",
    "    intensities : pandas.DataFrame\n",
    "        the extracted intensities; modified in place\n",
    "    \n",
    "    Returns\n",
    "    -------\n",
    "    intensities : pandas.DataFrame\n",
    "        the filtered metabolites\n",
    "    \"\"\"\n",
    "    intensities_filtered_pivot = intensities.pivot(index=\"sample_group_name\", columns=\"Metabolite\", values=\"Intensity\")\n",
    "    for i, metabolite in enumerate(metabolites):\n",
    "        if intensities_filtered_pivot[metabolite].isna().sum() / intensities_filtered_pivot.shape[0] > 0.5:\n",
    "            index = intensities.index[intensities[\"Metabolite\"] == metabolite].tolist()\n",
    "            intensities = intensities.drop(labels= index, axis = 0)\n",
    "    return intensities\n",
    "\n",
    "def nonParametricRSD(intensities, threshold=0.3):\n",
    "    \"\"\"\n",
    "    Determine the ratio of features in QC samples that\n",
    "    have a non-parametric %RSD <= threshold\n",
    "    \n",
    "    Parameters\n",
    "    ----------\n",
    "    intensities : pandas.DataFrame\n",
    "        the extracted intensities; modified in place\n",
    "    threshold: float\n",
    "        the threshold to use\n",
    "    \n",
    "    Returns\n",
    "    -------\n",
    "    stats_qc_df: pandas.DataFrame\n",
    "        dataframe with columns for metabolites and the\n",
    "        Mean, Var, RSD, and np_RSD of each metabolite\n",
    "    ratio_np_RSD: float\n",
    "        the ratio of features below the threshold\n",
    "    ratio_RSD: float\n",
    "        the ratio of features below the threshold\n",
    "    \"\"\"\n",
    "    stats_qc_dict = {}\n",
    "\n",
    "    for met in intensities[\"Metabolite\"].unique():\n",
    "        intensities_met = intensities[intensities[\"Metabolite\"] == met]\n",
    "        \n",
    "        mean = np.mean(intensities_met[\"Intensity\"])\n",
    "        var = np.var(intensities_met[\"Intensity\"])\n",
    "        rsd = np.sqrt(var) / mean\n",
    "        \n",
    "        median = np.median(intensities_met[\"Intensity\"])\n",
    "        mad = np.median(np.absolute(intensities_met[\"Intensity\"] - median))\n",
    "        np_rsd = (1.4826 * mad) / median\n",
    "        \n",
    "        stats_qc_dict[met] = {\"Mean\" : mean,\n",
    "                            \"Var\" : var,\n",
    "                            \"RSD\" : rsd,\n",
    "                            \"np_RSD\" : np_rsd}\n",
    "\n",
    "    stats_qc_df = pd.DataFrame.from_dict(stats_qc_dict, \"index\")\n",
    "    ratio_np_RSD = stats_qc_df[stats_qc_df[\"np_RSD\"] <= threshold].shape[0] / stats_qc_df.shape[0]\n",
    "    ratio_RSD = stats_qc_df[stats_qc_df[\"RSD\"] <= threshold].shape[0] / stats_qc_df.shape[0]\n",
    "    return stats_qc_df, ratio_np_RSD, ratio_RSD\n",
    "\n",
    "def nonParametricDispersionRatio(intensities, intensities_QCs, threshold=0.5):\n",
    "    \"\"\"\n",
    "    Determine the dispersion ratio of QC samples that\n",
    "    have a non-parametric ratio <= threshold\n",
    "    \n",
    "    Parameters\n",
    "    ----------\n",
    "    intensities : pandas.DataFrame\n",
    "        the extracted intensities;\n",
    "    intensities_QCs : pandas.DataFrame\n",
    "        the extracted intensities of only the QCs\n",
    "    threshold: float\n",
    "        the threshold to use\n",
    "    \n",
    "    Returns\n",
    "    -------\n",
    "    stats_qc: pandas.DataFrame\n",
    "        dataframe with columns for metabolites and the\n",
    "        dispersion ratio of each metabolite\n",
    "    ratio_np: float\n",
    "        the ratio of features below the threshold for\n",
    "        the non parametric version\n",
    "    ratio_p: float\n",
    "        the ratio of features below the threshold for\n",
    "        the parametric version\n",
    "    \"\"\"\n",
    "    ratio_dict = {}\n",
    "\n",
    "    for met in intensities[\"Metabolite\"].unique():\n",
    "        \n",
    "        intensities_QC_met = intensities_QCs[intensities_QCs[\"Metabolite\"] == met]\n",
    "        median_qc = np.median(intensities_QC_met[\"Intensity\"])\n",
    "        mad_qc = np.median(np.absolute(intensities_QC_met[\"Intensity\"] - median_qc))\n",
    "        sd_qc = np.std(intensities_QC_met[\"Intensity\"])\n",
    "        \n",
    "        intensities_met = intensities[intensities[\"Metabolite\"] == met]\n",
    "        median = np.median(intensities_met[\"Intensity\"])\n",
    "        mad = np.median(np.absolute(intensities_met[\"Intensity\"] - median))\n",
    "        sd = np.std(intensities_met[\"Intensity\"])\n",
    "        \n",
    "        ratio_np = mad_qc / mad\n",
    "        ratio_p = sd_qc / sd\n",
    "\n",
    "        ratio_dict[met] = {\"dispersion_ratio_np\" : ratio_np,\n",
    "            \"dispersion_ratio_p\" : ratio_p}\n",
    "\n",
    "    dispersion_ratio_df = pd.DataFrame.from_dict(ratio_dict, \"index\")\n",
    "    dispersion_ratio_np = dispersion_ratio_df[dispersion_ratio_df[\"dispersion_ratio_np\"] <= threshold].shape[0] / dispersion_ratio_df.shape[0]\n",
    "    dispersion_ratio_p = dispersion_ratio_df[dispersion_ratio_df[\"dispersion_ratio_p\"] <= threshold].shape[0] / dispersion_ratio_df.shape[0]\n",
    "    return dispersion_ratio_df, dispersion_ratio_np, dispersion_ratio_p"
   ]
  },
  {
   "cell_type": "markdown",
   "id": "110d28e1",
   "metadata": {},
   "source": [
    "Set the directories"
   ]
  },
  {
   "cell_type": "code",
   "execution_count": 2,
   "id": "d1c17ea7",
   "metadata": {},
   "outputs": [],
   "source": [
    "feature_dir = \"Z:/Douglas/AutoFlow data/AFS Experiments/AFS-43-103_FIA-MS_MetEng-NP/features_Bruker\"\n",
    "sequence_dir = \"Z:/Douglas/AutoFlow data/SmartPeakBackup/20211212_FIA-MS_MetEngNPDemo/MetEng-NP-01_ScimaX\"\n",
    "database_dir = \"Z:/Douglas/AutoFlow data/SmartPeakBackup/20211212_FIA-MS_MetEngNPDemo/CHEMISTRY\"\n",
    "database_file = \"/yeastGEM-Tab-Str_struct.tsv\"\n",
    "sequence_file = \"/sequence_SCerevisiae.csv\""
   ]
  },
  {
   "cell_type": "markdown",
   "id": "ed93cf11",
   "metadata": {},
   "source": [
    "Read in the sequence and remove blank rows"
   ]
  },
  {
   "cell_type": "code",
   "execution_count": 3,
   "id": "7e98b298",
   "metadata": {},
   "outputs": [
    {
     "data": {
      "text/plain": [
       "<AxesSubplot:xlabel='sample_name'>"
      ]
     },
     "execution_count": 3,
     "metadata": {},
     "output_type": "execute_result"
    },
    {
     "data": {
      "image/png": "[encoded data removed]",
      "text/plain": [
       "<Figure size 432x288 with 1 Axes>"
      ]
     },
     "metadata": {
      "needs_background": "light"
     },
     "output_type": "display_data"
    }
   ],
   "source": [
    "sequence = pd.read_csv(sequence_dir + sequence_file, sep=\",\")\n",
    "sequence = sequence[sequence[\"sample_name\"].str.contains(\"BLANK\") == False]\n",
    "\n",
    "# Quick QC of the data\n",
    "sequence.plot(x=\"sample_name\", y=\"inj_number\", kind=\"line\")"
   ]
  },
  {
   "cell_type": "markdown",
   "id": "c5552c7c",
   "metadata": {},
   "source": [
    "Read in the database file"
   ]
  },
  {
   "cell_type": "code",
   "execution_count": 4,
   "id": "56bbc819",
   "metadata": {},
   "outputs": [],
   "source": [
    "database = pd.read_csv(database_dir + database_file, sep=\"\\t\", header=None)\n",
    "database = database.drop(database[database.iloc[:,0].str.contains(\"EXTRA\")].index)"
   ]
  },
  {
   "cell_type": "markdown",
   "id": "71421ed6",
   "metadata": {},
   "source": [
    "Extract all the relevant information from the provided .featureXML files"
   ]
  },
  {
   "cell_type": "code",
   "execution_count": 5,
   "id": "44a714d7",
   "metadata": {},
   "outputs": [
    {
     "data": {
      "text/plain": [
       "<AxesSubplot:xlabel='sample_group_name'>"
      ]
     },
     "execution_count": 5,
     "metadata": {},
     "output_type": "execute_result"
    },
    {
     "data": {
      "image/png": "[encoded data removed]",
      "text/plain": [
       "<Figure size 432x288 with 1 Axes>"
      ]
     },
     "metadata": {
      "needs_background": "light"
     },
     "output_type": "display_data"
    }
   ],
   "source": [
    "sample_names = sequence[\"sample_group_name\"].unique()\n",
    "replicate_names = sequence[\"replicate_group_name\"].unique()\n",
    "intensities = fia_ms.extractNamesAndIntensities(feature_dir, sample_names, database)\n",
    "\n",
    "# Remove \"HMDB:\" from metabolite IDs\n",
    "#intensities[\"Metabolite\"] = intensities[\"Metabolite\"].str.replace(\"HMDB:\", \"\")\n",
    "\n",
    "# Quick QC of the data\n",
    "intensities_selected = intensities[intensities[\"Metabolite\"] == \"8__hydroxygeraniol\"]\n",
    "intensities_selected.plot(x=\"sample_group_name\", y=\"Intensity\", kind=\"line\")"
   ]
  },
  {
   "cell_type": "markdown",
   "id": "d150183f",
   "metadata": {},
   "source": [
    "## Data filtering, normalization, quality control (QC), and basic statistical analysis"
   ]
  },
  {
   "cell_type": "markdown",
   "id": "e20803bd",
   "metadata": {},
   "source": [
    "Data filtering #1: remove single and constant value features"
   ]
  },
  {
   "cell_type": "code",
   "execution_count": 7,
   "id": "2968150d",
   "metadata": {},
   "outputs": [
    {
     "name": "stdout",
     "output_type": "stream",
     "text": [
      "Intensities  786185\n",
      "Intensities filtered  786185\n",
      "Intensities difference  0\n"
     ]
    }
   ],
   "source": [
    "metabolites = intensities[\"Metabolite\"].unique()\n",
    "\n",
    "intensities_filtered = removeConstFeatures(metabolites, intensities)\n",
    "print(\"Intensities \", intensities.shape[0])\n",
    "print(\"Intensities filtered \", intensities_filtered.shape[0])\n",
    "print(\"Intensities difference \", intensities.shape[0] - intensities_filtered.shape[0])"
   ]
  },
  {
   "cell_type": "markdown",
   "id": "c401b056",
   "metadata": {},
   "source": [
    "Date filtering #2: remove features with more than 50% NAs"
   ]
  },
  {
   "cell_type": "code",
   "execution_count": 8,
   "id": "d4366691",
   "metadata": {},
   "outputs": [
    {
     "name": "stdout",
     "output_type": "stream",
     "text": [
      "Percent filtered  7.707091842250868\n"
     ]
    }
   ],
   "source": [
    "metabolites = intensities_filtered[\"Metabolite\"].unique()\n",
    "\n",
    "intensities_filtered = removeNAFeatures(metabolites, intensities_filtered)\n",
    "print(\"Percent filtered \", 100 * (1 - (intensities_filtered.shape[0]/intensities.shape[0])))"
   ]
  },
  {
   "cell_type": "markdown",
   "id": "8fcf14ca",
   "metadata": {},
   "source": [
    "Data QC #1: non-parametric %RSD"
   ]
  },
  {
   "cell_type": "code",
   "execution_count": 9,
   "id": "ab5d2919",
   "metadata": {},
   "outputs": [
    {
     "name": "stdout",
     "output_type": "stream",
     "text": [
      "Percent QC features with NP RSD <= 0.3  0.042028985507246375\n",
      "Percent QC features with RSD <= 0.3  0.008695652173913044\n"
     ]
    }
   ],
   "source": [
    "intensities_QC = intensities_filtered[intensities_filtered[\"sample_group_name\"].str.contains(\"QC\")]\n",
    "\n",
    "stats_qc_df, ratio_np_RSD, ratio_RSD = nonParametricRSD(intensities_QC)\n",
    "print(\"Percent QC features with NP RSD <= 0.3 \", ratio_np_RSD)\n",
    "print(\"Percent QC features with RSD <= 0.3 \", ratio_RSD)"
   ]
  },
  {
   "cell_type": "markdown",
   "id": "f2d60b4b",
   "metadata": {},
   "source": [
    "Data QC #2: non-parametric dispersion ratio"
   ]
  },
  {
   "cell_type": "code",
   "execution_count": 10,
   "id": "3e3ab06c",
   "metadata": {},
   "outputs": [
    {
     "name": "stdout",
     "output_type": "stream",
     "text": [
      "Percent non parametric dispersion ratio <= 0.5  0.02318840579710145\n",
      "Percent parametric dispersion ratio <= 0.5  0.06811594202898551\n"
     ]
    }
   ],
   "source": [
    "intensities_QC = intensities_filtered[intensities_filtered[\"sample_group_name\"].str.contains(\"QC\")]\n",
    "\n",
    "dispersion_ratio_df, dispersion_ratio_np, dispersion_ratio_p = nonParametricDispersionRatio(intensities_filtered, intensities_QC)\n",
    "print(\"Percent non parametric dispersion ratio <= 0.5 \", dispersion_ratio_np)\n",
    "print(\"Percent parametric dispersion ratio <= 0.5 \", dispersion_ratio_p)"
   ]
  },
  {
   "cell_type": "markdown",
   "id": "ce343a97",
   "metadata": {},
   "source": [
    "Data normalize #1: Total sum intensity (tsi) sample normalization and log transformation"
   ]
  },
  {
   "cell_type": "code",
   "execution_count": 11,
   "id": "763c7ff1",
   "metadata": {},
   "outputs": [
    {
     "data": {
      "text/plain": [
       "array([[<AxesSubplot:title={'center':'Intensity'}>]], dtype=object)"
      ]
     },
     "execution_count": 11,
     "metadata": {},
     "output_type": "execute_result"
    },
    {
     "data": {
      "image/png": "[encoded data removed]",
      "text/plain": [
       "<Figure size 432x288 with 1 Axes>"
      ]
     },
     "metadata": {
      "needs_background": "light"
     },
     "output_type": "display_data"
    },
    {
     "data": {
      "image/png": "[encoded data removed]",
      "text/plain": [
       "<Figure size 432x288 with 1 Axes>"
      ]
     },
     "metadata": {
      "needs_background": "light"
     },
     "output_type": "display_data"
    },
    {
     "data": {
      "image/png": "[encoded data removed]",
      "text/plain": [
       "<Figure size 432x288 with 1 Axes>"
      ]
     },
     "metadata": {
      "needs_background": "light"
     },
     "output_type": "display_data"
    }
   ],
   "source": [
    "intensities_tsi = normalization.tsi_norm(intensities_filtered)\n",
    "intensities_tsi[\"Intensity\"] = np.log(intensities_tsi[\"Intensity\"])\n",
    "\n",
    "intensities_selected = intensities[intensities[\"Metabolite\"] == \"8__hydroxygeraniol\"]\n",
    "intensities_selected.plot(x=\"sample_group_name\", y=\"Intensity\", kind=\"line\")\n",
    "intensities_filtered.hist(\"Intensity\")\n",
    "intensities_tsi.hist(\"Intensity\")"
   ]
  },
  {
   "cell_type": "markdown",
   "id": "4b01f154",
   "metadata": {},
   "source": [
    "Data QC #3: parametric %RSD"
   ]
  },
  {
   "cell_type": "code",
   "execution_count": 12,
   "id": "ae6a136e",
   "metadata": {},
   "outputs": [
    {
     "name": "stdout",
     "output_type": "stream",
     "text": [
      "Percent QC features with NP RSD <= 0.3  1.0\n",
      "Percent QC features with RSD <= 0.3  1.0\n"
     ]
    }
   ],
   "source": [
    "normalized_intensities_QC = intensities_tsi[intensities_tsi[\"sample_group_name\"].str.contains(\"QC\")]\n",
    "stats_qc_df, ratio_np_RSD, ratio_RSD = nonParametricRSD(normalized_intensities_QC)\n",
    "print(\"Percent QC features with NP RSD <= 0.3 \", ratio_np_RSD)\n",
    "print(\"Percent QC features with RSD <= 0.3 \", ratio_RSD)"
   ]
  },
  {
   "cell_type": "markdown",
   "id": "1c07ebff",
   "metadata": {},
   "source": [
    "Data QC #4: parametric dispersion ratio"
   ]
  },
  {
   "cell_type": "code",
   "execution_count": 13,
   "id": "008e021e",
   "metadata": {},
   "outputs": [
    {
     "name": "stdout",
     "output_type": "stream",
     "text": [
      "Percent non parametric dispersion ratio <= 0.5  0.0536231884057971\n",
      "Percent parametric dispersion ratio <= 0.5  0.010144927536231883\n"
     ]
    }
   ],
   "source": [
    "normalized_intensities_QC = intensities_tsi[intensities_tsi[\"sample_group_name\"].str.contains(\"QC\")]\n",
    "dispersion_ratio_df, dispersion_ratio_np, dispersion_ratio_p = nonParametricDispersionRatio(intensities_tsi, normalized_intensities_QC)\n",
    "print(\"Percent non parametric dispersion ratio <= 0.5 \", dispersion_ratio_np)\n",
    "print(\"Percent parametric dispersion ratio <= 0.5 \", dispersion_ratio_p)\n"
   ]
  },
  {
   "cell_type": "markdown",
   "id": "7e1551b0",
   "metadata": {},
   "source": [
    "Data filtering #3: remove high variable features (QC > 30% RSD)"
   ]
  },
  {
   "cell_type": "code",
   "execution_count": 14,
   "id": "cdb432b0",
   "metadata": {},
   "outputs": [
    {
     "name": "stdout",
     "output_type": "stream",
     "text": [
      "Intensities  725593\n",
      "Intensities filtered  702441\n",
      "Intensities difference  23152\n"
     ]
    }
   ],
   "source": [
    "to_discard = stats_qc_df[np.abs(stats_qc_df[\"RSD\"]) > 0.3]\n",
    "to_discard.index.name = 'Metabolite'\n",
    "to_discard.reset_index(inplace=True)\n",
    "intensities_tsi_filt = intensities_tsi[~intensities_tsi[\"Metabolite\"].isin(to_discard[\"Metabolite\"])]\n",
    "\n",
    "print(\"Intensities \", intensities_tsi.shape[0])\n",
    "print(\"Intensities filtered \", intensities_tsi_filt.shape[0])\n",
    "print(\"Intensities difference \", intensities_tsi.shape[0] - intensities_tsi_filt.shape[0])"
   ]
  },
  {
   "cell_type": "markdown",
   "id": "e717b982",
   "metadata": {},
   "source": [
    "Data filtering #4: remove samples without the minimum number of replicates and highly variable features (> 50% RSD)"
   ]
  },
  {
   "cell_type": "code",
   "execution_count": 15,
   "id": "9cd06545",
   "metadata": {},
   "outputs": [],
   "source": [
    "%%capture\n",
    "intensities_stats = fia_ms.calculateMeanVarRSD(intensities_tsi_filt, sequence.drop_duplicates([\"sample_group_name\", \"replicate_group_name\"]), min_reps=2)"
   ]
  },
  {
   "cell_type": "code",
   "execution_count": null,
   "id": "28f81332",
   "metadata": {},
   "outputs": [
    {
     "name": "stdout",
     "output_type": "stream",
     "text": [
      "n discarded metabolites 1\n",
      "Intensities  702441\n",
      "Intensities filtered  701206\n",
      "Intensities difference  1235\n"
     ]
    }
   ],
   "source": [
    "# Filter metabolites\n",
    "to_discard = intensities_stats[np.abs(intensities_stats[\"RSD\"]) > 0.5]\n",
    "to_discard_mets = to_discard[\"Metabolite\"].unique()\n",
    "\n",
    "# Filter sample_group_names\n",
    "to_keep_injections = sequence[sequence[\"replicate_group_name\"].isin(intensities_stats[\"replicate_group_name\"])]\n",
    "\n",
    "intensities_tsi_filt2 = intensities_tsi_filt[~intensities_tsi_filt[\"Metabolite\"].isin(to_discard_mets) & intensities_tsi_filt[\"sample_group_name\"].isin(to_keep_injections[\"sample_group_name\"].unique())]\n",
    "print(\"n discarded metabolites\", len(to_discard_mets))\n",
    "print(\"Intensities \", intensities_tsi_filt.shape[0])\n",
    "print(\"Intensities filtered \", intensities_tsi_filt2.shape[0])\n",
    "print(\"Intensities difference \", intensities_tsi_filt.shape[0] - intensities_tsi_filt2.shape[0])"
   ]
  },
  {
   "cell_type": "markdown",
   "id": "62feffee",
   "metadata": {},
   "source": [
    "Data QC #5: Visualization of the mean and RSD"
   ]
  },
  {
   "cell_type": "code",
   "execution_count": null,
   "id": "1e8bb839",
   "metadata": {},
   "outputs": [],
   "source": [
    "#intensities_selected = intensities_stats[intensities_stats[\"Metabolite\"] == \"8__hydroxygeraniol\"]\n",
    "\n",
    "sns.violinplot(x=\"replicate_group_name\", y=\"Mean\", data=intensities_stats, orient = 'v')\n",
    "plt.xticks(rotation=70)\n",
    "plt.title('Mean', size = 20)"
   ]
  },
  {
   "cell_type": "code",
   "execution_count": null,
   "id": "31210769",
   "metadata": {},
   "outputs": [],
   "source": [
    "sns.violinplot(x=\"replicate_group_name\", y=\"RSD\", data=intensities_stats, orient = 'v')\n",
    "plt.xticks(rotation=70)\n",
    "plt.title('RSD', size = 20)"
   ]
  },
  {
   "cell_type": "markdown",
   "id": "177b1284",
   "metadata": {},
   "source": [
    "Data QC #5: PCA of replicates, blanks, and QCs"
   ]
  },
  {
   "cell_type": "code",
   "execution_count": null,
   "id": "be5e1ae5",
   "metadata": {},
   "outputs": [],
   "source": [
    "from sklearn.decomposition import PCA\n",
    "from sklearn.preprocessing import MinMaxScaler"
   ]
  },
  {
   "cell_type": "code",
   "execution_count": null,
   "id": "0e43c387",
   "metadata": {},
   "outputs": [],
   "source": [
    "# Split into smaller subsets by batch, polarity, compartment, etc.\n",
    "batch_names = [\"MetEngDemo\",\"NPDemo\"]\n",
    "scan_polarities = [\"positive\",\"negative\"]\n",
    "sample_types = [\"Blank\",\"QC\",\"Unknown\"]\n",
    "cellular_location = [\"exo-\", \"endo-\"]\n",
    "\n",
    "# Define the sequence subsets using the pattern batch_name/scan_polarity/sample_type/cellular_location\n",
    "sequence_MetEngDemo_Pos_All_All = sequence[sequence[\"batch_name\"].str.contains(\"MetEngDemo\") & sequence[\"replicate_group_name\"].str.contains(\"endo-\")]\n",
    "\n",
    "# Create the subset and pivot table\n",
    "intensities_subset = intensities_tsi_filt2[intensities_tsi_filt2[\"sample_group_name\"].isin(sequence_MetEngDemo_Pos_All_All[\"sample_group_name\"].unique())]\n",
    "intensities_piv = intensities_subset.pivot(\"sample_group_name\", \"Metabolite\", \"Intensity\")\n",
    "intensities_piv = intensities_piv.fillna(0)"
   ]
  },
  {
   "cell_type": "code",
   "execution_count": null,
   "id": "9cd64783",
   "metadata": {},
   "outputs": [],
   "source": [
    "# min/max scale the data\n",
    "scaler = MinMaxScaler()\n",
    "intensities_piv_scaled = scaler.fit_transform(intensities_piv)\n",
    "\n",
    "# pca\n",
    "pca = PCA(n_components = 10)\n",
    "comps = pca.fit_transform(intensities_piv_scaled)"
   ]
  },
  {
   "cell_type": "code",
   "execution_count": null,
   "id": "26c8f927",
   "metadata": {},
   "outputs": [],
   "source": [
    "# Scree plot\n",
    "print(pca.explained_variance_ratio_)\n",
    "PC_values = np.arange(pca.n_components_) + 1\n",
    "plt.plot(PC_values, pca.explained_variance_ratio_, 'o-', linewidth=2, color='blue')\n",
    "plt.title('Scree Plot')\n",
    "plt.xlabel('Principal Component')\n",
    "plt.ylabel('Variance Explained')\n",
    "plt.show()"
   ]
  },
  {
   "cell_type": "code",
   "execution_count": null,
   "id": "e42c0fc0",
   "metadata": {},
   "outputs": [],
   "source": [
    "# plot the scores\n",
    "data_plot = pd.DataFrame(data = comps, columns =  ['pca1', 'pca2',\n",
    "    'pca3', 'pca4', 'pca5', 'pca6', 'pca7', 'pca8', 'pca9', 'pca10'])\n",
    "\n",
    "# add in the sample_group_names as the labels\n",
    "labels = intensities_piv.index\n",
    "data_plot[\"sample_group_names\"] = labels\n",
    "\n",
    "# add in the replicate_group_name to define the colors\n",
    "data_plot[\"replicate_group_name\"] = \"\"\n",
    "for i,row in data_plot.iterrows():\n",
    "    index = np.where(sequence[\"sample_group_name\"] == row[\"sample_group_names\"])[0]\n",
    "    data_plot[\"replicate_group_name\"].iloc[i] = sequence[\"replicate_group_name\"][index[0]]\n",
    "\n",
    "# define the colors based on the replicate_group_names\n",
    "data_plot[\"color\"] = \"\"\n",
    "for i,row in data_plot.iterrows():\n",
    "    # add colors\n",
    "    if row[\"replicate_group_name\"] == \"exo-0-YPDSD-NA-QCPool_Pos\":\n",
    "        data_plot[\"color\"].iloc[i] = \"#000000\"\n",
    "    elif row[\"replicate_group_name\"] == \"exo-0-YPDSD-NA-QCPool_Neg\":\n",
    "        data_plot[\"color\"].iloc[i] = \"#929292\"\n",
    "    elif row[\"replicate_group_name\"] == \"exo-144-YPDFeed-Supp-yDmb31_Pos\":\n",
    "        data_plot[\"color\"].iloc[i] = \"#0037ea\"\n",
    "    elif row[\"replicate_group_name\"] == \"exo-144-YPDFeed-Supp-yDmb31_Neg\":\n",
    "        data_plot[\"color\"].iloc[i] = \"#00b5ff\"\n",
    "    else:\n",
    "        data_plot[\"color\"].iloc[i] = \"#feb24c\"\n",
    "\n",
    "# Make the PCA plot with loadings plot and scree plot for axes 1 to 3\n",
    "for j in range(1,4):\n",
    "    for k in range(j+1,4):\n",
    "\n",
    "        fig = plt.figure(figsize = (8,8))\n",
    "        ax = fig.add_subplot(1,1,1) \n",
    "        ax.set_xlabel('Principal Component ' + str(j) + ' ( ' + str(round(pca.explained_variance_[j-1])) + '% )' , fontsize = 20)\n",
    "        ax.set_ylabel('Principal Component ' + str(k) + ' ( ' + str(round(pca.explained_variance_[k-1])) + '% )' , fontsize = 20)\n",
    "        ax.set_title('PCA (Axis' + str(j) + ' & ' + str(k) + ')', fontsize = 20)\n",
    "\n",
    "        plt.grid(b=True, which='major', color='#666666', linestyle='-', alpha=0.1)\n",
    "        plt.xticks(size = 20)\n",
    "        #plt.xlabel(size = 20)\n",
    "        plt.yticks(size = 20)\n",
    "        #plt.ylabel(size = 20)\n",
    "\n",
    "        for i, label in enumerate(data_plot[\"sample_group_names\"]):\n",
    "            x, y = data_plot[\"pca\" + str(j)][i], data_plot[\"pca\" + str(k)][i]\n",
    "            ax.plot(x, y, \".\", markersize=15, label=label)\n",
    "            \n",
    "            ax.annotate(data_plot[\"sample_group_names\"][i], (x - 0.5 , y), weight='bold',\n",
    "                        color='white',\n",
    "                        bbox=dict(boxstyle=\"round\",\n",
    "                        facecolor=data_plot[\"color\"][i], edgecolor=data_plot[\"color\"][i],\n",
    "                       )\n",
    "                       )"
   ]
  },
  {
   "cell_type": "markdown",
   "id": "5b886dd6",
   "metadata": {},
   "source": [
    "Data QC #6: Check technical replicate correlation (R > 0.9)"
   ]
  },
  {
   "cell_type": "code",
   "execution_count": null,
   "id": "dedde75c",
   "metadata": {},
   "outputs": [],
   "source": [
    "# todo"
   ]
  },
  {
   "cell_type": "markdown",
   "id": "bcb93a61",
   "metadata": {},
   "source": [
    "## Statistical and pathway analyses"
   ]
  },
  {
   "cell_type": "markdown",
   "id": "61e07773",
   "metadata": {},
   "source": [
    "Hierarchical clustering analysis without pre-processing"
   ]
  },
  {
   "cell_type": "code",
   "execution_count": null,
   "id": "689d33af",
   "metadata": {},
   "outputs": [],
   "source": [
    "g = sns.clustermap(intensities_tsi_filt2, pivot_kws=[\"sample_group_name\", \"Metabolite\", \"Intensity\"], method=\"complete\", metric=\"euclidean\")"
   ]
  },
  {
   "cell_type": "markdown",
   "id": "b7c9fbe4",
   "metadata": {},
   "source": [
    "Clustering analysis with pre-processing using PCA"
   ]
  },
  {
   "cell_type": "code",
   "execution_count": null,
   "id": "6264a0f1",
   "metadata": {},
   "outputs": [],
   "source": [
    "from sklearn.cluster import AgglomerativeClustering\n",
    "from sklearn.metrics import adjusted_rand_score, adjusted_mutual_info_score, silhouette_score"
   ]
  },
  {
   "cell_type": "code",
   "execution_count": null,
   "id": "3f6a88fa",
   "metadata": {},
   "outputs": [],
   "source": [
    "# todo\n",
    "# Pre-process using PCA"
   ]
  },
  {
   "cell_type": "code",
   "execution_count": null,
   "id": "6a2641e7",
   "metadata": {},
   "outputs": [],
   "source": [
    "clustering = AgglomerativeClustering(n_clusters=3, linkage=\"ward\") #KMeans\n",
    "Y_preds = clustering.fit_predict(X)"
   ]
  },
  {
   "cell_type": "code",
   "execution_count": null,
   "id": "26e683a2",
   "metadata": {},
   "outputs": [],
   "source": [
    "def plot_actual_prediction(X, Y, Y_preds):\n",
    "    with plt.style.context((\"ggplot\", \"seaborn\")):\n",
    "        plt.figure(figsize=(17,6))\n",
    "\n",
    "        plt.subplot(1,2,1)\n",
    "        plt.scatter(X[Y==0,0],X[Y==0,1], c = 'red', marker=\"^\", s=50)\n",
    "        plt.scatter(X[Y==1,0],X[Y==1,1], c = 'green', marker=\"^\", s=50)\n",
    "        plt.scatter(X[Y==2,0],X[Y==2,1], c = 'blue', marker=\"^\", s=50)\n",
    "        plt.title(\"Original Data\")\n",
    "\n",
    "        plt.subplot(1,2,2)\n",
    "        plt.scatter(X[Y_preds==0,0],X[Y_preds==0,1], c = 'red', marker=\"^\", s=50)\n",
    "        plt.scatter(X[Y_preds==1,0],X[Y_preds==1,1], c = 'green', marker=\"^\", s=50)\n",
    "        plt.scatter(X[Y_preds==2,0],X[Y_preds==2,1], c = 'blue', marker=\"^\", s=50)\n",
    "\n",
    "        plt.title(\"Clustering Algorithm Prediction\")"
   ]
  },
  {
   "cell_type": "code",
   "execution_count": null,
   "id": "c90ddcbd",
   "metadata": {},
   "outputs": [],
   "source": [
    "adjusted_rand_score(Y, Y_preds)\n",
    "adjusted_mutual_info_score(Y, Y_preds)\n",
    "silhouette_score(Y, Y_preds, metric='euclidean')\n",
    "plot_actual_prediction(X, Y, Y_preds)"
   ]
  },
  {
   "cell_type": "code",
   "execution_count": null,
   "id": "7dedd0fe",
   "metadata": {},
   "outputs": [],
   "source": [
    "# todo"
   ]
  },
  {
   "cell_type": "markdown",
   "id": "4e610f54",
   "metadata": {},
   "source": [
    "Pathway enrichment analysis"
   ]
  },
  {
   "cell_type": "code",
   "execution_count": null,
   "id": "067e9f09",
   "metadata": {},
   "outputs": [],
   "source": [
    "# todo"
   ]
  },
  {
   "cell_type": "markdown",
   "id": "4d81ee2d",
   "metadata": {},
   "source": [
    "Volcano plot"
   ]
  },
  {
   "cell_type": "code",
   "execution_count": null,
   "id": "880b070c",
   "metadata": {},
   "outputs": [],
   "source": [
    "# todo"
   ]
  }
 ],
 "metadata": {
  "kernelspec": {
   "display_name": "Python 3",
   "language": "python",
   "name": "python3"
  },
  "language_info": {
   "codemirror_mode": {
    "name": "ipython",
    "version": 3
   },
   "file_extension": ".py",
   "mimetype": "text/x-python",
   "name": "python",
   "nbconvert_exporter": "python",
   "pygments_lexer": "ipython3",
   "version": "3.9.10"
  },
  "toc": {
   "base_numbering": 1,
   "nav_menu": {},
   "number_sections": true,
   "sideBar": true,
   "skip_h1_title": false,
   "title_cell": "Table of Contents",
   "title_sidebar": "Contents",
   "toc_cell": false,
   "toc_position": {},
   "toc_section_display": true,
   "toc_window_display": false
  }
 },
 "nbformat": 4,
 "nbformat_minor": 5
}
