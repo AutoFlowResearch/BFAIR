{
 "cells": [
  {
   "cell_type": "code",
   "execution_count": 1,
   "metadata": {},
   "outputs": [],
   "source": [
    "# General py packages\n",
    "import pandas as pd\n",
    "import xml.etree.ElementTree as ET"
   ]
  },
  {
   "cell_type": "code",
   "execution_count": null,
   "metadata": {},
   "outputs": [],
   "source": [
    "#filename = \"C:/Users/dmccl/Downloads/csf_metabolites/csf_metabolites.xml\"\n",
    "filename = \"C:/Users/dmccl/Downloads/hmdb_metabolites/hmdb_metabolites.xml\"\n",
    "pathway_dict = {}\n",
    "cnt = 1\n",
    "with open(filename, encoding=\"utf-8\") as file:\n",
    "    tree = ET.parse(file)\n",
    "    root = tree.getroot()\n",
    "    for metabolite in root:\n",
    "        if cnt > 10: break\n",
    "        # identifiers\n",
    "        name = metabolite.find(\"{http://www.hmdb.ca}name\")\n",
    "        formula = metabolite.find(\"{http://www.hmdb.ca}chemical_formula\")\n",
    "        accession = metabolite.find(\"{http://www.hmdb.ca}accession\")\n",
    "        inchi = metabolite.find(\"{http://www.hmdb.ca}inchi\")\n",
    "\n",
    "        # taxonomy\n",
    "        taxonomy = metabolite.find(\"{http://www.hmdb.ca}taxonomy\")\n",
    "        kingdom = taxonomy.find(\"{http://www.hmdb.ca}kingdom\")\n",
    "        super_class = taxonomy.find(\"{http://www.hmdb.ca}super_class\")\n",
    "        class_class = taxonomy.find(\"{http://www.hmdb.ca}class\")\n",
    "        sub_class = taxonomy.find(\"{http://www.hmdb.ca}sub_class\")\n",
    "        molecular_framework = taxonomy.find(\"{http://www.hmdb.ca}molecular_framework\")\n",
    "\n",
    "        # ontology\n",
    "        ontology = metabolite.find(\"{http://www.hmdb.ca}ontology\")\n",
    "        for root in ontology.findall(\"{http://www.hmdb.ca}root\"):\n",
    "            term = root.find(\"{http://www.hmdb.ca}term\")\n",
    "            if term.text == \"Process\":\n",
    "                try:\n",
    "                    descendants = root.find(\"{http://www.hmdb.ca}descendants\").find(\"{http://www.hmdb.ca}descendant\")\\\n",
    "                        .find(\"{http://www.hmdb.ca}descendants\").find(\"{http://www.hmdb.ca}descendant\")\\\n",
    "                        .find(\"{http://www.hmdb.ca}descendants\").find(\"{http://www.hmdb.ca}descendant\")\\\n",
    "                        .find(\"{http://www.hmdb.ca}descendants\").findall(\"{http://www.hmdb.ca}descendant\")\n",
    "                    for descendant in descendants:\n",
    "                        if not descendant: continue\n",
    "                        level = descendant.find(\"{http://www.hmdb.ca}level\")\n",
    "                        ont_term = descendant.find(\"{http://www.hmdb.ca}term\")\n",
    "                        definition = descendant.find(\"{http://www.hmdb.ca}definition\")\n",
    "                        if level.text == \"5\":\n",
    "                            pathway_dict[cnt] = {\"name\": name.text, \n",
    "                                \"formula\": formula.text, \n",
    "                                \"accession\": accession.text, \n",
    "                                \"inchi\": inchi.text, \n",
    "                                \"kingdom\": kingdom.text, \n",
    "                                \"super_class\": super_class.text, \n",
    "                                \"class\": class_class.text, \n",
    "                                \"sub_class\": sub_class.text, \n",
    "                                \"molecular_framework\": molecular_framework.text, \n",
    "                                \"ont_term\": ont_term.text, \n",
    "                                \"definition\": definition.text\n",
    "                                }\n",
    "                            cnt = cnt + 1\n",
    "                except Exception as e:\n",
    "                    pathway_dict[cnt] = {\"name\": name.text, \n",
    "                        \"formula\": formula.text, \n",
    "                        \"accession\": accession.text, \n",
    "                        \"inchi\": inchi.text, \n",
    "                        \"kingdom\": kingdom.text, \n",
    "                        \"super_class\": super_class.text, \n",
    "                        \"class\": class_class.text, \n",
    "                        \"sub_class\": sub_class.text, \n",
    "                        \"molecular_framework\": molecular_framework.text, \n",
    "                        \"ont_term\": \"\", \n",
    "                        \"definition\": \"\"\n",
    "                        }\n",
    "                    cnt = cnt + 1\n",
    "pathway_df = pd.DataFrame.from_dict(pathway_dict, \"index\")"
   ]
  },
  {
   "cell_type": "code",
   "execution_count": null,
   "metadata": {},
   "outputs": [
    {
     "data": {
      "text/html": [
       "<div>\n",
       "<style scoped>\n",
       "    .dataframe tbody tr th:only-of-type {\n",
       "        vertical-align: middle;\n",
       "    }\n",
       "\n",
       "    .dataframe tbody tr th {\n",
       "        vertical-align: top;\n",
       "    }\n",
       "\n",
       "    .dataframe thead th {\n",
       "        text-align: right;\n",
       "    }\n",
       "</style>\n",
       "<table border=\"1\" class=\"dataframe\">\n",
       "  <thead>\n",
       "    <tr style=\"text-align: right;\">\n",
       "      <th></th>\n",
       "      <th>name</th>\n",
       "      <th>formula</th>\n",
       "      <th>accession</th>\n",
       "      <th>inchi</th>\n",
       "      <th>kingdom</th>\n",
       "      <th>super_class</th>\n",
       "      <th>class</th>\n",
       "      <th>sub_class</th>\n",
       "      <th>molecular_framework</th>\n",
       "      <th>ont_term</th>\n",
       "      <th>definition</th>\n",
       "    </tr>\n",
       "  </thead>\n",
       "  <tbody>\n",
       "  </tbody>\n",
       "</table>\n",
       "</div>"
      ],
      "text/plain": [
       "Empty DataFrame\n",
       "Columns: [name, formula, accession, inchi, kingdom, super_class, class, sub_class, molecular_framework, ont_term, definition]\n",
       "Index: []"
      ]
     },
     "execution_count": 10,
     "metadata": {},
     "output_type": "execute_result"
    }
   ],
   "source": [
    "pathway_df.to_csv(\"C:/Users/dmccl/Downloads/hmdb_metabolites/hmdb_metabolites.csv\")"
   ]
  }
 ],
 "metadata": {
  "kernelspec": {
   "display_name": "Python 3.9.10 64-bit",
   "language": "python",
   "name": "python3"
  },
  "language_info": {
   "codemirror_mode": {
    "name": "ipython",
    "version": 3
   },
   "file_extension": ".py",
   "mimetype": "text/x-python",
   "name": "python",
   "nbconvert_exporter": "python",
   "pygments_lexer": "ipython3",
   "version": "3.9.10"
  },
  "orig_nbformat": 4,
  "vscode": {
   "interpreter": {
    "hash": "4d5a22cae0569218cf87e239d76c86c15ee6e114637a8aa40be8d28766ae2591"
   }
  }
 },
 "nbformat": 4,
 "nbformat_minor": 2
}
