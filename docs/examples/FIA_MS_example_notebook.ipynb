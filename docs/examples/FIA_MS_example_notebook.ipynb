{
 "cells": [
  {
   "cell_type": "markdown",
   "metadata": {},
   "source": [
    "# FIA-MS data processing and visualization"
   ]
  },
  {
   "cell_type": "markdown",
   "metadata": {},
   "source": [
    "This example notebook presents the use of the custom FIA-MS tools after data pre-processing using SmartPeak"
   ]
  },
  {
   "cell_type": "code",
   "execution_count": 3,
   "metadata": {},
   "outputs": [],
   "source": [
    "import seaborn as sns\n",
    "import matplotlib.pyplot as plt\n",
    "import pandas as pd\n",
    "import BFAIR.FIA_MS as fia_ms"
   ]
  },
  {
   "cell_type": "markdown",
   "metadata": {},
   "source": [
    "#### Define the location of the example files"
   ]
  },
  {
   "cell_type": "code",
   "execution_count": 6,
   "metadata": {},
   "outputs": [],
   "source": [
    "current_dir = %pwd"
   ]
  },
  {
   "cell_type": "code",
   "execution_count": 7,
   "metadata": {},
   "outputs": [],
   "source": [
    "feature_dir_example = (current_dir + \"/data/FIA_MS_example/features_AdditionalAdducts_example\")"
   ]
  },
  {
   "cell_type": "code",
   "execution_count": 8,
   "metadata": {},
   "outputs": [],
   "source": [
    "sequence_triplicates_example = pd.read_csv(current_dir + \"/data/FIA_MS_example/sequence_EColi_example.csv\", sep=\";\")"
   ]
  },
  {
   "cell_type": "code",
   "execution_count": 6,
   "metadata": {},
   "outputs": [],
   "source": [
    "sample_names_triplicates_example = sequence_triplicates_example[\"sample_group_name\"].unique()"
   ]
  },
  {
   "cell_type": "code",
   "execution_count": 7,
   "metadata": {},
   "outputs": [],
   "source": [
    "database_triplicates_example = pd.read_csv(current_dir + \"/data/FIA_MS_example/CHEMISTRY/iJO1366_struct.tsv\", sep=\"\\t\", header=None)"
   ]
  },
  {
   "cell_type": "markdown",
   "metadata": {},
   "source": [
    "### Run the custom FIA-MS data processing functions\n",
    "You will\n",
    "- Extract all the relevant information from the provided .featureXML files\n",
    "- Calculate basic statistics"
   ]
  },
  {
   "cell_type": "code",
   "execution_count": 8,
   "metadata": {},
   "outputs": [],
   "source": [
    "intensities_triplicates_example = fia_ms.extractNamesAndIntensities(feature_dir_example, sample_names_triplicates_example, database_triplicates_example)"
   ]
  },
  {
   "cell_type": "code",
   "execution_count": 9,
   "metadata": {},
   "outputs": [],
   "source": [
    "stats_triplicates_example = fia_ms.calculateMeanVarRSD(intensities_triplicates_example, sequence_triplicates_example.drop_duplicates([\"sample_group_name\", \"replicate_group_name\"]), min_reps=3)"
   ]
  },
  {
   "cell_type": "markdown",
   "metadata": {},
   "source": [
    "Have  quick look at what you extracted. The 'intensities_triplicates_example' should include all replicates of each sample"
   ]
  },
  {
   "cell_type": "code",
   "execution_count": 10,
   "metadata": {},
   "outputs": [
    {
     "data": {
      "text/html": [
       "<div>\n",
       "<style scoped>\n",
       "    .dataframe tbody tr th:only-of-type {\n",
       "        vertical-align: middle;\n",
       "    }\n",
       "\n",
       "    .dataframe tbody tr th {\n",
       "        vertical-align: top;\n",
       "    }\n",
       "\n",
       "    .dataframe thead th {\n",
       "        text-align: right;\n",
       "    }\n",
       "</style>\n",
       "<table border=\"1\" class=\"dataframe\">\n",
       "  <thead>\n",
       "    <tr style=\"text-align: right;\">\n",
       "      <th></th>\n",
       "      <th>sample_group_name</th>\n",
       "      <th>Metabolite</th>\n",
       "      <th>Formula</th>\n",
       "      <th>Intensity</th>\n",
       "    </tr>\n",
       "  </thead>\n",
       "  <tbody>\n",
       "    <tr>\n",
       "      <th>0</th>\n",
       "      <td>StressTest1_P1Ecoli_10xDil_1</td>\n",
       "      <td>10fthf_c</td>\n",
       "      <td>C20H23N7O7</td>\n",
       "      <td>5621.594727</td>\n",
       "    </tr>\n",
       "    <tr>\n",
       "      <th>1</th>\n",
       "      <td>StressTest1_P1Ecoli_10xDil_1</td>\n",
       "      <td>12dgr120_c</td>\n",
       "      <td>C27H52O5</td>\n",
       "      <td>43496.585938</td>\n",
       "    </tr>\n",
       "    <tr>\n",
       "      <th>2</th>\n",
       "      <td>StressTest1_P1Ecoli_10xDil_1</td>\n",
       "      <td>12dgr140_c</td>\n",
       "      <td>C31H60O5</td>\n",
       "      <td>11121.828125</td>\n",
       "    </tr>\n",
       "    <tr>\n",
       "      <th>3</th>\n",
       "      <td>StressTest1_P1Ecoli_10xDil_1</td>\n",
       "      <td>12dgr141_c</td>\n",
       "      <td>C31H56O5</td>\n",
       "      <td>6038.054688</td>\n",
       "    </tr>\n",
       "    <tr>\n",
       "      <th>4</th>\n",
       "      <td>StressTest1_P1Ecoli_10xDil_1</td>\n",
       "      <td>12dgr160_c</td>\n",
       "      <td>C35H68O5</td>\n",
       "      <td>1283.704712</td>\n",
       "    </tr>\n",
       "    <tr>\n",
       "      <th>...</th>\n",
       "      <td>...</td>\n",
       "      <td>...</td>\n",
       "      <td>...</td>\n",
       "      <td>...</td>\n",
       "    </tr>\n",
       "    <tr>\n",
       "      <th>12441</th>\n",
       "      <td>StressTest6_P1Ecoli_10xDil_3</td>\n",
       "      <td>xdp_c</td>\n",
       "      <td>C10H14N4O12P2</td>\n",
       "      <td>11845.142578</td>\n",
       "    </tr>\n",
       "    <tr>\n",
       "      <th>12442</th>\n",
       "      <td>StressTest6_P1Ecoli_10xDil_3</td>\n",
       "      <td>xmp_c</td>\n",
       "      <td>C10H13N4O9P1</td>\n",
       "      <td>96053.164062</td>\n",
       "    </tr>\n",
       "    <tr>\n",
       "      <th>12443</th>\n",
       "      <td>StressTest6_P1Ecoli_10xDil_3</td>\n",
       "      <td>xtp_c</td>\n",
       "      <td>C10H15N4O15P3</td>\n",
       "      <td>112053.515625</td>\n",
       "    </tr>\n",
       "    <tr>\n",
       "      <th>12444</th>\n",
       "      <td>StressTest6_P1Ecoli_10xDil_3</td>\n",
       "      <td>xtsn_c</td>\n",
       "      <td>C10H12N4O6</td>\n",
       "      <td>26376.486328</td>\n",
       "    </tr>\n",
       "    <tr>\n",
       "      <th>12445</th>\n",
       "      <td>StressTest6_P1Ecoli_10xDil_3</td>\n",
       "      <td>zn2_c</td>\n",
       "      <td>Zn</td>\n",
       "      <td>849215.750000</td>\n",
       "    </tr>\n",
       "  </tbody>\n",
       "</table>\n",
       "<p>12446 rows × 4 columns</p>\n",
       "</div>"
      ],
      "text/plain": [
       "                  sample_group_name  Metabolite        Formula      Intensity\n",
       "0      StressTest1_P1Ecoli_10xDil_1    10fthf_c     C20H23N7O7    5621.594727\n",
       "1      StressTest1_P1Ecoli_10xDil_1  12dgr120_c       C27H52O5   43496.585938\n",
       "2      StressTest1_P1Ecoli_10xDil_1  12dgr140_c       C31H60O5   11121.828125\n",
       "3      StressTest1_P1Ecoli_10xDil_1  12dgr141_c       C31H56O5    6038.054688\n",
       "4      StressTest1_P1Ecoli_10xDil_1  12dgr160_c       C35H68O5    1283.704712\n",
       "...                             ...         ...            ...            ...\n",
       "12441  StressTest6_P1Ecoli_10xDil_3       xdp_c  C10H14N4O12P2   11845.142578\n",
       "12442  StressTest6_P1Ecoli_10xDil_3       xmp_c   C10H13N4O9P1   96053.164062\n",
       "12443  StressTest6_P1Ecoli_10xDil_3       xtp_c  C10H15N4O15P3  112053.515625\n",
       "12444  StressTest6_P1Ecoli_10xDil_3      xtsn_c     C10H12N4O6   26376.486328\n",
       "12445  StressTest6_P1Ecoli_10xDil_3       zn2_c             Zn  849215.750000\n",
       "\n",
       "[12446 rows x 4 columns]"
      ]
     },
     "execution_count": 10,
     "metadata": {},
     "output_type": "execute_result"
    }
   ],
   "source": [
    "intensities_triplicates_example"
   ]
  },
  {
   "cell_type": "markdown",
   "metadata": {},
   "source": [
    "The summary statistics are reduced to one set per sample. Each of these sets is displayed here as one value per metabolite"
   ]
  },
  {
   "cell_type": "code",
   "execution_count": 11,
   "metadata": {},
   "outputs": [
    {
     "data": {
      "text/html": [
       "<div>\n",
       "<style scoped>\n",
       "    .dataframe tbody tr th:only-of-type {\n",
       "        vertical-align: middle;\n",
       "    }\n",
       "\n",
       "    .dataframe tbody tr th {\n",
       "        vertical-align: top;\n",
       "    }\n",
       "\n",
       "    .dataframe thead th {\n",
       "        text-align: right;\n",
       "    }\n",
       "</style>\n",
       "<table border=\"1\" class=\"dataframe\">\n",
       "  <thead>\n",
       "    <tr style=\"text-align: right;\">\n",
       "      <th></th>\n",
       "      <th>replicate_group_name</th>\n",
       "      <th>Metabolite</th>\n",
       "      <th>Formula</th>\n",
       "      <th>Mean</th>\n",
       "      <th>Variance</th>\n",
       "      <th>RSD</th>\n",
       "    </tr>\n",
       "  </thead>\n",
       "  <tbody>\n",
       "    <tr>\n",
       "      <th>0</th>\n",
       "      <td>StressTest1_P1Ecoli_10xDil</td>\n",
       "      <td>10fthf_c</td>\n",
       "      <td>C20H23N7O7</td>\n",
       "      <td>440600.703288</td>\n",
       "      <td>3.780837e+11</td>\n",
       "      <td>1.395561</td>\n",
       "    </tr>\n",
       "    <tr>\n",
       "      <th>1</th>\n",
       "      <td>StressTest1_P1Ecoli_10xDil</td>\n",
       "      <td>12dgr120_c</td>\n",
       "      <td>C27H52O5</td>\n",
       "      <td>21684.283122</td>\n",
       "      <td>2.979930e+08</td>\n",
       "      <td>0.796082</td>\n",
       "    </tr>\n",
       "    <tr>\n",
       "      <th>2</th>\n",
       "      <td>StressTest1_P1Ecoli_10xDil</td>\n",
       "      <td>12dgr140_c</td>\n",
       "      <td>C31H60O5</td>\n",
       "      <td>14263.744141</td>\n",
       "      <td>5.160214e+06</td>\n",
       "      <td>0.159258</td>\n",
       "    </tr>\n",
       "    <tr>\n",
       "      <th>3</th>\n",
       "      <td>StressTest1_P1Ecoli_10xDil</td>\n",
       "      <td>12dgr141_c</td>\n",
       "      <td>C31H56O5</td>\n",
       "      <td>21550.184896</td>\n",
       "      <td>1.235015e+08</td>\n",
       "      <td>0.515686</td>\n",
       "    </tr>\n",
       "    <tr>\n",
       "      <th>4</th>\n",
       "      <td>StressTest1_P1Ecoli_10xDil</td>\n",
       "      <td>12dgr160_c</td>\n",
       "      <td>C35H68O5</td>\n",
       "      <td>5445.853719</td>\n",
       "      <td>1.055232e+07</td>\n",
       "      <td>0.596497</td>\n",
       "    </tr>\n",
       "    <tr>\n",
       "      <th>...</th>\n",
       "      <td>...</td>\n",
       "      <td>...</td>\n",
       "      <td>...</td>\n",
       "      <td>...</td>\n",
       "      <td>...</td>\n",
       "      <td>...</td>\n",
       "    </tr>\n",
       "    <tr>\n",
       "      <th>3827</th>\n",
       "      <td>StressTest6_P1Ecoli_10xDil</td>\n",
       "      <td>xdp_c</td>\n",
       "      <td>C10H14N4O12P2</td>\n",
       "      <td>49623.711589</td>\n",
       "      <td>7.158530e+08</td>\n",
       "      <td>0.539166</td>\n",
       "    </tr>\n",
       "    <tr>\n",
       "      <th>3828</th>\n",
       "      <td>StressTest6_P1Ecoli_10xDil</td>\n",
       "      <td>xmp_c</td>\n",
       "      <td>C10H13N4O9P1</td>\n",
       "      <td>53341.607747</td>\n",
       "      <td>1.492658e+09</td>\n",
       "      <td>0.724293</td>\n",
       "    </tr>\n",
       "    <tr>\n",
       "      <th>3829</th>\n",
       "      <td>StressTest6_P1Ecoli_10xDil</td>\n",
       "      <td>xtp_c</td>\n",
       "      <td>C10H15N4O15P3</td>\n",
       "      <td>45543.629557</td>\n",
       "      <td>2.248106e+09</td>\n",
       "      <td>1.041072</td>\n",
       "    </tr>\n",
       "    <tr>\n",
       "      <th>3830</th>\n",
       "      <td>StressTest6_P1Ecoli_10xDil</td>\n",
       "      <td>xtsn_c</td>\n",
       "      <td>C10H12N4O6</td>\n",
       "      <td>103514.869141</td>\n",
       "      <td>6.972373e+09</td>\n",
       "      <td>0.806655</td>\n",
       "    </tr>\n",
       "    <tr>\n",
       "      <th>3831</th>\n",
       "      <td>StressTest6_P1Ecoli_10xDil</td>\n",
       "      <td>zn2_c</td>\n",
       "      <td>Zn</td>\n",
       "      <td>913311.583333</td>\n",
       "      <td>5.827480e+09</td>\n",
       "      <td>0.083584</td>\n",
       "    </tr>\n",
       "  </tbody>\n",
       "</table>\n",
       "<p>3832 rows × 6 columns</p>\n",
       "</div>"
      ],
      "text/plain": [
       "            replicate_group_name  Metabolite        Formula           Mean  \\\n",
       "0     StressTest1_P1Ecoli_10xDil    10fthf_c     C20H23N7O7  440600.703288   \n",
       "1     StressTest1_P1Ecoli_10xDil  12dgr120_c       C27H52O5   21684.283122   \n",
       "2     StressTest1_P1Ecoli_10xDil  12dgr140_c       C31H60O5   14263.744141   \n",
       "3     StressTest1_P1Ecoli_10xDil  12dgr141_c       C31H56O5   21550.184896   \n",
       "4     StressTest1_P1Ecoli_10xDil  12dgr160_c       C35H68O5    5445.853719   \n",
       "...                          ...         ...            ...            ...   \n",
       "3827  StressTest6_P1Ecoli_10xDil       xdp_c  C10H14N4O12P2   49623.711589   \n",
       "3828  StressTest6_P1Ecoli_10xDil       xmp_c   C10H13N4O9P1   53341.607747   \n",
       "3829  StressTest6_P1Ecoli_10xDil       xtp_c  C10H15N4O15P3   45543.629557   \n",
       "3830  StressTest6_P1Ecoli_10xDil      xtsn_c     C10H12N4O6  103514.869141   \n",
       "3831  StressTest6_P1Ecoli_10xDil       zn2_c             Zn  913311.583333   \n",
       "\n",
       "          Variance       RSD  \n",
       "0     3.780837e+11  1.395561  \n",
       "1     2.979930e+08  0.796082  \n",
       "2     5.160214e+06  0.159258  \n",
       "3     1.235015e+08  0.515686  \n",
       "4     1.055232e+07  0.596497  \n",
       "...            ...       ...  \n",
       "3827  7.158530e+08  0.539166  \n",
       "3828  1.492658e+09  0.724293  \n",
       "3829  2.248106e+09  1.041072  \n",
       "3830  6.972373e+09  0.806655  \n",
       "3831  5.827480e+09  0.083584  \n",
       "\n",
       "[3832 rows x 6 columns]"
      ]
     },
     "execution_count": 11,
     "metadata": {},
     "output_type": "execute_result"
    }
   ],
   "source": [
    "stats_triplicates_example"
   ]
  },
  {
   "cell_type": "markdown",
   "metadata": {},
   "source": [
    "### Visualize the data"
   ]
  },
  {
   "cell_type": "markdown",
   "metadata": {},
   "source": [
    "After importing and processing the data, we can visulaize it. A good place to start is to have a look at the distributions of its mean values and the corresponding relative standard deviations."
   ]
  },
  {
   "cell_type": "markdown",
   "metadata": {},
   "source": [
    "#### Mean"
   ]
  },
  {
   "cell_type": "code",
   "execution_count": 12,
   "metadata": {},
   "outputs": [
    {
     "data": {
      "text/plain": [
       "Text(0.5, 1.0, 'Mean')"
      ]
     },
     "execution_count": 12,
     "metadata": {},
     "output_type": "execute_result"
    },
    {
     "data": {
      "image/png": "[encoded data removed]",
      "text/plain": [
       "<Figure size 432x288 with 1 Axes>"
      ]
     },
     "metadata": {
      "needs_background": "light"
     },
     "output_type": "display_data"
    }
   ],
   "source": [
    "sns.violinplot(x=\"replicate_group_name\", y=\"Mean\", data=stats_triplicates_example, orient = 'v')\n",
    "plt.xticks(rotation=70)\n",
    "plt.title('Mean', size = 20)"
   ]
  },
  {
   "cell_type": "markdown",
   "metadata": {},
   "source": [
    "#### RSD"
   ]
  },
  {
   "cell_type": "code",
   "execution_count": 13,
   "metadata": {},
   "outputs": [
    {
     "data": {
      "text/plain": [
       "Text(0.5, 1.0, 'RSD')"
      ]
     },
     "execution_count": 13,
     "metadata": {},
     "output_type": "execute_result"
    },
    {
     "data": {
      "image/png": "[encoded data removed]",
      "text/plain": [
       "<Figure size 432x288 with 1 Axes>"
      ]
     },
     "metadata": {
      "needs_background": "light"
     },
     "output_type": "display_data"
    }
   ],
   "source": [
    "sns.violinplot(x=\"replicate_group_name\", y=\"RSD\", data=stats_triplicates_example, orient = 'v')\n",
    "plt.xticks(rotation=70)\n",
    "plt.title('RSD', size = 20)"
   ]
  },
  {
   "cell_type": "markdown",
   "metadata": {},
   "source": [
    "### Separate the data\n",
    "#### You can also separate the data based on for example the 'replicate_group_name' in order to visualize certain parts of it\n",
    "Split the data by 'replicate_group_name'. Here we do that only for the first sample in the dataset"
   ]
  },
  {
   "cell_type": "code",
   "execution_count": 14,
   "metadata": {},
   "outputs": [
    {
     "data": {
      "text/plain": [
       "['StressTest1_P1Ecoli_10xDil',\n",
       " 'StressTest2_P1Ecoli_10xDil',\n",
       " 'StressTest3_P1Ecoli_10xDil',\n",
       " 'StressTest4_P1Ecoli_10xDil',\n",
       " 'StressTest5_P1Ecoli_10xDil',\n",
       " 'StressTest6_P1Ecoli_10xDil']"
      ]
     },
     "execution_count": 14,
     "metadata": {},
     "output_type": "execute_result"
    }
   ],
   "source": [
    "samples = list(stats_triplicates_example['replicate_group_name'].unique())\n",
    "samples"
   ]
  },
  {
   "cell_type": "code",
   "execution_count": 15,
   "metadata": {},
   "outputs": [],
   "source": [
    "StressTest1_P1Ecoli_10xDil = stats_triplicates_example[stats_triplicates_example['replicate_group_name'] == samples[0]]"
   ]
  },
  {
   "cell_type": "code",
   "execution_count": 16,
   "metadata": {},
   "outputs": [
    {
     "data": {
      "text/plain": [
       "(array([0]), [Text(0, 0, 'StressTest1_P1Ecoli_10xDil')])"
      ]
     },
     "execution_count": 16,
     "metadata": {},
     "output_type": "execute_result"
    },
    {
     "data": {
      "image/png": "[encoded data removed]",
      "text/plain": [
       "<Figure size 432x288 with 1 Axes>"
      ]
     },
     "metadata": {
      "needs_background": "light"
     },
     "output_type": "display_data"
    }
   ],
   "source": [
    "sns.violinplot(x=\"replicate_group_name\", y=\"Mean\", data=StressTest1_P1Ecoli_10xDil, orient = 'v')\n",
    "plt.xticks(rotation=70)"
   ]
  },
  {
   "cell_type": "code",
   "execution_count": 17,
   "metadata": {},
   "outputs": [
    {
     "data": {
      "text/plain": [
       "(array([0]), [Text(0, 0, 'StressTest1_P1Ecoli_10xDil')])"
      ]
     },
     "execution_count": 17,
     "metadata": {},
     "output_type": "execute_result"
    },
    {
     "data": {
      "image/png": "[encoded data removed]",
      "text/plain": [
       "<Figure size 432x288 with 1 Axes>"
      ]
     },
     "metadata": {
      "needs_background": "light"
     },
     "output_type": "display_data"
    }
   ],
   "source": [
    "sns.violinplot(x=\"replicate_group_name\", y=\"RSD\", data=StressTest1_P1Ecoli_10xDil, orient = 'v')\n",
    "plt.xticks(rotation=70)"
   ]
  },
  {
   "cell_type": "code",
   "execution_count": null,
   "metadata": {},
   "outputs": [],
   "source": []
  }
 ],
 "metadata": {
  "kernelspec": {
   "display_name": "FIA-MS",
   "language": "python",
   "name": "fia-ms"
  },
  "language_info": {
   "codemirror_mode": {
    "name": "ipython",
    "version": 3
   },
   "file_extension": ".py",
   "mimetype": "text/x-python",
   "name": "python",
   "nbconvert_exporter": "python",
   "pygments_lexer": "ipython3",
   "version": "3.7.9"
  }
 },
 "nbformat": 4,
 "nbformat_minor": 4
}
